{
  "nbformat": 4,
  "nbformat_minor": 0,
  "metadata": {
    "colab": {
      "name": "MusicApp_Churn",
      "provenance": [],
      "collapsed_sections": [],
      "toc_visible": true,
      "include_colab_link": true
    },
    "kernelspec": {
      "name": "python3",
      "display_name": "Python 3"
    }
  },
  "cells": [
    {
      "cell_type": "markdown",
      "metadata": {
        "id": "view-in-github",
        "colab_type": "text"
      },
      "source": [
        "<a href=\"https://colab.research.google.com/github/shivani1912/MusicApp_Churn/blob/master/MusicApp_Churn.ipynb\" target=\"_parent\"><img src=\"https://colab.research.google.com/assets/colab-badge.svg\" alt=\"Open In Colab\"/></a>"
      ]
    },
    {
      "cell_type": "markdown",
      "metadata": {
        "id": "4TYmRn4n-DJe",
        "colab_type": "text"
      },
      "source": [
        "**Context:**\n",
        "Music Streaming Industry\n",
        "Subscription based model\n",
        "Seeking market share\n",
        "\n",
        "**Business Problem:**\n",
        "We’re losing customers at a\n",
        "9% churn rate\n",
        "\n",
        "**Our Objective:** Identifying at\n",
        "risk customers\n",
        "\n"
      ]
    },
    {
      "cell_type": "code",
      "metadata": {
        "id": "QrTdorFZu1lG",
        "colab_type": "code",
        "colab": {
          "base_uri": "https://localhost:8080/",
          "height": 1000
        },
        "outputId": "c2a9950a-1f7b-44ee-ec08-6ae61a6a9246"
      },
      "source": [
        "!apt-get install openjdk-8-jdk-headless -qq > /dev/null\n",
        "!pip install -q findspark\n",
        "!wget -q https://downloads.apache.org/spark/spark-3.0.0-preview2/spark-3.0.0-preview2-bin-hadoop2.7.tgz\n",
        "!tar xvf spark-3.0.0-preview2-bin-hadoop2.7.tgz"
      ],
      "execution_count": null,
      "outputs": [
        {
          "output_type": "stream",
          "text": [
            "spark-3.0.0-preview2-bin-hadoop2.7/\n",
            "spark-3.0.0-preview2-bin-hadoop2.7/data/\n",
            "spark-3.0.0-preview2-bin-hadoop2.7/data/streaming/\n",
            "spark-3.0.0-preview2-bin-hadoop2.7/data/streaming/AFINN-111.txt\n",
            "spark-3.0.0-preview2-bin-hadoop2.7/data/mllib/\n",
            "spark-3.0.0-preview2-bin-hadoop2.7/data/mllib/sample_binary_classification_data.txt\n",
            "spark-3.0.0-preview2-bin-hadoop2.7/data/mllib/sample_kmeans_data.txt\n",
            "spark-3.0.0-preview2-bin-hadoop2.7/data/mllib/sample_multiclass_classification_data.txt\n",
            "spark-3.0.0-preview2-bin-hadoop2.7/data/mllib/sample_lda_libsvm_data.txt\n",
            "spark-3.0.0-preview2-bin-hadoop2.7/data/mllib/iris_libsvm.txt\n",
            "spark-3.0.0-preview2-bin-hadoop2.7/data/mllib/pagerank_data.txt\n",
            "spark-3.0.0-preview2-bin-hadoop2.7/data/mllib/sample_linear_regression_data.txt\n",
            "spark-3.0.0-preview2-bin-hadoop2.7/data/mllib/pic_data.txt\n",
            "spark-3.0.0-preview2-bin-hadoop2.7/data/mllib/als/\n",
            "spark-3.0.0-preview2-bin-hadoop2.7/data/mllib/als/test.data\n",
            "spark-3.0.0-preview2-bin-hadoop2.7/data/mllib/als/sample_movielens_ratings.txt\n",
            "spark-3.0.0-preview2-bin-hadoop2.7/data/mllib/ridge-data/\n",
            "spark-3.0.0-preview2-bin-hadoop2.7/data/mllib/ridge-data/lpsa.data\n",
            "spark-3.0.0-preview2-bin-hadoop2.7/data/mllib/sample_movielens_data.txt\n",
            "spark-3.0.0-preview2-bin-hadoop2.7/data/mllib/sample_isotonic_regression_libsvm_data.txt\n",
            "spark-3.0.0-preview2-bin-hadoop2.7/data/mllib/sample_svm_data.txt\n",
            "spark-3.0.0-preview2-bin-hadoop2.7/data/mllib/kmeans_data.txt\n",
            "spark-3.0.0-preview2-bin-hadoop2.7/data/mllib/sample_libsvm_data.txt\n",
            "spark-3.0.0-preview2-bin-hadoop2.7/data/mllib/images/\n",
            "spark-3.0.0-preview2-bin-hadoop2.7/data/mllib/images/origin/\n",
            "spark-3.0.0-preview2-bin-hadoop2.7/data/mllib/images/origin/multi-channel/\n",
            "spark-3.0.0-preview2-bin-hadoop2.7/data/mllib/images/origin/multi-channel/grayscale.jpg\n",
            "spark-3.0.0-preview2-bin-hadoop2.7/data/mllib/images/origin/multi-channel/BGRA.png\n",
            "spark-3.0.0-preview2-bin-hadoop2.7/data/mllib/images/origin/multi-channel/chr30.4.184.jpg\n",
            "spark-3.0.0-preview2-bin-hadoop2.7/data/mllib/images/origin/multi-channel/BGRA_alpha_60.png\n",
            "spark-3.0.0-preview2-bin-hadoop2.7/data/mllib/images/origin/kittens/\n",
            "spark-3.0.0-preview2-bin-hadoop2.7/data/mllib/images/origin/kittens/not-image.txt\n",
            "spark-3.0.0-preview2-bin-hadoop2.7/data/mllib/images/origin/kittens/54893.jpg\n",
            "spark-3.0.0-preview2-bin-hadoop2.7/data/mllib/images/origin/kittens/DP153539.jpg\n",
            "spark-3.0.0-preview2-bin-hadoop2.7/data/mllib/images/origin/kittens/29.5.a_b_EGDP022204.jpg\n",
            "spark-3.0.0-preview2-bin-hadoop2.7/data/mllib/images/origin/kittens/DP802813.jpg\n",
            "spark-3.0.0-preview2-bin-hadoop2.7/data/mllib/images/origin/license.txt\n",
            "spark-3.0.0-preview2-bin-hadoop2.7/data/mllib/images/partitioned/\n",
            "spark-3.0.0-preview2-bin-hadoop2.7/data/mllib/images/partitioned/cls=multichannel/\n",
            "spark-3.0.0-preview2-bin-hadoop2.7/data/mllib/images/partitioned/cls=multichannel/date=2018-01/\n",
            "spark-3.0.0-preview2-bin-hadoop2.7/data/mllib/images/partitioned/cls=multichannel/date=2018-01/BGRA.png\n",
            "spark-3.0.0-preview2-bin-hadoop2.7/data/mllib/images/partitioned/cls=multichannel/date=2018-01/BGRA_alpha_60.png\n",
            "spark-3.0.0-preview2-bin-hadoop2.7/data/mllib/images/partitioned/cls=multichannel/date=2018-02/\n",
            "spark-3.0.0-preview2-bin-hadoop2.7/data/mllib/images/partitioned/cls=multichannel/date=2018-02/grayscale.jpg\n",
            "spark-3.0.0-preview2-bin-hadoop2.7/data/mllib/images/partitioned/cls=multichannel/date=2018-02/chr30.4.184.jpg\n",
            "spark-3.0.0-preview2-bin-hadoop2.7/data/mllib/images/partitioned/cls=kittens/\n",
            "spark-3.0.0-preview2-bin-hadoop2.7/data/mllib/images/partitioned/cls=kittens/date=2018-01/\n",
            "spark-3.0.0-preview2-bin-hadoop2.7/data/mllib/images/partitioned/cls=kittens/date=2018-01/not-image.txt\n",
            "spark-3.0.0-preview2-bin-hadoop2.7/data/mllib/images/partitioned/cls=kittens/date=2018-01/29.5.a_b_EGDP022204.jpg\n",
            "spark-3.0.0-preview2-bin-hadoop2.7/data/mllib/images/partitioned/cls=kittens/date=2018-02/\n",
            "spark-3.0.0-preview2-bin-hadoop2.7/data/mllib/images/partitioned/cls=kittens/date=2018-02/54893.jpg\n",
            "spark-3.0.0-preview2-bin-hadoop2.7/data/mllib/images/partitioned/cls=kittens/date=2018-02/DP153539.jpg\n",
            "spark-3.0.0-preview2-bin-hadoop2.7/data/mllib/images/partitioned/cls=kittens/date=2018-02/DP802813.jpg\n",
            "spark-3.0.0-preview2-bin-hadoop2.7/data/mllib/images/license.txt\n",
            "spark-3.0.0-preview2-bin-hadoop2.7/data/mllib/streaming_kmeans_data_test.txt\n",
            "spark-3.0.0-preview2-bin-hadoop2.7/data/mllib/sample_lda_data.txt\n",
            "spark-3.0.0-preview2-bin-hadoop2.7/data/mllib/gmm_data.txt\n",
            "spark-3.0.0-preview2-bin-hadoop2.7/data/mllib/sample_fpgrowth.txt\n",
            "spark-3.0.0-preview2-bin-hadoop2.7/data/graphx/\n",
            "spark-3.0.0-preview2-bin-hadoop2.7/data/graphx/followers.txt\n",
            "spark-3.0.0-preview2-bin-hadoop2.7/data/graphx/users.txt\n",
            "spark-3.0.0-preview2-bin-hadoop2.7/licenses/\n",
            "spark-3.0.0-preview2-bin-hadoop2.7/licenses/LICENSE-javassist.html\n",
            "spark-3.0.0-preview2-bin-hadoop2.7/licenses/LICENSE-protobuf.txt\n",
            "spark-3.0.0-preview2-bin-hadoop2.7/licenses/LICENSE-jakarta.xml.bind-api.txt\n",
            "spark-3.0.0-preview2-bin-hadoop2.7/licenses/LICENSE-dnsjava.txt\n",
            "spark-3.0.0-preview2-bin-hadoop2.7/licenses/LICENSE-CC0.txt\n",
            "spark-3.0.0-preview2-bin-hadoop2.7/licenses/LICENSE-leveldbjni.txt\n",
            "spark-3.0.0-preview2-bin-hadoop2.7/licenses/LICENSE-jakarta-ws-rs-api\n",
            "spark-3.0.0-preview2-bin-hadoop2.7/licenses/LICENSE-re2j.txt\n",
            "spark-3.0.0-preview2-bin-hadoop2.7/licenses/LICENSE-vis.txt\n",
            "spark-3.0.0-preview2-bin-hadoop2.7/licenses/LICENSE-d3.min.js.txt\n",
            "spark-3.0.0-preview2-bin-hadoop2.7/licenses/LICENSE-dagre-d3.txt\n",
            "spark-3.0.0-preview2-bin-hadoop2.7/licenses/LICENSE-jaxb-runtime.txt\n",
            "spark-3.0.0-preview2-bin-hadoop2.7/licenses/LICENSE-matchMedia-polyfill.txt\n",
            "spark-3.0.0-preview2-bin-hadoop2.7/licenses/LICENSE-mustache.txt\n",
            "spark-3.0.0-preview2-bin-hadoop2.7/licenses/LICENSE-arpack.txt\n",
            "spark-3.0.0-preview2-bin-hadoop2.7/licenses/LICENSE-pmml-model.txt\n",
            "spark-3.0.0-preview2-bin-hadoop2.7/licenses/LICENSE-sorttable.js.txt\n",
            "spark-3.0.0-preview2-bin-hadoop2.7/licenses/LICENSE-pyrolite.txt\n",
            "spark-3.0.0-preview2-bin-hadoop2.7/licenses/LICENSE-javolution.txt\n",
            "spark-3.0.0-preview2-bin-hadoop2.7/licenses/LICENSE-javax-transaction-transaction-api.txt\n",
            "spark-3.0.0-preview2-bin-hadoop2.7/licenses/LICENSE-JTransforms.txt\n",
            "spark-3.0.0-preview2-bin-hadoop2.7/licenses/LICENSE-join.txt\n",
            "spark-3.0.0-preview2-bin-hadoop2.7/licenses/LICENSE-machinist.txt\n",
            "spark-3.0.0-preview2-bin-hadoop2.7/licenses/LICENSE-py4j.txt\n",
            "spark-3.0.0-preview2-bin-hadoop2.7/licenses/LICENSE-slf4j.txt\n",
            "spark-3.0.0-preview2-bin-hadoop2.7/licenses/LICENSE-AnchorJS.txt\n",
            "spark-3.0.0-preview2-bin-hadoop2.7/licenses/LICENSE-heapq.txt\n",
            "spark-3.0.0-preview2-bin-hadoop2.7/licenses/LICENSE-istack-commons-runtime.txt\n",
            "spark-3.0.0-preview2-bin-hadoop2.7/licenses/LICENSE-scopt.txt\n",
            "spark-3.0.0-preview2-bin-hadoop2.7/licenses/LICENSE-scala.txt\n",
            "spark-3.0.0-preview2-bin-hadoop2.7/licenses/LICENSE-jakarta.activation-api.txt\n",
            "spark-3.0.0-preview2-bin-hadoop2.7/licenses/LICENSE-netlib.txt\n",
            "spark-3.0.0-preview2-bin-hadoop2.7/licenses/LICENSE-json-formatter.txt\n",
            "spark-3.0.0-preview2-bin-hadoop2.7/licenses/LICENSE-jline.txt\n",
            "spark-3.0.0-preview2-bin-hadoop2.7/licenses/LICENSE-jquery.txt\n",
            "spark-3.0.0-preview2-bin-hadoop2.7/licenses/LICENSE-modernizr.txt\n",
            "spark-3.0.0-preview2-bin-hadoop2.7/licenses/LICENSE-jodd.txt\n",
            "spark-3.0.0-preview2-bin-hadoop2.7/licenses/LICENSE-jakarta-annotation-api\n",
            "spark-3.0.0-preview2-bin-hadoop2.7/licenses/LICENSE-automaton.txt\n",
            "spark-3.0.0-preview2-bin-hadoop2.7/licenses/LICENSE-minlog.txt\n",
            "spark-3.0.0-preview2-bin-hadoop2.7/licenses/LICENSE-zstd-jni.txt\n",
            "spark-3.0.0-preview2-bin-hadoop2.7/licenses/LICENSE-antlr.txt\n",
            "spark-3.0.0-preview2-bin-hadoop2.7/licenses/LICENSE-spire.txt\n",
            "spark-3.0.0-preview2-bin-hadoop2.7/licenses/LICENSE-graphlib-dot.txt\n",
            "spark-3.0.0-preview2-bin-hadoop2.7/licenses/LICENSE-f2j.txt\n",
            "spark-3.0.0-preview2-bin-hadoop2.7/licenses/LICENSE-cloudpickle.txt\n",
            "spark-3.0.0-preview2-bin-hadoop2.7/licenses/LICENSE-reflectasm.txt\n",
            "spark-3.0.0-preview2-bin-hadoop2.7/licenses/LICENSE-janino.txt\n",
            "spark-3.0.0-preview2-bin-hadoop2.7/licenses/LICENSE-sbt-launch-lib.txt\n",
            "spark-3.0.0-preview2-bin-hadoop2.7/licenses/LICENSE-zstd.txt\n",
            "spark-3.0.0-preview2-bin-hadoop2.7/licenses/LICENSE-paranamer.txt\n",
            "spark-3.0.0-preview2-bin-hadoop2.7/licenses/LICENSE-datatables.txt\n",
            "spark-3.0.0-preview2-bin-hadoop2.7/licenses/LICENSE-jsp-api.txt\n",
            "spark-3.0.0-preview2-bin-hadoop2.7/licenses/LICENSE-bootstrap.txt\n",
            "spark-3.0.0-preview2-bin-hadoop2.7/licenses/LICENSE-JLargeArrays.txt\n",
            "spark-3.0.0-preview2-bin-hadoop2.7/licenses/LICENSE-kryo.txt\n",
            "spark-3.0.0-preview2-bin-hadoop2.7/licenses/LICENSE-xmlenc.txt\n",
            "spark-3.0.0-preview2-bin-hadoop2.7/licenses/LICENSE-respond.txt\n",
            "spark-3.0.0-preview2-bin-hadoop2.7/examples/\n",
            "spark-3.0.0-preview2-bin-hadoop2.7/examples/jars/\n",
            "spark-3.0.0-preview2-bin-hadoop2.7/examples/jars/spark-examples_2.12-3.0.0-preview2.jar\n",
            "spark-3.0.0-preview2-bin-hadoop2.7/examples/jars/scopt_2.12-3.7.1.jar\n",
            "spark-3.0.0-preview2-bin-hadoop2.7/examples/src/\n",
            "spark-3.0.0-preview2-bin-hadoop2.7/examples/src/main/\n",
            "spark-3.0.0-preview2-bin-hadoop2.7/examples/src/main/resources/\n",
            "spark-3.0.0-preview2-bin-hadoop2.7/examples/src/main/resources/users.orc\n",
            "spark-3.0.0-preview2-bin-hadoop2.7/examples/src/main/resources/people.txt\n",
            "spark-3.0.0-preview2-bin-hadoop2.7/examples/src/main/resources/employees.json\n",
            "spark-3.0.0-preview2-bin-hadoop2.7/examples/src/main/resources/people.json\n",
            "spark-3.0.0-preview2-bin-hadoop2.7/examples/src/main/resources/people.csv\n",
            "spark-3.0.0-preview2-bin-hadoop2.7/examples/src/main/resources/users.parquet\n",
            "spark-3.0.0-preview2-bin-hadoop2.7/examples/src/main/resources/kv1.txt\n",
            "spark-3.0.0-preview2-bin-hadoop2.7/examples/src/main/resources/partitioned_users.orc/\n",
            "spark-3.0.0-preview2-bin-hadoop2.7/examples/src/main/resources/partitioned_users.orc/favorite_color=red/\n",
            "spark-3.0.0-preview2-bin-hadoop2.7/examples/src/main/resources/partitioned_users.orc/favorite_color=red/users.orc\n",
            "spark-3.0.0-preview2-bin-hadoop2.7/examples/src/main/resources/partitioned_users.orc/favorite_color=__HIVE_DEFAULT_PARTITION__/\n",
            "spark-3.0.0-preview2-bin-hadoop2.7/examples/src/main/resources/partitioned_users.orc/favorite_color=__HIVE_DEFAULT_PARTITION__/users.orc\n",
            "spark-3.0.0-preview2-bin-hadoop2.7/examples/src/main/resources/partitioned_users.orc/do_not_read_this.txt\n",
            "spark-3.0.0-preview2-bin-hadoop2.7/examples/src/main/resources/full_user.avsc\n",
            "spark-3.0.0-preview2-bin-hadoop2.7/examples/src/main/resources/user.avsc\n",
            "spark-3.0.0-preview2-bin-hadoop2.7/examples/src/main/resources/users.avro\n",
            "spark-3.0.0-preview2-bin-hadoop2.7/examples/src/main/scripts/\n",
            "spark-3.0.0-preview2-bin-hadoop2.7/examples/src/main/scripts/getGpusResources.sh\n",
            "spark-3.0.0-preview2-bin-hadoop2.7/examples/src/main/java/\n",
            "spark-3.0.0-preview2-bin-hadoop2.7/examples/src/main/java/org/\n",
            "spark-3.0.0-preview2-bin-hadoop2.7/examples/src/main/java/org/apache/\n",
            "spark-3.0.0-preview2-bin-hadoop2.7/examples/src/main/java/org/apache/spark/\n",
            "spark-3.0.0-preview2-bin-hadoop2.7/examples/src/main/java/org/apache/spark/examples/\n",
            "spark-3.0.0-preview2-bin-hadoop2.7/examples/src/main/java/org/apache/spark/examples/ml/\n",
            "spark-3.0.0-preview2-bin-hadoop2.7/examples/src/main/java/org/apache/spark/examples/ml/JavaKMeansExample.java\n",
            "spark-3.0.0-preview2-bin-hadoop2.7/examples/src/main/java/org/apache/spark/examples/ml/JavaCorrelationExample.java\n",
            "spark-3.0.0-preview2-bin-hadoop2.7/examples/src/main/java/org/apache/spark/examples/ml/JavaModelSelectionViaTrainValidationSplitExample.java\n",
            "spark-3.0.0-preview2-bin-hadoop2.7/examples/src/main/java/org/apache/spark/examples/ml/JavaPrefixSpanExample.java\n",
            "spark-3.0.0-preview2-bin-hadoop2.7/examples/src/main/java/org/apache/spark/examples/ml/JavaVectorSizeHintExample.java\n",
            "spark-3.0.0-preview2-bin-hadoop2.7/examples/src/main/java/org/apache/spark/examples/ml/JavaOneHotEncoderExample.java\n",
            "spark-3.0.0-preview2-bin-hadoop2.7/examples/src/main/java/org/apache/spark/examples/ml/JavaQuantileDiscretizerExample.java\n",
            "spark-3.0.0-preview2-bin-hadoop2.7/examples/src/main/java/org/apache/spark/examples/ml/JavaElementwiseProductExample.java\n",
            "spark-3.0.0-preview2-bin-hadoop2.7/examples/src/main/java/org/apache/spark/examples/ml/JavaBucketedRandomProjectionLSHExample.java\n",
            "spark-3.0.0-preview2-bin-hadoop2.7/examples/src/main/java/org/apache/spark/examples/ml/JavaGradientBoostedTreeRegressorExample.java\n",
            "spark-3.0.0-preview2-bin-hadoop2.7/examples/src/main/java/org/apache/spark/examples/ml/JavaCountVectorizerExample.java\n",
            "spark-3.0.0-preview2-bin-hadoop2.7/examples/src/main/java/org/apache/spark/examples/ml/JavaInteractionExample.java\n",
            "spark-3.0.0-preview2-bin-hadoop2.7/examples/src/main/java/org/apache/spark/examples/ml/JavaRandomForestClassifierExample.java\n",
            "spark-3.0.0-preview2-bin-hadoop2.7/examples/src/main/java/org/apache/spark/examples/ml/JavaDocument.java\n",
            "spark-3.0.0-preview2-bin-hadoop2.7/examples/src/main/java/org/apache/spark/examples/ml/JavaOneVsRestExample.java\n",
            "spark-3.0.0-preview2-bin-hadoop2.7/examples/src/main/java/org/apache/spark/examples/ml/JavaBucketizerExample.java\n",
            "spark-3.0.0-preview2-bin-hadoop2.7/examples/src/main/java/org/apache/spark/examples/ml/JavaLogisticRegressionSummaryExample.java\n",
            "spark-3.0.0-preview2-bin-hadoop2.7/examples/src/main/java/org/apache/spark/examples/ml/JavaRandomForestRegressorExample.java\n",
            "spark-3.0.0-preview2-bin-hadoop2.7/examples/src/main/java/org/apache/spark/examples/ml/JavaLinearRegressionWithElasticNetExample.java\n",
            "spark-3.0.0-preview2-bin-hadoop2.7/examples/src/main/java/org/apache/spark/examples/ml/JavaVectorAssemblerExample.java\n",
            "spark-3.0.0-preview2-bin-hadoop2.7/examples/src/main/java/org/apache/spark/examples/ml/JavaDecisionTreeClassificationExample.java\n",
            "spark-3.0.0-preview2-bin-hadoop2.7/examples/src/main/java/org/apache/spark/examples/ml/JavaMinMaxScalerExample.java\n",
            "spark-3.0.0-preview2-bin-hadoop2.7/examples/src/main/java/org/apache/spark/examples/ml/JavaMultilayerPerceptronClassifierExample.java\n",
            "spark-3.0.0-preview2-bin-hadoop2.7/examples/src/main/java/org/apache/spark/examples/ml/JavaMulticlassLogisticRegressionWithElasticNetExample.java\n",
            "spark-3.0.0-preview2-bin-hadoop2.7/examples/src/main/java/org/apache/spark/examples/ml/JavaWord2VecExample.java\n",
            "spark-3.0.0-preview2-bin-hadoop2.7/examples/src/main/java/org/apache/spark/examples/ml/JavaRFormulaExample.java\n",
            "spark-3.0.0-preview2-bin-hadoop2.7/examples/src/main/java/org/apache/spark/examples/ml/JavaGaussianMixtureExample.java\n",
            "spark-3.0.0-preview2-bin-hadoop2.7/examples/src/main/java/org/apache/spark/examples/ml/JavaGeneralizedLinearRegressionExample.java\n",
            "spark-3.0.0-preview2-bin-hadoop2.7/examples/src/main/java/org/apache/spark/examples/ml/JavaChiSquareTestExample.java\n",
            "spark-3.0.0-preview2-bin-hadoop2.7/examples/src/main/java/org/apache/spark/examples/ml/JavaMaxAbsScalerExample.java\n",
            "spark-3.0.0-preview2-bin-hadoop2.7/examples/src/main/java/org/apache/spark/examples/ml/JavaModelSelectionViaCrossValidationExample.java\n",
            "spark-3.0.0-preview2-bin-hadoop2.7/examples/src/main/java/org/apache/spark/examples/ml/JavaRobustScalerExample.java\n",
            "spark-3.0.0-preview2-bin-hadoop2.7/examples/src/main/java/org/apache/spark/examples/ml/JavaSQLTransformerExample.java\n",
            "spark-3.0.0-preview2-bin-hadoop2.7/examples/src/main/java/org/apache/spark/examples/ml/JavaBinarizerExample.java\n",
            "spark-3.0.0-preview2-bin-hadoop2.7/examples/src/main/java/org/apache/spark/examples/ml/JavaLDAExample.java\n",
            "spark-3.0.0-preview2-bin-hadoop2.7/examples/src/main/java/org/apache/spark/examples/ml/JavaTokenizerExample.java\n",
            "spark-3.0.0-preview2-bin-hadoop2.7/examples/src/main/java/org/apache/spark/examples/ml/JavaFPGrowthExample.java\n",
            "spark-3.0.0-preview2-bin-hadoop2.7/examples/src/main/java/org/apache/spark/examples/ml/JavaChiSqSelectorExample.java\n",
            "spark-3.0.0-preview2-bin-hadoop2.7/examples/src/main/java/org/apache/spark/examples/ml/JavaTfIdfExample.java\n",
            "spark-3.0.0-preview2-bin-hadoop2.7/examples/src/main/java/org/apache/spark/examples/ml/JavaPolynomialExpansionExample.java\n",
            "spark-3.0.0-preview2-bin-hadoop2.7/examples/src/main/java/org/apache/spark/examples/ml/JavaALSExample.java\n",
            "spark-3.0.0-preview2-bin-hadoop2.7/examples/src/main/java/org/apache/spark/examples/ml/JavaStandardScalerExample.java\n",
            "spark-3.0.0-preview2-bin-hadoop2.7/examples/src/main/java/org/apache/spark/examples/ml/JavaPipelineExample.java\n",
            "spark-3.0.0-preview2-bin-hadoop2.7/examples/src/main/java/org/apache/spark/examples/ml/JavaPCAExample.java\n",
            "spark-3.0.0-preview2-bin-hadoop2.7/examples/src/main/java/org/apache/spark/examples/ml/JavaDecisionTreeRegressionExample.java\n",
            "spark-3.0.0-preview2-bin-hadoop2.7/examples/src/main/java/org/apache/spark/examples/ml/JavaLabeledDocument.java\n",
            "spark-3.0.0-preview2-bin-hadoop2.7/examples/src/main/java/org/apache/spark/examples/ml/JavaNaiveBayesExample.java\n",
            "spark-3.0.0-preview2-bin-hadoop2.7/examples/src/main/java/org/apache/spark/examples/ml/JavaBisectingKMeansExample.java\n",
            "spark-3.0.0-preview2-bin-hadoop2.7/examples/src/main/java/org/apache/spark/examples/ml/JavaMinHashLSHExample.java\n",
            "spark-3.0.0-preview2-bin-hadoop2.7/examples/src/main/java/org/apache/spark/examples/ml/JavaSummarizerExample.java\n",
            "spark-3.0.0-preview2-bin-hadoop2.7/examples/src/main/java/org/apache/spark/examples/ml/JavaNormalizerExample.java\n",
            "spark-3.0.0-preview2-bin-hadoop2.7/examples/src/main/java/org/apache/spark/examples/ml/JavaLinearSVCExample.java\n",
            "spark-3.0.0-preview2-bin-hadoop2.7/examples/src/main/java/org/apache/spark/examples/ml/JavaStringIndexerExample.java\n",
            "spark-3.0.0-preview2-bin-hadoop2.7/examples/src/main/java/org/apache/spark/examples/ml/JavaImputerExample.java\n",
            "spark-3.0.0-preview2-bin-hadoop2.7/examples/src/main/java/org/apache/spark/examples/ml/JavaVectorSlicerExample.java\n",
            "spark-3.0.0-preview2-bin-hadoop2.7/examples/src/main/java/org/apache/spark/examples/ml/JavaFeatureHasherExample.java\n",
            "spark-3.0.0-preview2-bin-hadoop2.7/examples/src/main/java/org/apache/spark/examples/ml/JavaVectorIndexerExample.java\n",
            "spark-3.0.0-preview2-bin-hadoop2.7/examples/src/main/java/org/apache/spark/examples/ml/JavaIsotonicRegressionExample.java\n",
            "spark-3.0.0-preview2-bin-hadoop2.7/examples/src/main/java/org/apache/spark/examples/ml/JavaPowerIterationClusteringExample.java\n",
            "spark-3.0.0-preview2-bin-hadoop2.7/examples/src/main/java/org/apache/spark/examples/ml/JavaLogisticRegressionWithElasticNetExample.java\n",
            "spark-3.0.0-preview2-bin-hadoop2.7/examples/src/main/java/org/apache/spark/examples/ml/JavaGradientBoostedTreeClassifierExample.java\n",
            "spark-3.0.0-preview2-bin-hadoop2.7/examples/src/main/java/org/apache/spark/examples/ml/JavaIndexToStringExample.java\n",
            "spark-3.0.0-preview2-bin-hadoop2.7/examples/src/main/java/org/apache/spark/examples/ml/JavaEstimatorTransformerParamExample.java\n",
            "spark-3.0.0-preview2-bin-hadoop2.7/examples/src/main/java/org/apache/spark/examples/ml/JavaNGramExample.java\n",
            "spark-3.0.0-preview2-bin-hadoop2.7/examples/src/main/java/org/apache/spark/examples/ml/JavaStopWordsRemoverExample.java\n",
            "spark-3.0.0-preview2-bin-hadoop2.7/examples/src/main/java/org/apache/spark/examples/ml/JavaDCTExample.java\n",
            "spark-3.0.0-preview2-bin-hadoop2.7/examples/src/main/java/org/apache/spark/examples/ml/JavaAFTSurvivalRegressionExample.java\n",
            "spark-3.0.0-preview2-bin-hadoop2.7/examples/src/main/java/org/apache/spark/examples/JavaLogQuery.java\n",
            "spark-3.0.0-preview2-bin-hadoop2.7/examples/src/main/java/org/apache/spark/examples/streaming/\n",
            "spark-3.0.0-preview2-bin-hadoop2.7/examples/src/main/java/org/apache/spark/examples/streaming/JavaNetworkWordCount.java\n",
            "spark-3.0.0-preview2-bin-hadoop2.7/examples/src/main/java/org/apache/spark/examples/streaming/JavaRecoverableNetworkWordCount.java\n",
            "spark-3.0.0-preview2-bin-hadoop2.7/examples/src/main/java/org/apache/spark/examples/streaming/JavaDirectKerberizedKafkaWordCount.java\n",
            "spark-3.0.0-preview2-bin-hadoop2.7/examples/src/main/java/org/apache/spark/examples/streaming/JavaRecord.java\n",
            "spark-3.0.0-preview2-bin-hadoop2.7/examples/src/main/java/org/apache/spark/examples/streaming/JavaDirectKafkaWordCount.java\n",
            "spark-3.0.0-preview2-bin-hadoop2.7/examples/src/main/java/org/apache/spark/examples/streaming/JavaStatefulNetworkWordCount.java\n",
            "spark-3.0.0-preview2-bin-hadoop2.7/examples/src/main/java/org/apache/spark/examples/streaming/JavaCustomReceiver.java\n",
            "spark-3.0.0-preview2-bin-hadoop2.7/examples/src/main/java/org/apache/spark/examples/streaming/JavaSqlNetworkWordCount.java\n",
            "spark-3.0.0-preview2-bin-hadoop2.7/examples/src/main/java/org/apache/spark/examples/streaming/JavaQueueStream.java\n",
            "spark-3.0.0-preview2-bin-hadoop2.7/examples/src/main/java/org/apache/spark/examples/JavaHdfsLR.java\n",
            "spark-3.0.0-preview2-bin-hadoop2.7/examples/src/main/java/org/apache/spark/examples/JavaStatusTrackerDemo.java\n",
            "spark-3.0.0-preview2-bin-hadoop2.7/examples/src/main/java/org/apache/spark/examples/JavaPageRank.java\n",
            "spark-3.0.0-preview2-bin-hadoop2.7/examples/src/main/java/org/apache/spark/examples/JavaSparkPi.java\n",
            "spark-3.0.0-preview2-bin-hadoop2.7/examples/src/main/java/org/apache/spark/examples/sql/\n",
            "spark-3.0.0-preview2-bin-hadoop2.7/examples/src/main/java/org/apache/spark/examples/sql/JavaSQLDataSourceExample.java\n",
            "spark-3.0.0-preview2-bin-hadoop2.7/examples/src/main/java/org/apache/spark/examples/sql/streaming/\n",
            "spark-3.0.0-preview2-bin-hadoop2.7/examples/src/main/java/org/apache/spark/examples/sql/streaming/JavaStructuredKerberizedKafkaWordCount.java\n",
            "spark-3.0.0-preview2-bin-hadoop2.7/examples/src/main/java/org/apache/spark/examples/sql/streaming/JavaStructuredSessionization.java\n",
            "spark-3.0.0-preview2-bin-hadoop2.7/examples/src/main/java/org/apache/spark/examples/sql/streaming/JavaStructuredNetworkWordCountWindowed.java\n",
            "spark-3.0.0-preview2-bin-hadoop2.7/examples/src/main/java/org/apache/spark/examples/sql/streaming/JavaStructuredNetworkWordCount.java\n",
            "spark-3.0.0-preview2-bin-hadoop2.7/examples/src/main/java/org/apache/spark/examples/sql/streaming/JavaStructuredKafkaWordCount.java\n",
            "spark-3.0.0-preview2-bin-hadoop2.7/examples/src/main/java/org/apache/spark/examples/sql/JavaUserDefinedTypedAggregation.java\n",
            "spark-3.0.0-preview2-bin-hadoop2.7/examples/src/main/java/org/apache/spark/examples/sql/JavaUserDefinedUntypedAggregation.java\n",
            "spark-3.0.0-preview2-bin-hadoop2.7/examples/src/main/java/org/apache/spark/examples/sql/hive/\n",
            "spark-3.0.0-preview2-bin-hadoop2.7/examples/src/main/java/org/apache/spark/examples/sql/hive/JavaSparkHiveExample.java\n",
            "spark-3.0.0-preview2-bin-hadoop2.7/examples/src/main/java/org/apache/spark/examples/sql/JavaSparkSQLExample.java\n",
            "spark-3.0.0-preview2-bin-hadoop2.7/examples/src/main/java/org/apache/spark/examples/JavaWordCount.java\n",
            "spark-3.0.0-preview2-bin-hadoop2.7/examples/src/main/java/org/apache/spark/examples/mllib/\n",
            "spark-3.0.0-preview2-bin-hadoop2.7/examples/src/main/java/org/apache/spark/examples/mllib/JavaKMeansExample.java\n",
            "spark-3.0.0-preview2-bin-hadoop2.7/examples/src/main/java/org/apache/spark/examples/mllib/JavaPrefixSpanExample.java\n",
            "spark-3.0.0-preview2-bin-hadoop2.7/examples/src/main/java/org/apache/spark/examples/mllib/JavaGradientBoostingRegressionExample.java\n",
            "spark-3.0.0-preview2-bin-hadoop2.7/examples/src/main/java/org/apache/spark/examples/mllib/JavaElementwiseProductExample.java\n",
            "spark-3.0.0-preview2-bin-hadoop2.7/examples/src/main/java/org/apache/spark/examples/mllib/JavaKernelDensityEstimationExample.java\n",
            "spark-3.0.0-preview2-bin-hadoop2.7/examples/src/main/java/org/apache/spark/examples/mllib/JavaRankingMetricsExample.java\n",
            "spark-3.0.0-preview2-bin-hadoop2.7/examples/src/main/java/org/apache/spark/examples/mllib/JavaALS.java\n",
            "spark-3.0.0-preview2-bin-hadoop2.7/examples/src/main/java/org/apache/spark/examples/mllib/JavaHypothesisTestingExample.java\n",
            "spark-3.0.0-preview2-bin-hadoop2.7/examples/src/main/java/org/apache/spark/examples/mllib/JavaSummaryStatisticsExample.java\n",
            "spark-3.0.0-preview2-bin-hadoop2.7/examples/src/main/java/org/apache/spark/examples/mllib/JavaStratifiedSamplingExample.java\n",
            "spark-3.0.0-preview2-bin-hadoop2.7/examples/src/main/java/org/apache/spark/examples/mllib/JavaDecisionTreeClassificationExample.java\n",
            "spark-3.0.0-preview2-bin-hadoop2.7/examples/src/main/java/org/apache/spark/examples/mllib/JavaRandomForestRegressionExample.java\n",
            "spark-3.0.0-preview2-bin-hadoop2.7/examples/src/main/java/org/apache/spark/examples/mllib/JavaLogisticRegressionWithLBFGSExample.java\n",
            "spark-3.0.0-preview2-bin-hadoop2.7/examples/src/main/java/org/apache/spark/examples/mllib/JavaMulticlassClassificationMetricsExample.java\n",
            "spark-3.0.0-preview2-bin-hadoop2.7/examples/src/main/java/org/apache/spark/examples/mllib/JavaSVMWithSGDExample.java\n",
            "spark-3.0.0-preview2-bin-hadoop2.7/examples/src/main/java/org/apache/spark/examples/mllib/JavaLBFGSExample.java\n",
            "spark-3.0.0-preview2-bin-hadoop2.7/examples/src/main/java/org/apache/spark/examples/mllib/JavaStreamingTestExample.java\n",
            "spark-3.0.0-preview2-bin-hadoop2.7/examples/src/main/java/org/apache/spark/examples/mllib/JavaGaussianMixtureExample.java\n",
            "spark-3.0.0-preview2-bin-hadoop2.7/examples/src/main/java/org/apache/spark/examples/mllib/JavaAssociationRulesExample.java\n",
            "spark-3.0.0-preview2-bin-hadoop2.7/examples/src/main/java/org/apache/spark/examples/mllib/JavaRecommendationExample.java\n",
            "spark-3.0.0-preview2-bin-hadoop2.7/examples/src/main/java/org/apache/spark/examples/mllib/JavaMultiLabelClassificationMetricsExample.java\n",
            "spark-3.0.0-preview2-bin-hadoop2.7/examples/src/main/java/org/apache/spark/examples/mllib/JavaChiSqSelectorExample.java\n",
            "spark-3.0.0-preview2-bin-hadoop2.7/examples/src/main/java/org/apache/spark/examples/mllib/JavaPCAExample.java\n",
            "spark-3.0.0-preview2-bin-hadoop2.7/examples/src/main/java/org/apache/spark/examples/mllib/JavaDecisionTreeRegressionExample.java\n",
            "spark-3.0.0-preview2-bin-hadoop2.7/examples/src/main/java/org/apache/spark/examples/mllib/JavaSVDExample.java\n",
            "spark-3.0.0-preview2-bin-hadoop2.7/examples/src/main/java/org/apache/spark/examples/mllib/JavaLatentDirichletAllocationExample.java\n",
            "spark-3.0.0-preview2-bin-hadoop2.7/examples/src/main/java/org/apache/spark/examples/mllib/JavaNaiveBayesExample.java\n",
            "spark-3.0.0-preview2-bin-hadoop2.7/examples/src/main/java/org/apache/spark/examples/mllib/JavaBisectingKMeansExample.java\n",
            "spark-3.0.0-preview2-bin-hadoop2.7/examples/src/main/java/org/apache/spark/examples/mllib/JavaHypothesisTestingKolmogorovSmirnovTestExample.java\n",
            "spark-3.0.0-preview2-bin-hadoop2.7/examples/src/main/java/org/apache/spark/examples/mllib/JavaRandomForestClassificationExample.java\n",
            "spark-3.0.0-preview2-bin-hadoop2.7/examples/src/main/java/org/apache/spark/examples/mllib/JavaSimpleFPGrowth.java\n",
            "spark-3.0.0-preview2-bin-hadoop2.7/examples/src/main/java/org/apache/spark/examples/mllib/JavaBinaryClassificationMetricsExample.java\n",
            "spark-3.0.0-preview2-bin-hadoop2.7/examples/src/main/java/org/apache/spark/examples/mllib/JavaGradientBoostingClassificationExample.java\n",
            "spark-3.0.0-preview2-bin-hadoop2.7/examples/src/main/java/org/apache/spark/examples/mllib/JavaIsotonicRegressionExample.java\n",
            "spark-3.0.0-preview2-bin-hadoop2.7/examples/src/main/java/org/apache/spark/examples/mllib/JavaCorrelationsExample.java\n",
            "spark-3.0.0-preview2-bin-hadoop2.7/examples/src/main/java/org/apache/spark/examples/mllib/JavaPowerIterationClusteringExample.java\n",
            "spark-3.0.0-preview2-bin-hadoop2.7/examples/src/main/java/org/apache/spark/examples/JavaTC.java\n",
            "spark-3.0.0-preview2-bin-hadoop2.7/examples/src/main/python/\n",
            "spark-3.0.0-preview2-bin-hadoop2.7/examples/src/main/python/ml/\n",
            "spark-3.0.0-preview2-bin-hadoop2.7/examples/src/main/python/ml/correlation_example.py\n",
            "spark-3.0.0-preview2-bin-hadoop2.7/examples/src/main/python/ml/word2vec_example.py\n",
            "spark-3.0.0-preview2-bin-hadoop2.7/examples/src/main/python/ml/gaussian_mixture_example.py\n",
            "spark-3.0.0-preview2-bin-hadoop2.7/examples/src/main/python/ml/multiclass_logistic_regression_with_elastic_net.py\n",
            "spark-3.0.0-preview2-bin-hadoop2.7/examples/src/main/python/ml/bisecting_k_means_example.py\n",
            "spark-3.0.0-preview2-bin-hadoop2.7/examples/src/main/python/ml/max_abs_scaler_example.py\n",
            "spark-3.0.0-preview2-bin-hadoop2.7/examples/src/main/python/ml/tf_idf_example.py\n",
            "spark-3.0.0-preview2-bin-hadoop2.7/examples/src/main/python/ml/index_to_string_example.py\n",
            "spark-3.0.0-preview2-bin-hadoop2.7/examples/src/main/python/ml/linearsvc.py\n",
            "spark-3.0.0-preview2-bin-hadoop2.7/examples/src/main/python/ml/random_forest_classifier_example.py\n",
            "spark-3.0.0-preview2-bin-hadoop2.7/examples/src/main/python/ml/train_validation_split.py\n",
            "spark-3.0.0-preview2-bin-hadoop2.7/examples/src/main/python/ml/chi_square_test_example.py\n",
            "spark-3.0.0-preview2-bin-hadoop2.7/examples/src/main/python/ml/vector_size_hint_example.py\n",
            "spark-3.0.0-preview2-bin-hadoop2.7/examples/src/main/python/ml/aft_survival_regression.py\n",
            "spark-3.0.0-preview2-bin-hadoop2.7/examples/src/main/python/ml/string_indexer_example.py\n",
            "spark-3.0.0-preview2-bin-hadoop2.7/examples/src/main/python/ml/estimator_transformer_param_example.py\n",
            "spark-3.0.0-preview2-bin-hadoop2.7/examples/src/main/python/ml/binarizer_example.py\n",
            "spark-3.0.0-preview2-bin-hadoop2.7/examples/src/main/python/ml/bucketed_random_projection_lsh_example.py\n",
            "spark-3.0.0-preview2-bin-hadoop2.7/examples/src/main/python/ml/multilayer_perceptron_classification.py\n",
            "spark-3.0.0-preview2-bin-hadoop2.7/examples/src/main/python/ml/stopwords_remover_example.py\n",
            "spark-3.0.0-preview2-bin-hadoop2.7/examples/src/main/python/ml/vector_indexer_example.py\n",
            "spark-3.0.0-preview2-bin-hadoop2.7/examples/src/main/python/ml/normalizer_example.py\n",
            "spark-3.0.0-preview2-bin-hadoop2.7/examples/src/main/python/ml/cross_validator.py\n",
            "spark-3.0.0-preview2-bin-hadoop2.7/examples/src/main/python/ml/logistic_regression_summary_example.py\n",
            "spark-3.0.0-preview2-bin-hadoop2.7/examples/src/main/python/ml/decision_tree_regression_example.py\n",
            "spark-3.0.0-preview2-bin-hadoop2.7/examples/src/main/python/ml/generalized_linear_regression_example.py\n",
            "spark-3.0.0-preview2-bin-hadoop2.7/examples/src/main/python/ml/random_forest_regressor_example.py\n",
            "spark-3.0.0-preview2-bin-hadoop2.7/examples/src/main/python/ml/dct_example.py\n",
            "spark-3.0.0-preview2-bin-hadoop2.7/examples/src/main/python/ml/vector_assembler_example.py\n",
            "spark-3.0.0-preview2-bin-hadoop2.7/examples/src/main/python/ml/elementwise_product_example.py\n",
            "spark-3.0.0-preview2-bin-hadoop2.7/examples/src/main/python/ml/lda_example.py\n",
            "spark-3.0.0-preview2-bin-hadoop2.7/examples/src/main/python/ml/linear_regression_with_elastic_net.py\n",
            "spark-3.0.0-preview2-bin-hadoop2.7/examples/src/main/python/ml/standard_scaler_example.py\n",
            "spark-3.0.0-preview2-bin-hadoop2.7/examples/src/main/python/ml/polynomial_expansion_example.py\n",
            "spark-3.0.0-preview2-bin-hadoop2.7/examples/src/main/python/ml/n_gram_example.py\n",
            "spark-3.0.0-preview2-bin-hadoop2.7/examples/src/main/python/ml/one_vs_rest_example.py\n",
            "spark-3.0.0-preview2-bin-hadoop2.7/examples/src/main/python/ml/bucketizer_example.py\n",
            "spark-3.0.0-preview2-bin-hadoop2.7/examples/src/main/python/ml/als_example.py\n",
            "spark-3.0.0-preview2-bin-hadoop2.7/examples/src/main/python/ml/isotonic_regression_example.py\n",
            "spark-3.0.0-preview2-bin-hadoop2.7/examples/src/main/python/ml/chisq_selector_example.py\n",
            "spark-3.0.0-preview2-bin-hadoop2.7/examples/src/main/python/ml/sql_transformer.py\n",
            "spark-3.0.0-preview2-bin-hadoop2.7/examples/src/main/python/ml/dataframe_example.py\n",
            "spark-3.0.0-preview2-bin-hadoop2.7/examples/src/main/python/ml/feature_hasher_example.py\n",
            "spark-3.0.0-preview2-bin-hadoop2.7/examples/src/main/python/ml/imputer_example.py\n",
            "spark-3.0.0-preview2-bin-hadoop2.7/examples/src/main/python/ml/tokenizer_example.py\n",
            "spark-3.0.0-preview2-bin-hadoop2.7/examples/src/main/python/ml/logistic_regression_with_elastic_net.py\n",
            "spark-3.0.0-preview2-bin-hadoop2.7/examples/src/main/python/ml/pipeline_example.py\n",
            "spark-3.0.0-preview2-bin-hadoop2.7/examples/src/main/python/ml/gradient_boosted_tree_regressor_example.py\n",
            "spark-3.0.0-preview2-bin-hadoop2.7/examples/src/main/python/ml/summarizer_example.py\n",
            "spark-3.0.0-preview2-bin-hadoop2.7/examples/src/main/python/ml/min_max_scaler_example.py\n",
            "spark-3.0.0-preview2-bin-hadoop2.7/examples/src/main/python/ml/gradient_boosted_tree_classifier_example.py\n",
            "spark-3.0.0-preview2-bin-hadoop2.7/examples/src/main/python/ml/quantile_discretizer_example.py\n",
            "spark-3.0.0-preview2-bin-hadoop2.7/examples/src/main/python/ml/power_iteration_clustering_example.py\n",
            "spark-3.0.0-preview2-bin-hadoop2.7/examples/src/main/python/ml/onehot_encoder_example.py\n",
            "spark-3.0.0-preview2-bin-hadoop2.7/examples/src/main/python/ml/rformula_example.py\n",
            "spark-3.0.0-preview2-bin-hadoop2.7/examples/src/main/python/ml/vector_slicer_example.py\n",
            "spark-3.0.0-preview2-bin-hadoop2.7/examples/src/main/python/ml/interaction_example.py\n",
            "spark-3.0.0-preview2-bin-hadoop2.7/examples/src/main/python/ml/pca_example.py\n",
            "spark-3.0.0-preview2-bin-hadoop2.7/examples/src/main/python/ml/count_vectorizer_example.py\n",
            "spark-3.0.0-preview2-bin-hadoop2.7/examples/src/main/python/ml/decision_tree_classification_example.py\n",
            "spark-3.0.0-preview2-bin-hadoop2.7/examples/src/main/python/ml/kmeans_example.py\n",
            "spark-3.0.0-preview2-bin-hadoop2.7/examples/src/main/python/ml/naive_bayes_example.py\n",
            "spark-3.0.0-preview2-bin-hadoop2.7/examples/src/main/python/ml/min_hash_lsh_example.py\n",
            "spark-3.0.0-preview2-bin-hadoop2.7/examples/src/main/python/ml/robust_scaler_example.py\n",
            "spark-3.0.0-preview2-bin-hadoop2.7/examples/src/main/python/ml/prefixspan_example.py\n",
            "spark-3.0.0-preview2-bin-hadoop2.7/examples/src/main/python/ml/fpgrowth_example.py\n",
            "spark-3.0.0-preview2-bin-hadoop2.7/examples/src/main/python/streaming/\n",
            "spark-3.0.0-preview2-bin-hadoop2.7/examples/src/main/python/streaming/queue_stream.py\n",
            "spark-3.0.0-preview2-bin-hadoop2.7/examples/src/main/python/streaming/network_wordjoinsentiments.py\n",
            "spark-3.0.0-preview2-bin-hadoop2.7/examples/src/main/python/streaming/hdfs_wordcount.py\n",
            "spark-3.0.0-preview2-bin-hadoop2.7/examples/src/main/python/streaming/network_wordcount.py\n",
            "spark-3.0.0-preview2-bin-hadoop2.7/examples/src/main/python/streaming/sql_network_wordcount.py\n",
            "spark-3.0.0-preview2-bin-hadoop2.7/examples/src/main/python/streaming/recoverable_network_wordcount.py\n",
            "spark-3.0.0-preview2-bin-hadoop2.7/examples/src/main/python/streaming/stateful_network_wordcount.py\n",
            "spark-3.0.0-preview2-bin-hadoop2.7/examples/src/main/python/wordcount.py\n",
            "spark-3.0.0-preview2-bin-hadoop2.7/examples/src/main/python/transitive_closure.py\n",
            "spark-3.0.0-preview2-bin-hadoop2.7/examples/src/main/python/status_api_demo.py\n",
            "spark-3.0.0-preview2-bin-hadoop2.7/examples/src/main/python/kmeans.py\n",
            "spark-3.0.0-preview2-bin-hadoop2.7/examples/src/main/python/pi.py\n",
            "spark-3.0.0-preview2-bin-hadoop2.7/examples/src/main/python/sql/\n",
            "spark-3.0.0-preview2-bin-hadoop2.7/examples/src/main/python/sql/streaming/\n",
            "spark-3.0.0-preview2-bin-hadoop2.7/examples/src/main/python/sql/streaming/structured_network_wordcount.py\n",
            "spark-3.0.0-preview2-bin-hadoop2.7/examples/src/main/python/sql/streaming/structured_network_wordcount_windowed.py\n",
            "spark-3.0.0-preview2-bin-hadoop2.7/examples/src/main/python/sql/streaming/structured_kafka_wordcount.py\n",
            "spark-3.0.0-preview2-bin-hadoop2.7/examples/src/main/python/sql/hive.py\n",
            "spark-3.0.0-preview2-bin-hadoop2.7/examples/src/main/python/sql/basic.py\n",
            "spark-3.0.0-preview2-bin-hadoop2.7/examples/src/main/python/sql/arrow.py\n",
            "spark-3.0.0-preview2-bin-hadoop2.7/examples/src/main/python/sql/datasource.py\n",
            "spark-3.0.0-preview2-bin-hadoop2.7/examples/src/main/python/avro_inputformat.py\n",
            "spark-3.0.0-preview2-bin-hadoop2.7/examples/src/main/python/sort.py\n",
            "spark-3.0.0-preview2-bin-hadoop2.7/examples/src/main/python/pagerank.py\n",
            "spark-3.0.0-preview2-bin-hadoop2.7/examples/src/main/python/mllib/\n",
            "spark-3.0.0-preview2-bin-hadoop2.7/examples/src/main/python/mllib/word2vec_example.py\n",
            "spark-3.0.0-preview2-bin-hadoop2.7/examples/src/main/python/mllib/multi_label_metrics_example.py\n",
            "spark-3.0.0-preview2-bin-hadoop2.7/examples/src/main/python/mllib/gaussian_mixture_example.py\n",
            "spark-3.0.0-preview2-bin-hadoop2.7/examples/src/main/python/mllib/bisecting_k_means_example.py\n",
            "spark-3.0.0-preview2-bin-hadoop2.7/examples/src/main/python/mllib/tf_idf_example.py\n",
            "spark-3.0.0-preview2-bin-hadoop2.7/examples/src/main/python/mllib/logistic_regression_with_lbfgs_example.py\n",
            "spark-3.0.0-preview2-bin-hadoop2.7/examples/src/main/python/mllib/hypothesis_testing_example.py\n",
            "spark-3.0.0-preview2-bin-hadoop2.7/examples/src/main/python/mllib/gradient_boosting_classification_example.py\n",
            "spark-3.0.0-preview2-bin-hadoop2.7/examples/src/main/python/mllib/regression_metrics_example.py\n",
            "spark-3.0.0-preview2-bin-hadoop2.7/examples/src/main/python/mllib/normalizer_example.py\n",
            "spark-3.0.0-preview2-bin-hadoop2.7/examples/src/main/python/mllib/decision_tree_regression_example.py\n",
            "spark-3.0.0-preview2-bin-hadoop2.7/examples/src/main/python/mllib/kmeans.py\n",
            "spark-3.0.0-preview2-bin-hadoop2.7/examples/src/main/python/mllib/hypothesis_testing_kolmogorov_smirnov_test_example.py\n",
            "spark-3.0.0-preview2-bin-hadoop2.7/examples/src/main/python/mllib/elementwise_product_example.py\n",
            "spark-3.0.0-preview2-bin-hadoop2.7/examples/src/main/python/mllib/random_rdd_generation.py\n",
            "spark-3.0.0-preview2-bin-hadoop2.7/examples/src/main/python/mllib/latent_dirichlet_allocation_example.py\n",
            "spark-3.0.0-preview2-bin-hadoop2.7/examples/src/main/python/mllib/word2vec.py\n",
            "spark-3.0.0-preview2-bin-hadoop2.7/examples/src/main/python/mllib/binary_classification_metrics_example.py\n",
            "spark-3.0.0-preview2-bin-hadoop2.7/examples/src/main/python/mllib/stratified_sampling_example.py\n",
            "spark-3.0.0-preview2-bin-hadoop2.7/examples/src/main/python/mllib/random_forest_regression_example.py\n",
            "spark-3.0.0-preview2-bin-hadoop2.7/examples/src/main/python/mllib/correlations.py\n",
            "spark-3.0.0-preview2-bin-hadoop2.7/examples/src/main/python/mllib/standard_scaler_example.py\n",
            "spark-3.0.0-preview2-bin-hadoop2.7/examples/src/main/python/mllib/correlations_example.py\n",
            "spark-3.0.0-preview2-bin-hadoop2.7/examples/src/main/python/mllib/svm_with_sgd_example.py\n",
            "spark-3.0.0-preview2-bin-hadoop2.7/examples/src/main/python/mllib/k_means_example.py\n",
            "spark-3.0.0-preview2-bin-hadoop2.7/examples/src/main/python/mllib/isotonic_regression_example.py\n",
            "spark-3.0.0-preview2-bin-hadoop2.7/examples/src/main/python/mllib/summary_statistics_example.py\n",
            "spark-3.0.0-preview2-bin-hadoop2.7/examples/src/main/python/mllib/streaming_linear_regression_example.py\n",
            "spark-3.0.0-preview2-bin-hadoop2.7/examples/src/main/python/mllib/recommendation_example.py\n",
            "spark-3.0.0-preview2-bin-hadoop2.7/examples/src/main/python/mllib/multi_class_metrics_example.py\n",
            "spark-3.0.0-preview2-bin-hadoop2.7/examples/src/main/python/mllib/streaming_k_means_example.py\n",
            "spark-3.0.0-preview2-bin-hadoop2.7/examples/src/main/python/mllib/gradient_boosting_regression_example.py\n",
            "spark-3.0.0-preview2-bin-hadoop2.7/examples/src/main/python/mllib/logistic_regression.py\n",
            "spark-3.0.0-preview2-bin-hadoop2.7/examples/src/main/python/mllib/pca_rowmatrix_example.py\n",
            "spark-3.0.0-preview2-bin-hadoop2.7/examples/src/main/python/mllib/power_iteration_clustering_example.py\n",
            "spark-3.0.0-preview2-bin-hadoop2.7/examples/src/main/python/mllib/linear_regression_with_sgd_example.py\n",
            "spark-3.0.0-preview2-bin-hadoop2.7/examples/src/main/python/mllib/sampled_rdds.py\n",
            "spark-3.0.0-preview2-bin-hadoop2.7/examples/src/main/python/mllib/random_forest_classification_example.py\n",
            "spark-3.0.0-preview2-bin-hadoop2.7/examples/src/main/python/mllib/svd_example.py\n",
            "spark-3.0.0-preview2-bin-hadoop2.7/examples/src/main/python/mllib/decision_tree_classification_example.py\n",
            "spark-3.0.0-preview2-bin-hadoop2.7/examples/src/main/python/mllib/naive_bayes_example.py\n",
            "spark-3.0.0-preview2-bin-hadoop2.7/examples/src/main/python/mllib/kernel_density_estimation_example.py\n",
            "spark-3.0.0-preview2-bin-hadoop2.7/examples/src/main/python/mllib/fpgrowth_example.py\n",
            "spark-3.0.0-preview2-bin-hadoop2.7/examples/src/main/python/mllib/gaussian_mixture_model.py\n",
            "spark-3.0.0-preview2-bin-hadoop2.7/examples/src/main/python/mllib/ranking_metrics_example.py\n",
            "spark-3.0.0-preview2-bin-hadoop2.7/examples/src/main/python/logistic_regression.py\n",
            "spark-3.0.0-preview2-bin-hadoop2.7/examples/src/main/python/parquet_inputformat.py\n",
            "spark-3.0.0-preview2-bin-hadoop2.7/examples/src/main/python/als.py\n",
            "spark-3.0.0-preview2-bin-hadoop2.7/examples/src/main/scala/\n",
            "spark-3.0.0-preview2-bin-hadoop2.7/examples/src/main/scala/org/\n",
            "spark-3.0.0-preview2-bin-hadoop2.7/examples/src/main/scala/org/apache/\n",
            "spark-3.0.0-preview2-bin-hadoop2.7/examples/src/main/scala/org/apache/spark/\n",
            "spark-3.0.0-preview2-bin-hadoop2.7/examples/src/main/scala/org/apache/spark/examples/\n",
            "spark-3.0.0-preview2-bin-hadoop2.7/examples/src/main/scala/org/apache/spark/examples/SparkRemoteFileTest.scala\n",
            "spark-3.0.0-preview2-bin-hadoop2.7/examples/src/main/scala/org/apache/spark/examples/ml/\n",
            "spark-3.0.0-preview2-bin-hadoop2.7/examples/src/main/scala/org/apache/spark/examples/ml/PolynomialExpansionExample.scala\n",
            "spark-3.0.0-preview2-bin-hadoop2.7/examples/src/main/scala/org/apache/spark/examples/ml/LDAExample.scala\n",
            "spark-3.0.0-preview2-bin-hadoop2.7/examples/src/main/scala/org/apache/spark/examples/ml/BisectingKMeansExample.scala\n",
            "spark-3.0.0-preview2-bin-hadoop2.7/examples/src/main/scala/org/apache/spark/examples/ml/GBTExample.scala\n",
            "spark-3.0.0-preview2-bin-hadoop2.7/examples/src/main/scala/org/apache/spark/examples/ml/FeatureHasherExample.scala\n",
            "spark-3.0.0-preview2-bin-hadoop2.7/examples/src/main/scala/org/apache/spark/examples/ml/BucketizerExample.scala\n",
            "spark-3.0.0-preview2-bin-hadoop2.7/examples/src/main/scala/org/apache/spark/examples/ml/NormalizerExample.scala\n",
            "spark-3.0.0-preview2-bin-hadoop2.7/examples/src/main/scala/org/apache/spark/examples/ml/PCAExample.scala\n",
            "spark-3.0.0-preview2-bin-hadoop2.7/examples/src/main/scala/org/apache/spark/examples/ml/PowerIterationClusteringExample.scala\n",
            "spark-3.0.0-preview2-bin-hadoop2.7/examples/src/main/scala/org/apache/spark/examples/ml/StringIndexerExample.scala\n",
            "spark-3.0.0-preview2-bin-hadoop2.7/examples/src/main/scala/org/apache/spark/examples/ml/SummarizerExample.scala\n",
            "spark-3.0.0-preview2-bin-hadoop2.7/examples/src/main/scala/org/apache/spark/examples/ml/RFormulaExample.scala\n",
            "spark-3.0.0-preview2-bin-hadoop2.7/examples/src/main/scala/org/apache/spark/examples/ml/VectorAssemblerExample.scala\n",
            "spark-3.0.0-preview2-bin-hadoop2.7/examples/src/main/scala/org/apache/spark/examples/ml/ImputerExample.scala\n",
            "spark-3.0.0-preview2-bin-hadoop2.7/examples/src/main/scala/org/apache/spark/examples/ml/CountVectorizerExample.scala\n",
            "spark-3.0.0-preview2-bin-hadoop2.7/examples/src/main/scala/org/apache/spark/examples/ml/MinHashLSHExample.scala\n",
            "spark-3.0.0-preview2-bin-hadoop2.7/examples/src/main/scala/org/apache/spark/examples/ml/DCTExample.scala\n",
            "spark-3.0.0-preview2-bin-hadoop2.7/examples/src/main/scala/org/apache/spark/examples/ml/RandomForestRegressorExample.scala\n",
            "spark-3.0.0-preview2-bin-hadoop2.7/examples/src/main/scala/org/apache/spark/examples/ml/StopWordsRemoverExample.scala\n",
            "spark-3.0.0-preview2-bin-hadoop2.7/examples/src/main/scala/org/apache/spark/examples/ml/ModelSelectionViaCrossValidationExample.scala\n",
            "spark-3.0.0-preview2-bin-hadoop2.7/examples/src/main/scala/org/apache/spark/examples/ml/PrefixSpanExample.scala\n",
            "spark-3.0.0-preview2-bin-hadoop2.7/examples/src/main/scala/org/apache/spark/examples/ml/ChiSquareTestExample.scala\n",
            "spark-3.0.0-preview2-bin-hadoop2.7/examples/src/main/scala/org/apache/spark/examples/ml/LogisticRegressionSummaryExample.scala\n",
            "spark-3.0.0-preview2-bin-hadoop2.7/examples/src/main/scala/org/apache/spark/examples/ml/MultilayerPerceptronClassifierExample.scala\n",
            "spark-3.0.0-preview2-bin-hadoop2.7/examples/src/main/scala/org/apache/spark/examples/ml/Word2VecExample.scala\n",
            "spark-3.0.0-preview2-bin-hadoop2.7/examples/src/main/scala/org/apache/spark/examples/ml/StandardScalerExample.scala\n",
            "spark-3.0.0-preview2-bin-hadoop2.7/examples/src/main/scala/org/apache/spark/examples/ml/BucketedRandomProjectionLSHExample.scala\n",
            "spark-3.0.0-preview2-bin-hadoop2.7/examples/src/main/scala/org/apache/spark/examples/ml/GradientBoostedTreeClassifierExample.scala\n",
            "spark-3.0.0-preview2-bin-hadoop2.7/examples/src/main/scala/org/apache/spark/examples/ml/VectorSlicerExample.scala\n",
            "spark-3.0.0-preview2-bin-hadoop2.7/examples/src/main/scala/org/apache/spark/examples/ml/BinarizerExample.scala\n",
            "spark-3.0.0-preview2-bin-hadoop2.7/examples/src/main/scala/org/apache/spark/examples/ml/OneHotEncoderExample.scala\n",
            "spark-3.0.0-preview2-bin-hadoop2.7/examples/src/main/scala/org/apache/spark/examples/ml/InteractionExample.scala\n",
            "spark-3.0.0-preview2-bin-hadoop2.7/examples/src/main/scala/org/apache/spark/examples/ml/IsotonicRegressionExample.scala\n",
            "spark-3.0.0-preview2-bin-hadoop2.7/examples/src/main/scala/org/apache/spark/examples/ml/SQLTransformerExample.scala\n",
            "spark-3.0.0-preview2-bin-hadoop2.7/examples/src/main/scala/org/apache/spark/examples/ml/NaiveBayesExample.scala\n",
            "spark-3.0.0-preview2-bin-hadoop2.7/examples/src/main/scala/org/apache/spark/examples/ml/PipelineExample.scala\n",
            "spark-3.0.0-preview2-bin-hadoop2.7/examples/src/main/scala/org/apache/spark/examples/ml/TokenizerExample.scala\n",
            "spark-3.0.0-preview2-bin-hadoop2.7/examples/src/main/scala/org/apache/spark/examples/ml/ALSExample.scala\n",
            "spark-3.0.0-preview2-bin-hadoop2.7/examples/src/main/scala/org/apache/spark/examples/ml/KMeansExample.scala\n",
            "spark-3.0.0-preview2-bin-hadoop2.7/examples/src/main/scala/org/apache/spark/examples/ml/MulticlassLogisticRegressionWithElasticNetExample.scala\n",
            "spark-3.0.0-preview2-bin-hadoop2.7/examples/src/main/scala/org/apache/spark/examples/ml/OneVsRestExample.scala\n",
            "spark-3.0.0-preview2-bin-hadoop2.7/examples/src/main/scala/org/apache/spark/examples/ml/DataFrameExample.scala\n",
            "spark-3.0.0-preview2-bin-hadoop2.7/examples/src/main/scala/org/apache/spark/examples/ml/AFTSurvivalRegressionExample.scala\n",
            "spark-3.0.0-preview2-bin-hadoop2.7/examples/src/main/scala/org/apache/spark/examples/ml/RandomForestClassifierExample.scala\n",
            "spark-3.0.0-preview2-bin-hadoop2.7/examples/src/main/scala/org/apache/spark/examples/ml/VectorIndexerExample.scala\n",
            "spark-3.0.0-preview2-bin-hadoop2.7/examples/src/main/scala/org/apache/spark/examples/ml/EstimatorTransformerParamExample.scala\n",
            "spark-3.0.0-preview2-bin-hadoop2.7/examples/src/main/scala/org/apache/spark/examples/ml/ElementwiseProductExample.scala\n",
            "spark-3.0.0-preview2-bin-hadoop2.7/examples/src/main/scala/org/apache/spark/examples/ml/DecisionTreeClassificationExample.scala\n",
            "spark-3.0.0-preview2-bin-hadoop2.7/examples/src/main/scala/org/apache/spark/examples/ml/FPGrowthExample.scala\n",
            "spark-3.0.0-preview2-bin-hadoop2.7/examples/src/main/scala/org/apache/spark/examples/ml/RandomForestExample.scala\n",
            "spark-3.0.0-preview2-bin-hadoop2.7/examples/src/main/scala/org/apache/spark/examples/ml/GaussianMixtureExample.scala\n",
            "spark-3.0.0-preview2-bin-hadoop2.7/examples/src/main/scala/org/apache/spark/examples/ml/LogisticRegressionExample.scala\n",
            "spark-3.0.0-preview2-bin-hadoop2.7/examples/src/main/scala/org/apache/spark/examples/ml/LinearSVCExample.scala\n",
            "spark-3.0.0-preview2-bin-hadoop2.7/examples/src/main/scala/org/apache/spark/examples/ml/NGramExample.scala\n",
            "spark-3.0.0-preview2-bin-hadoop2.7/examples/src/main/scala/org/apache/spark/examples/ml/VectorSizeHintExample.scala\n",
            "spark-3.0.0-preview2-bin-hadoop2.7/examples/src/main/scala/org/apache/spark/examples/ml/LogisticRegressionWithElasticNetExample.scala\n",
            "spark-3.0.0-preview2-bin-hadoop2.7/examples/src/main/scala/org/apache/spark/examples/ml/UnaryTransformerExample.scala\n",
            "spark-3.0.0-preview2-bin-hadoop2.7/examples/src/main/scala/org/apache/spark/examples/ml/DeveloperApiExample.scala\n",
            "spark-3.0.0-preview2-bin-hadoop2.7/examples/src/main/scala/org/apache/spark/examples/ml/QuantileDiscretizerExample.scala\n",
            "spark-3.0.0-preview2-bin-hadoop2.7/examples/src/main/scala/org/apache/spark/examples/ml/LinearRegressionExample.scala\n",
            "spark-3.0.0-preview2-bin-hadoop2.7/examples/src/main/scala/org/apache/spark/examples/ml/RobustScalerExample.scala\n",
            "spark-3.0.0-preview2-bin-hadoop2.7/examples/src/main/scala/org/apache/spark/examples/ml/ChiSqSelectorExample.scala\n",
            "spark-3.0.0-preview2-bin-hadoop2.7/examples/src/main/scala/org/apache/spark/examples/ml/MinMaxScalerExample.scala\n",
            "spark-3.0.0-preview2-bin-hadoop2.7/examples/src/main/scala/org/apache/spark/examples/ml/MaxAbsScalerExample.scala\n",
            "spark-3.0.0-preview2-bin-hadoop2.7/examples/src/main/scala/org/apache/spark/examples/ml/TfIdfExample.scala\n",
            "spark-3.0.0-preview2-bin-hadoop2.7/examples/src/main/scala/org/apache/spark/examples/ml/GradientBoostedTreeRegressorExample.scala\n",
            "spark-3.0.0-preview2-bin-hadoop2.7/examples/src/main/scala/org/apache/spark/examples/ml/GeneralizedLinearRegressionExample.scala\n",
            "spark-3.0.0-preview2-bin-hadoop2.7/examples/src/main/scala/org/apache/spark/examples/ml/ModelSelectionViaTrainValidationSplitExample.scala\n",
            "spark-3.0.0-preview2-bin-hadoop2.7/examples/src/main/scala/org/apache/spark/examples/ml/CorrelationExample.scala\n",
            "spark-3.0.0-preview2-bin-hadoop2.7/examples/src/main/scala/org/apache/spark/examples/ml/DecisionTreeRegressionExample.scala\n",
            "spark-3.0.0-preview2-bin-hadoop2.7/examples/src/main/scala/org/apache/spark/examples/ml/IndexToStringExample.scala\n",
            "spark-3.0.0-preview2-bin-hadoop2.7/examples/src/main/scala/org/apache/spark/examples/ml/LinearRegressionWithElasticNetExample.scala\n",
            "spark-3.0.0-preview2-bin-hadoop2.7/examples/src/main/scala/org/apache/spark/examples/ml/DecisionTreeExample.scala\n",
            "spark-3.0.0-preview2-bin-hadoop2.7/examples/src/main/scala/org/apache/spark/examples/streaming/\n",
            "spark-3.0.0-preview2-bin-hadoop2.7/examples/src/main/scala/org/apache/spark/examples/streaming/SqlNetworkWordCount.scala\n",
            "spark-3.0.0-preview2-bin-hadoop2.7/examples/src/main/scala/org/apache/spark/examples/streaming/StreamingExamples.scala\n",
            "spark-3.0.0-preview2-bin-hadoop2.7/examples/src/main/scala/org/apache/spark/examples/streaming/QueueStream.scala\n",
            "spark-3.0.0-preview2-bin-hadoop2.7/examples/src/main/scala/org/apache/spark/examples/streaming/HdfsWordCount.scala\n",
            "spark-3.0.0-preview2-bin-hadoop2.7/examples/src/main/scala/org/apache/spark/examples/streaming/clickstream/\n",
            "spark-3.0.0-preview2-bin-hadoop2.7/examples/src/main/scala/org/apache/spark/examples/streaming/clickstream/PageViewStream.scala\n",
            "spark-3.0.0-preview2-bin-hadoop2.7/examples/src/main/scala/org/apache/spark/examples/streaming/clickstream/PageViewGenerator.scala\n",
            "spark-3.0.0-preview2-bin-hadoop2.7/examples/src/main/scala/org/apache/spark/examples/streaming/RecoverableNetworkWordCount.scala\n",
            "spark-3.0.0-preview2-bin-hadoop2.7/examples/src/main/scala/org/apache/spark/examples/streaming/CustomReceiver.scala\n",
            "spark-3.0.0-preview2-bin-hadoop2.7/examples/src/main/scala/org/apache/spark/examples/streaming/RawNetworkGrep.scala\n",
            "spark-3.0.0-preview2-bin-hadoop2.7/examples/src/main/scala/org/apache/spark/examples/streaming/DirectKafkaWordCount.scala\n",
            "spark-3.0.0-preview2-bin-hadoop2.7/examples/src/main/scala/org/apache/spark/examples/streaming/StatefulNetworkWordCount.scala\n",
            "spark-3.0.0-preview2-bin-hadoop2.7/examples/src/main/scala/org/apache/spark/examples/streaming/NetworkWordCount.scala\n",
            "spark-3.0.0-preview2-bin-hadoop2.7/examples/src/main/scala/org/apache/spark/examples/streaming/DirectKerberizedKafkaWordCount.scala\n",
            "spark-3.0.0-preview2-bin-hadoop2.7/examples/src/main/scala/org/apache/spark/examples/DriverSubmissionTest.scala\n",
            "spark-3.0.0-preview2-bin-hadoop2.7/examples/src/main/scala/org/apache/spark/examples/DFSReadWriteTest.scala\n",
            "spark-3.0.0-preview2-bin-hadoop2.7/examples/src/main/scala/org/apache/spark/examples/LocalFileLR.scala\n",
            "spark-3.0.0-preview2-bin-hadoop2.7/examples/src/main/scala/org/apache/spark/examples/MultiBroadcastTest.scala\n",
            "spark-3.0.0-preview2-bin-hadoop2.7/examples/src/main/scala/org/apache/spark/examples/SkewedGroupByTest.scala\n",
            "spark-3.0.0-preview2-bin-hadoop2.7/examples/src/main/scala/org/apache/spark/examples/AccumulatorMetricsTest.scala\n",
            "spark-3.0.0-preview2-bin-hadoop2.7/examples/src/main/scala/org/apache/spark/examples/SparkTC.scala\n",
            "spark-3.0.0-preview2-bin-hadoop2.7/examples/src/main/scala/org/apache/spark/examples/LogQuery.scala\n",
            "spark-3.0.0-preview2-bin-hadoop2.7/examples/src/main/scala/org/apache/spark/examples/SparkPageRank.scala\n",
            "spark-3.0.0-preview2-bin-hadoop2.7/examples/src/main/scala/org/apache/spark/examples/SparkPi.scala\n",
            "spark-3.0.0-preview2-bin-hadoop2.7/examples/src/main/scala/org/apache/spark/examples/LocalKMeans.scala\n",
            "spark-3.0.0-preview2-bin-hadoop2.7/examples/src/main/scala/org/apache/spark/examples/BroadcastTest.scala\n",
            "spark-3.0.0-preview2-bin-hadoop2.7/examples/src/main/scala/org/apache/spark/examples/LocalLR.scala\n",
            "spark-3.0.0-preview2-bin-hadoop2.7/examples/src/main/scala/org/apache/spark/examples/LocalPi.scala\n",
            "spark-3.0.0-preview2-bin-hadoop2.7/examples/src/main/scala/org/apache/spark/examples/sql/\n",
            "spark-3.0.0-preview2-bin-hadoop2.7/examples/src/main/scala/org/apache/spark/examples/sql/streaming/\n",
            "spark-3.0.0-preview2-bin-hadoop2.7/examples/src/main/scala/org/apache/spark/examples/sql/streaming/StructuredKafkaWordCount.scala\n",
            "spark-3.0.0-preview2-bin-hadoop2.7/examples/src/main/scala/org/apache/spark/examples/sql/streaming/StructuredSessionization.scala\n",
            "spark-3.0.0-preview2-bin-hadoop2.7/examples/src/main/scala/org/apache/spark/examples/sql/streaming/StructuredNetworkWordCount.scala\n",
            "spark-3.0.0-preview2-bin-hadoop2.7/examples/src/main/scala/org/apache/spark/examples/sql/streaming/StructuredNetworkWordCountWindowed.scala\n",
            "spark-3.0.0-preview2-bin-hadoop2.7/examples/src/main/scala/org/apache/spark/examples/sql/streaming/StructuredKerberizedKafkaWordCount.scala\n",
            "spark-3.0.0-preview2-bin-hadoop2.7/examples/src/main/scala/org/apache/spark/examples/sql/UserDefinedTypedAggregation.scala\n",
            "spark-3.0.0-preview2-bin-hadoop2.7/examples/src/main/scala/org/apache/spark/examples/sql/RDDRelation.scala\n",
            "spark-3.0.0-preview2-bin-hadoop2.7/examples/src/main/scala/org/apache/spark/examples/sql/SparkSQLExample.scala\n",
            "spark-3.0.0-preview2-bin-hadoop2.7/examples/src/main/scala/org/apache/spark/examples/sql/SQLDataSourceExample.scala\n",
            "spark-3.0.0-preview2-bin-hadoop2.7/examples/src/main/scala/org/apache/spark/examples/sql/hive/\n",
            "spark-3.0.0-preview2-bin-hadoop2.7/examples/src/main/scala/org/apache/spark/examples/sql/hive/SparkHiveExample.scala\n",
            "spark-3.0.0-preview2-bin-hadoop2.7/examples/src/main/scala/org/apache/spark/examples/sql/UserDefinedUntypedAggregation.scala\n",
            "spark-3.0.0-preview2-bin-hadoop2.7/examples/src/main/scala/org/apache/spark/examples/sql/SimpleTypedAggregator.scala\n",
            "spark-3.0.0-preview2-bin-hadoop2.7/examples/src/main/scala/org/apache/spark/examples/SparkHdfsLR.scala\n",
            "spark-3.0.0-preview2-bin-hadoop2.7/examples/src/main/scala/org/apache/spark/examples/mllib/\n",
            "spark-3.0.0-preview2-bin-hadoop2.7/examples/src/main/scala/org/apache/spark/examples/mllib/LDAExample.scala\n",
            "spark-3.0.0-preview2-bin-hadoop2.7/examples/src/main/scala/org/apache/spark/examples/mllib/BisectingKMeansExample.scala\n",
            "spark-3.0.0-preview2-bin-hadoop2.7/examples/src/main/scala/org/apache/spark/examples/mllib/TallSkinnySVD.scala\n",
            "spark-3.0.0-preview2-bin-hadoop2.7/examples/src/main/scala/org/apache/spark/examples/mllib/SampledRDDs.scala\n",
            "spark-3.0.0-preview2-bin-hadoop2.7/examples/src/main/scala/org/apache/spark/examples/mllib/RandomRDDGeneration.scala\n",
            "spark-3.0.0-preview2-bin-hadoop2.7/examples/src/main/scala/org/apache/spark/examples/mllib/NormalizerExample.scala\n",
            "spark-3.0.0-preview2-bin-hadoop2.7/examples/src/main/scala/org/apache/spark/examples/mllib/GradientBoostingClassificationExample.scala\n",
            "spark-3.0.0-preview2-bin-hadoop2.7/examples/src/main/scala/org/apache/spark/examples/mllib/PowerIterationClusteringExample.scala\n",
            "spark-3.0.0-preview2-bin-hadoop2.7/examples/src/main/scala/org/apache/spark/examples/mllib/StreamingTestExample.scala\n",
            "spark-3.0.0-preview2-bin-hadoop2.7/examples/src/main/scala/org/apache/spark/examples/mllib/MultiLabelMetricsExample.scala\n",
            "spark-3.0.0-preview2-bin-hadoop2.7/examples/src/main/scala/org/apache/spark/examples/mllib/LogisticRegressionWithLBFGSExample.scala\n",
            "spark-3.0.0-preview2-bin-hadoop2.7/examples/src/main/scala/org/apache/spark/examples/mllib/MultivariateSummarizer.scala\n",
            "spark-3.0.0-preview2-bin-hadoop2.7/examples/src/main/scala/org/apache/spark/examples/mllib/LBFGSExample.scala\n",
            "spark-3.0.0-preview2-bin-hadoop2.7/examples/src/main/scala/org/apache/spark/examples/mllib/TFIDFExample.scala\n",
            "spark-3.0.0-preview2-bin-hadoop2.7/examples/src/main/scala/org/apache/spark/examples/mllib/RandomForestRegressionExample.scala\n",
            "spark-3.0.0-preview2-bin-hadoop2.7/examples/src/main/scala/org/apache/spark/examples/mllib/PCAOnSourceVectorExample.scala\n",
            "spark-3.0.0-preview2-bin-hadoop2.7/examples/src/main/scala/org/apache/spark/examples/mllib/SVDExample.scala\n",
            "spark-3.0.0-preview2-bin-hadoop2.7/examples/src/main/scala/org/apache/spark/examples/mllib/PrefixSpanExample.scala\n",
            "spark-3.0.0-preview2-bin-hadoop2.7/examples/src/main/scala/org/apache/spark/examples/mllib/RandomForestClassificationExample.scala\n",
            "spark-3.0.0-preview2-bin-hadoop2.7/examples/src/main/scala/org/apache/spark/examples/mllib/Word2VecExample.scala\n",
            "spark-3.0.0-preview2-bin-hadoop2.7/examples/src/main/scala/org/apache/spark/examples/mllib/StandardScalerExample.scala\n",
            "spark-3.0.0-preview2-bin-hadoop2.7/examples/src/main/scala/org/apache/spark/examples/mllib/MulticlassMetricsExample.scala\n",
            "spark-3.0.0-preview2-bin-hadoop2.7/examples/src/main/scala/org/apache/spark/examples/mllib/GradientBoostingRegressionExample.scala\n",
            "spark-3.0.0-preview2-bin-hadoop2.7/examples/src/main/scala/org/apache/spark/examples/mllib/BinaryClassification.scala\n",
            "spark-3.0.0-preview2-bin-hadoop2.7/examples/src/main/scala/org/apache/spark/examples/mllib/BinaryClassificationMetricsExample.scala\n",
            "spark-3.0.0-preview2-bin-hadoop2.7/examples/src/main/scala/org/apache/spark/examples/mllib/IsotonicRegressionExample.scala\n",
            "spark-3.0.0-preview2-bin-hadoop2.7/examples/src/main/scala/org/apache/spark/examples/mllib/PMMLModelExportExample.scala\n",
            "spark-3.0.0-preview2-bin-hadoop2.7/examples/src/main/scala/org/apache/spark/examples/mllib/CosineSimilarity.scala\n",
            "spark-3.0.0-preview2-bin-hadoop2.7/examples/src/main/scala/org/apache/spark/examples/mllib/DenseKMeans.scala\n",
            "spark-3.0.0-preview2-bin-hadoop2.7/examples/src/main/scala/org/apache/spark/examples/mllib/NaiveBayesExample.scala\n",
            "spark-3.0.0-preview2-bin-hadoop2.7/examples/src/main/scala/org/apache/spark/examples/mllib/TallSkinnyPCA.scala\n",
            "spark-3.0.0-preview2-bin-hadoop2.7/examples/src/main/scala/org/apache/spark/examples/mllib/KMeansExample.scala\n",
            "spark-3.0.0-preview2-bin-hadoop2.7/examples/src/main/scala/org/apache/spark/examples/mllib/StreamingLinearRegressionExample.scala\n",
            "spark-3.0.0-preview2-bin-hadoop2.7/examples/src/main/scala/org/apache/spark/examples/mllib/RankingMetricsExample.scala\n",
            "spark-3.0.0-preview2-bin-hadoop2.7/examples/src/main/scala/org/apache/spark/examples/mllib/HypothesisTestingExample.scala\n",
            "spark-3.0.0-preview2-bin-hadoop2.7/examples/src/main/scala/org/apache/spark/examples/mllib/GradientBoostedTreesRunner.scala\n",
            "spark-3.0.0-preview2-bin-hadoop2.7/examples/src/main/scala/org/apache/spark/examples/mllib/HypothesisTestingKolmogorovSmirnovTestExample.scala\n",
            "spark-3.0.0-preview2-bin-hadoop2.7/examples/src/main/scala/org/apache/spark/examples/mllib/SimpleFPGrowth.scala\n",
            "spark-3.0.0-preview2-bin-hadoop2.7/examples/src/main/scala/org/apache/spark/examples/mllib/AbstractParams.scala\n",
            "spark-3.0.0-preview2-bin-hadoop2.7/examples/src/main/scala/org/apache/spark/examples/mllib/SVMWithSGDExample.scala\n",
            "spark-3.0.0-preview2-bin-hadoop2.7/examples/src/main/scala/org/apache/spark/examples/mllib/ElementwiseProductExample.scala\n",
            "spark-3.0.0-preview2-bin-hadoop2.7/examples/src/main/scala/org/apache/spark/examples/mllib/DecisionTreeClassificationExample.scala\n",
            "spark-3.0.0-preview2-bin-hadoop2.7/examples/src/main/scala/org/apache/spark/examples/mllib/FPGrowthExample.scala\n",
            "spark-3.0.0-preview2-bin-hadoop2.7/examples/src/main/scala/org/apache/spark/examples/mllib/GaussianMixtureExample.scala\n",
            "spark-3.0.0-preview2-bin-hadoop2.7/examples/src/main/scala/org/apache/spark/examples/mllib/StreamingLogisticRegression.scala\n",
            "spark-3.0.0-preview2-bin-hadoop2.7/examples/src/main/scala/org/apache/spark/examples/mllib/RecommendationExample.scala\n",
            "spark-3.0.0-preview2-bin-hadoop2.7/examples/src/main/scala/org/apache/spark/examples/mllib/ChiSqSelectorExample.scala\n",
            "spark-3.0.0-preview2-bin-hadoop2.7/examples/src/main/scala/org/apache/spark/examples/mllib/SummaryStatisticsExample.scala\n",
            "spark-3.0.0-preview2-bin-hadoop2.7/examples/src/main/scala/org/apache/spark/examples/mllib/SparseNaiveBayes.scala\n",
            "spark-3.0.0-preview2-bin-hadoop2.7/examples/src/main/scala/org/apache/spark/examples/mllib/MovieLensALS.scala\n",
            "spark-3.0.0-preview2-bin-hadoop2.7/examples/src/main/scala/org/apache/spark/examples/mllib/PCAOnRowMatrixExample.scala\n",
            "spark-3.0.0-preview2-bin-hadoop2.7/examples/src/main/scala/org/apache/spark/examples/mllib/Correlations.scala\n",
            "spark-3.0.0-preview2-bin-hadoop2.7/examples/src/main/scala/org/apache/spark/examples/mllib/CorrelationsExample.scala\n",
            "spark-3.0.0-preview2-bin-hadoop2.7/examples/src/main/scala/org/apache/spark/examples/mllib/StreamingKMeansExample.scala\n",
            "spark-3.0.0-preview2-bin-hadoop2.7/examples/src/main/scala/org/apache/spark/examples/mllib/AssociationRulesExample.scala\n",
            "spark-3.0.0-preview2-bin-hadoop2.7/examples/src/main/scala/org/apache/spark/examples/mllib/StratifiedSamplingExample.scala\n",
            "spark-3.0.0-preview2-bin-hadoop2.7/examples/src/main/scala/org/apache/spark/examples/mllib/KernelDensityEstimationExample.scala\n",
            "spark-3.0.0-preview2-bin-hadoop2.7/examples/src/main/scala/org/apache/spark/examples/mllib/DecisionTreeRunner.scala\n",
            "spark-3.0.0-preview2-bin-hadoop2.7/examples/src/main/scala/org/apache/spark/examples/mllib/DecisionTreeRegressionExample.scala\n",
            "spark-3.0.0-preview2-bin-hadoop2.7/examples/src/main/scala/org/apache/spark/examples/mllib/LatentDirichletAllocationExample.scala\n",
            "spark-3.0.0-preview2-bin-hadoop2.7/examples/src/main/scala/org/apache/spark/examples/GroupByTest.scala\n",
            "spark-3.0.0-preview2-bin-hadoop2.7/examples/src/main/scala/org/apache/spark/examples/pythonconverters/\n",
            "spark-3.0.0-preview2-bin-hadoop2.7/examples/src/main/scala/org/apache/spark/examples/pythonconverters/AvroConverters.scala\n",
            "spark-3.0.0-preview2-bin-hadoop2.7/examples/src/main/scala/org/apache/spark/examples/graphx/\n",
            "spark-3.0.0-preview2-bin-hadoop2.7/examples/src/main/scala/org/apache/spark/examples/graphx/LiveJournalPageRank.scala\n",
            "spark-3.0.0-preview2-bin-hadoop2.7/examples/src/main/scala/org/apache/spark/examples/graphx/Analytics.scala\n",
            "spark-3.0.0-preview2-bin-hadoop2.7/examples/src/main/scala/org/apache/spark/examples/graphx/ConnectedComponentsExample.scala\n",
            "spark-3.0.0-preview2-bin-hadoop2.7/examples/src/main/scala/org/apache/spark/examples/graphx/AggregateMessagesExample.scala\n",
            "spark-3.0.0-preview2-bin-hadoop2.7/examples/src/main/scala/org/apache/spark/examples/graphx/SynthBenchmark.scala\n",
            "spark-3.0.0-preview2-bin-hadoop2.7/examples/src/main/scala/org/apache/spark/examples/graphx/PageRankExample.scala\n",
            "spark-3.0.0-preview2-bin-hadoop2.7/examples/src/main/scala/org/apache/spark/examples/graphx/SSSPExample.scala\n",
            "spark-3.0.0-preview2-bin-hadoop2.7/examples/src/main/scala/org/apache/spark/examples/graphx/TriangleCountingExample.scala\n",
            "spark-3.0.0-preview2-bin-hadoop2.7/examples/src/main/scala/org/apache/spark/examples/graphx/ComprehensiveExample.scala\n",
            "spark-3.0.0-preview2-bin-hadoop2.7/examples/src/main/scala/org/apache/spark/examples/SparkKMeans.scala\n",
            "spark-3.0.0-preview2-bin-hadoop2.7/examples/src/main/scala/org/apache/spark/examples/LocalALS.scala\n",
            "spark-3.0.0-preview2-bin-hadoop2.7/examples/src/main/scala/org/apache/spark/examples/SparkALS.scala\n",
            "spark-3.0.0-preview2-bin-hadoop2.7/examples/src/main/scala/org/apache/spark/examples/SimpleSkewedGroupByTest.scala\n",
            "spark-3.0.0-preview2-bin-hadoop2.7/examples/src/main/scala/org/apache/spark/examples/ExceptionHandlingTest.scala\n",
            "spark-3.0.0-preview2-bin-hadoop2.7/examples/src/main/scala/org/apache/spark/examples/HdfsTest.scala\n",
            "spark-3.0.0-preview2-bin-hadoop2.7/examples/src/main/scala/org/apache/spark/examples/SparkLR.scala\n",
            "spark-3.0.0-preview2-bin-hadoop2.7/examples/src/main/r/\n",
            "spark-3.0.0-preview2-bin-hadoop2.7/examples/src/main/r/ml/\n",
            "spark-3.0.0-preview2-bin-hadoop2.7/examples/src/main/r/ml/bisectingKmeans.R\n",
            "spark-3.0.0-preview2-bin-hadoop2.7/examples/src/main/r/ml/fpm.R\n",
            "spark-3.0.0-preview2-bin-hadoop2.7/examples/src/main/r/ml/isoreg.R\n",
            "spark-3.0.0-preview2-bin-hadoop2.7/examples/src/main/r/ml/decisionTree.R\n",
            "spark-3.0.0-preview2-bin-hadoop2.7/examples/src/main/r/ml/powerIterationClustering.R\n",
            "spark-3.0.0-preview2-bin-hadoop2.7/examples/src/main/r/ml/naiveBayes.R\n",
            "spark-3.0.0-preview2-bin-hadoop2.7/examples/src/main/r/ml/prefixSpan.R\n",
            "spark-3.0.0-preview2-bin-hadoop2.7/examples/src/main/r/ml/gaussianMixture.R\n",
            "spark-3.0.0-preview2-bin-hadoop2.7/examples/src/main/r/ml/kmeans.R\n",
            "spark-3.0.0-preview2-bin-hadoop2.7/examples/src/main/r/ml/glm.R\n",
            "spark-3.0.0-preview2-bin-hadoop2.7/examples/src/main/r/ml/mlp.R\n",
            "spark-3.0.0-preview2-bin-hadoop2.7/examples/src/main/r/ml/lda.R\n",
            "spark-3.0.0-preview2-bin-hadoop2.7/examples/src/main/r/ml/survreg.R\n",
            "spark-3.0.0-preview2-bin-hadoop2.7/examples/src/main/r/ml/ml.R\n",
            "spark-3.0.0-preview2-bin-hadoop2.7/examples/src/main/r/ml/gbt.R\n",
            "spark-3.0.0-preview2-bin-hadoop2.7/examples/src/main/r/ml/svmLinear.R\n",
            "spark-3.0.0-preview2-bin-hadoop2.7/examples/src/main/r/ml/als.R\n",
            "spark-3.0.0-preview2-bin-hadoop2.7/examples/src/main/r/ml/logit.R\n",
            "spark-3.0.0-preview2-bin-hadoop2.7/examples/src/main/r/ml/kstest.R\n",
            "spark-3.0.0-preview2-bin-hadoop2.7/examples/src/main/r/ml/randomForest.R\n",
            "spark-3.0.0-preview2-bin-hadoop2.7/examples/src/main/r/streaming/\n",
            "spark-3.0.0-preview2-bin-hadoop2.7/examples/src/main/r/streaming/structured_network_wordcount.R\n",
            "spark-3.0.0-preview2-bin-hadoop2.7/examples/src/main/r/data-manipulation.R\n",
            "spark-3.0.0-preview2-bin-hadoop2.7/examples/src/main/r/dataframe.R\n",
            "spark-3.0.0-preview2-bin-hadoop2.7/examples/src/main/r/RSparkSQLExample.R\n",
            "spark-3.0.0-preview2-bin-hadoop2.7/conf/\n",
            "spark-3.0.0-preview2-bin-hadoop2.7/conf/slaves.template\n",
            "spark-3.0.0-preview2-bin-hadoop2.7/conf/spark-env.sh.template\n",
            "spark-3.0.0-preview2-bin-hadoop2.7/conf/log4j.properties.template\n",
            "spark-3.0.0-preview2-bin-hadoop2.7/conf/spark-defaults.conf.template\n",
            "spark-3.0.0-preview2-bin-hadoop2.7/conf/fairscheduler.xml.template\n",
            "spark-3.0.0-preview2-bin-hadoop2.7/conf/metrics.properties.template\n",
            "spark-3.0.0-preview2-bin-hadoop2.7/jars/\n",
            "spark-3.0.0-preview2-bin-hadoop2.7/jars/datanucleus-core-4.1.17.jar\n",
            "spark-3.0.0-preview2-bin-hadoop2.7/jars/jpam-1.1.jar\n",
            "spark-3.0.0-preview2-bin-hadoop2.7/jars/guice-servlet-3.0.jar\n",
            "spark-3.0.0-preview2-bin-hadoop2.7/jars/hive-shims-0.23-2.3.6.jar\n",
            "spark-3.0.0-preview2-bin-hadoop2.7/jars/okapi-shade-0.4.2.jar\n",
            "spark-3.0.0-preview2-bin-hadoop2.7/jars/httpclient-4.5.6.jar\n",
            "spark-3.0.0-preview2-bin-hadoop2.7/jars/jaxb-api-2.2.2.jar\n",
            "spark-3.0.0-preview2-bin-hadoop2.7/jars/avro-1.8.2.jar\n",
            "spark-3.0.0-preview2-bin-hadoop2.7/jars/hadoop-mapreduce-client-app-2.7.4.jar\n",
            "spark-3.0.0-preview2-bin-hadoop2.7/jars/jsr305-3.0.0.jar\n",
            "spark-3.0.0-preview2-bin-hadoop2.7/jars/slf4j-api-1.7.16.jar\n",
            "spark-3.0.0-preview2-bin-hadoop2.7/jars/JTransforms-3.1.jar\n",
            "spark-3.0.0-preview2-bin-hadoop2.7/jars/orc-core-1.5.8.jar\n",
            "spark-3.0.0-preview2-bin-hadoop2.7/jars/spark-mllib-local_2.12-3.0.0-preview2.jar\n",
            "spark-3.0.0-preview2-bin-hadoop2.7/jars/jersey-server-2.29.1.jar\n",
            "spark-3.0.0-preview2-bin-hadoop2.7/jars/scala-library-2.12.10.jar\n",
            "spark-3.0.0-preview2-bin-hadoop2.7/jars/jackson-dataformat-yaml-2.10.0.jar\n",
            "spark-3.0.0-preview2-bin-hadoop2.7/jars/parquet-common-1.10.1.jar\n",
            "spark-3.0.0-preview2-bin-hadoop2.7/jars/zstd-jni-1.4.4-3.jar\n",
            "spark-3.0.0-preview2-bin-hadoop2.7/jars/hive-serde-2.3.6.jar\n",
            "spark-3.0.0-preview2-bin-hadoop2.7/jars/ST4-4.0.4.jar\n",
            "spark-3.0.0-preview2-bin-hadoop2.7/jars/libthrift-0.12.0.jar\n",
            "spark-3.0.0-preview2-bin-hadoop2.7/jars/spark-hive-thriftserver_2.12-3.0.0-preview2.jar\n",
            "spark-3.0.0-preview2-bin-hadoop2.7/jars/hive-shims-scheduler-2.3.6.jar\n",
            "spark-3.0.0-preview2-bin-hadoop2.7/jars/javassist-3.22.0-CR2.jar\n",
            "spark-3.0.0-preview2-bin-hadoop2.7/jars/stax-api-1.0.1.jar\n",
            "spark-3.0.0-preview2-bin-hadoop2.7/jars/json4s-ast_2.12-3.6.6.jar\n",
            "spark-3.0.0-preview2-bin-hadoop2.7/jars/snappy-java-1.1.7.3.jar\n",
            "spark-3.0.0-preview2-bin-hadoop2.7/jars/spark-graph_2.12-3.0.0-preview2.jar\n",
            "spark-3.0.0-preview2-bin-hadoop2.7/jars/hive-common-2.3.6.jar\n",
            "spark-3.0.0-preview2-bin-hadoop2.7/jars/pyrolite-4.30.jar\n",
            "spark-3.0.0-preview2-bin-hadoop2.7/jars/metrics-json-4.1.1.jar\n",
            "spark-3.0.0-preview2-bin-hadoop2.7/jars/hive-exec-2.3.6-core.jar\n",
            "spark-3.0.0-preview2-bin-hadoop2.7/jars/super-csv-2.2.0.jar\n",
            "spark-3.0.0-preview2-bin-hadoop2.7/jars/json4s-scalap_2.12-3.6.6.jar\n",
            "spark-3.0.0-preview2-bin-hadoop2.7/jars/jackson-databind-2.10.0.jar\n",
            "spark-3.0.0-preview2-bin-hadoop2.7/jars/log4j-1.2.17.jar\n",
            "spark-3.0.0-preview2-bin-hadoop2.7/jars/javolution-5.5.1.jar\n",
            "spark-3.0.0-preview2-bin-hadoop2.7/jars/spire_2.12-0.17.0-M1.jar\n",
            "spark-3.0.0-preview2-bin-hadoop2.7/jars/spark-graphx_2.12-3.0.0-preview2.jar\n",
            "spark-3.0.0-preview2-bin-hadoop2.7/jars/zookeeper-3.4.14.jar\n",
            "spark-3.0.0-preview2-bin-hadoop2.7/jars/velocity-1.5.jar\n",
            "spark-3.0.0-preview2-bin-hadoop2.7/jars/jetty-sslengine-6.1.26.jar\n",
            "spark-3.0.0-preview2-bin-hadoop2.7/jars/spark-tags_2.12-3.0.0-preview2-tests.jar\n",
            "spark-3.0.0-preview2-bin-hadoop2.7/jars/jakarta.activation-api-1.2.1.jar\n",
            "spark-3.0.0-preview2-bin-hadoop2.7/jars/spark-core_2.12-3.0.0-preview2.jar\n",
            "spark-3.0.0-preview2-bin-hadoop2.7/jars/scala-parser-combinators_2.12-1.1.2.jar\n",
            "spark-3.0.0-preview2-bin-hadoop2.7/jars/paranamer-2.8.jar\n",
            "spark-3.0.0-preview2-bin-hadoop2.7/jars/jackson-jaxrs-1.9.13.jar\n",
            "spark-3.0.0-preview2-bin-hadoop2.7/jars/api-util-1.0.0-M20.jar\n",
            "spark-3.0.0-preview2-bin-hadoop2.7/jars/spark-unsafe_2.12-3.0.0-preview2.jar\n",
            "spark-3.0.0-preview2-bin-hadoop2.7/jars/commons-lang-2.6.jar\n",
            "spark-3.0.0-preview2-bin-hadoop2.7/jars/spark-kubernetes_2.12-3.0.0-preview2.jar\n",
            "spark-3.0.0-preview2-bin-hadoop2.7/jars/joda-time-2.10.5.jar\n",
            "spark-3.0.0-preview2-bin-hadoop2.7/jars/jackson-module-paranamer-2.10.0.jar\n",
            "spark-3.0.0-preview2-bin-hadoop2.7/jars/mesos-1.4.0-shaded-protobuf.jar\n",
            "spark-3.0.0-preview2-bin-hadoop2.7/jars/breeze_2.12-1.0.jar\n",
            "spark-3.0.0-preview2-bin-hadoop2.7/jars/spark-sql_2.12-3.0.0-preview2.jar\n",
            "spark-3.0.0-preview2-bin-hadoop2.7/jars/metrics-jvm-4.1.1.jar\n",
            "spark-3.0.0-preview2-bin-hadoop2.7/jars/jersey-media-jaxb-2.29.1.jar\n",
            "spark-3.0.0-preview2-bin-hadoop2.7/jars/activation-1.1.1.jar\n",
            "spark-3.0.0-preview2-bin-hadoop2.7/jars/spark-hive_2.12-3.0.0-preview2.jar\n",
            "spark-3.0.0-preview2-bin-hadoop2.7/jars/jersey-hk2-2.29.1.jar\n",
            "spark-3.0.0-preview2-bin-hadoop2.7/jars/commons-net-3.1.jar\n",
            "spark-3.0.0-preview2-bin-hadoop2.7/jars/xmlenc-0.52.jar\n",
            "spark-3.0.0-preview2-bin-hadoop2.7/jars/spark-mesos_2.12-3.0.0-preview2.jar\n",
            "spark-3.0.0-preview2-bin-hadoop2.7/jars/avro-mapred-1.8.2-hadoop2.jar\n",
            "spark-3.0.0-preview2-bin-hadoop2.7/jars/transaction-api-1.1.jar\n",
            "spark-3.0.0-preview2-bin-hadoop2.7/jars/spark-yarn_2.12-3.0.0-preview2.jar\n",
            "spark-3.0.0-preview2-bin-hadoop2.7/jars/scala-collection-compat_2.12-2.1.1.jar\n",
            "spark-3.0.0-preview2-bin-hadoop2.7/jars/metrics-core-4.1.1.jar\n",
            "spark-3.0.0-preview2-bin-hadoop2.7/jars/protobuf-java-2.5.0.jar\n",
            "spark-3.0.0-preview2-bin-hadoop2.7/jars/py4j-0.10.8.1.jar\n",
            "spark-3.0.0-preview2-bin-hadoop2.7/jars/commons-compress-1.8.1.jar\n",
            "spark-3.0.0-preview2-bin-hadoop2.7/jars/curator-recipes-2.7.1.jar\n",
            "spark-3.0.0-preview2-bin-hadoop2.7/jars/kubernetes-client-4.6.4.jar\n",
            "spark-3.0.0-preview2-bin-hadoop2.7/jars/spark-sketch_2.12-3.0.0-preview2.jar\n",
            "spark-3.0.0-preview2-bin-hadoop2.7/jars/zjsonpatch-0.3.0.jar\n",
            "spark-3.0.0-preview2-bin-hadoop2.7/jars/kubernetes-model-common-4.6.4.jar\n",
            "spark-3.0.0-preview2-bin-hadoop2.7/jars/spire-macros_2.12-0.17.0-M1.jar\n",
            "spark-3.0.0-preview2-bin-hadoop2.7/jars/spark-mllib_2.12-3.0.0-preview2.jar\n",
            "spark-3.0.0-preview2-bin-hadoop2.7/jars/commons-compiler-3.0.15.jar\n",
            "spark-3.0.0-preview2-bin-hadoop2.7/jars/univocity-parsers-2.8.3.jar\n",
            "spark-3.0.0-preview2-bin-hadoop2.7/jars/json4s-jackson_2.12-3.6.6.jar\n",
            "spark-3.0.0-preview2-bin-hadoop2.7/jars/arrow-vector-0.15.1.jar\n",
            "spark-3.0.0-preview2-bin-hadoop2.7/jars/spark-catalyst_2.12-3.0.0-preview2.jar\n",
            "spark-3.0.0-preview2-bin-hadoop2.7/jars/okhttp-3.12.6.jar\n",
            "spark-3.0.0-preview2-bin-hadoop2.7/jars/jersey-container-servlet-2.29.1.jar\n",
            "spark-3.0.0-preview2-bin-hadoop2.7/jars/aopalliance-1.0.jar\n",
            "spark-3.0.0-preview2-bin-hadoop2.7/jars/hk2-locator-2.6.1.jar\n",
            "spark-3.0.0-preview2-bin-hadoop2.7/jars/jta-1.1.jar\n",
            "spark-3.0.0-preview2-bin-hadoop2.7/jars/commons-crypto-1.0.0.jar\n",
            "spark-3.0.0-preview2-bin-hadoop2.7/jars/hadoop-client-2.7.4.jar\n",
            "spark-3.0.0-preview2-bin-hadoop2.7/jars/cats-kernel_2.12-2.0.0-M4.jar\n",
            "spark-3.0.0-preview2-bin-hadoop2.7/jars/jetty-util-6.1.26.jar\n",
            "spark-3.0.0-preview2-bin-hadoop2.7/jars/spire-platform_2.12-0.17.0-M1.jar\n",
            "spark-3.0.0-preview2-bin-hadoop2.7/jars/jcl-over-slf4j-1.7.16.jar\n",
            "spark-3.0.0-preview2-bin-hadoop2.7/jars/hadoop-yarn-server-web-proxy-2.7.4.jar\n",
            "spark-3.0.0-preview2-bin-hadoop2.7/jars/jaxb-runtime-2.3.2.jar\n",
            "spark-3.0.0-preview2-bin-hadoop2.7/jars/jetty-6.1.26.jar\n",
            "spark-3.0.0-preview2-bin-hadoop2.7/jars/hadoop-mapreduce-client-common-2.7.4.jar\n",
            "spark-3.0.0-preview2-bin-hadoop2.7/jars/json-1.8.jar\n",
            "spark-3.0.0-preview2-bin-hadoop2.7/jars/dropwizard-metrics-hadoop-metrics2-reporter-0.1.2.jar\n",
            "spark-3.0.0-preview2-bin-hadoop2.7/jars/osgi-resource-locator-1.0.3.jar\n",
            "spark-3.0.0-preview2-bin-hadoop2.7/jars/hk2-utils-2.6.1.jar\n",
            "spark-3.0.0-preview2-bin-hadoop2.7/jars/hadoop-yarn-common-2.7.4.jar\n",
            "spark-3.0.0-preview2-bin-hadoop2.7/jars/algebra_2.12-2.0.0-M2.jar\n",
            "spark-3.0.0-preview2-bin-hadoop2.7/jars/jackson-core-asl-1.9.13.jar\n",
            "spark-3.0.0-preview2-bin-hadoop2.7/jars/json4s-core_2.12-3.6.6.jar\n",
            "spark-3.0.0-preview2-bin-hadoop2.7/jars/parquet-hadoop-1.10.1.jar\n",
            "spark-3.0.0-preview2-bin-hadoop2.7/jars/jersey-common-2.29.1.jar\n",
            "spark-3.0.0-preview2-bin-hadoop2.7/jars/chill-java-0.9.3.jar\n",
            "spark-3.0.0-preview2-bin-hadoop2.7/jars/guice-3.0.jar\n",
            "spark-3.0.0-preview2-bin-hadoop2.7/jars/stax-api-1.0-2.jar\n",
            "spark-3.0.0-preview2-bin-hadoop2.7/jars/hadoop-yarn-api-2.7.4.jar\n",
            "spark-3.0.0-preview2-bin-hadoop2.7/jars/minlog-1.3.0.jar\n",
            "spark-3.0.0-preview2-bin-hadoop2.7/jars/shims-0.7.45.jar\n",
            "spark-3.0.0-preview2-bin-hadoop2.7/jars/hadoop-mapreduce-client-jobclient-2.7.4.jar\n",
            "spark-3.0.0-preview2-bin-hadoop2.7/jars/commons-cli-1.2.jar\n",
            "spark-3.0.0-preview2-bin-hadoop2.7/jars/jackson-module-jaxb-annotations-2.10.0.jar\n",
            "spark-3.0.0-preview2-bin-hadoop2.7/jars/jackson-xc-1.9.13.jar\n",
            "spark-3.0.0-preview2-bin-hadoop2.7/jars/logging-interceptor-3.12.6.jar\n",
            "spark-3.0.0-preview2-bin-hadoop2.7/jars/curator-framework-2.7.1.jar\n",
            "spark-3.0.0-preview2-bin-hadoop2.7/jars/scala-reflect-2.12.10.jar\n",
            "spark-3.0.0-preview2-bin-hadoop2.7/jars/scala-xml_2.12-1.2.0.jar\n",
            "spark-3.0.0-preview2-bin-hadoop2.7/jars/api-asn1-api-1.0.0-M20.jar\n",
            "spark-3.0.0-preview2-bin-hadoop2.7/jars/hadoop-auth-2.7.4.jar\n",
            "spark-3.0.0-preview2-bin-hadoop2.7/jars/flatbuffers-java-1.9.0.jar\n",
            "spark-3.0.0-preview2-bin-hadoop2.7/jars/commons-configuration-1.6.jar\n",
            "spark-3.0.0-preview2-bin-hadoop2.7/jars/jackson-core-2.10.0.jar\n",
            "spark-3.0.0-preview2-bin-hadoop2.7/jars/HikariCP-2.5.1.jar\n",
            "spark-3.0.0-preview2-bin-hadoop2.7/jars/libfb303-0.9.3.jar\n",
            "spark-3.0.0-preview2-bin-hadoop2.7/jars/audience-annotations-0.5.0.jar\n",
            "spark-3.0.0-preview2-bin-hadoop2.7/jars/objenesis-2.5.1.jar\n",
            "spark-3.0.0-preview2-bin-hadoop2.7/jars/arrow-memory-0.15.1.jar\n",
            "spark-3.0.0-preview2-bin-hadoop2.7/jars/jakarta.validation-api-2.0.2.jar\n",
            "spark-3.0.0-preview2-bin-hadoop2.7/jars/spark-network-common_2.12-3.0.0-preview2.jar\n",
            "spark-3.0.0-preview2-bin-hadoop2.7/jars/commons-io-2.4.jar\n",
            "spark-3.0.0-preview2-bin-hadoop2.7/jars/hk2-api-2.6.1.jar\n",
            "spark-3.0.0-preview2-bin-hadoop2.7/jars/breeze-macros_2.12-1.0.jar\n",
            "spark-3.0.0-preview2-bin-hadoop2.7/jars/hive-vector-code-gen-2.3.6.jar\n",
            "spark-3.0.0-preview2-bin-hadoop2.7/jars/hive-cli-2.3.6.jar\n",
            "spark-3.0.0-preview2-bin-hadoop2.7/jars/aopalliance-repackaged-2.6.1.jar\n",
            "spark-3.0.0-preview2-bin-hadoop2.7/jars/hadoop-yarn-client-2.7.4.jar\n",
            "spark-3.0.0-preview2-bin-hadoop2.7/jars/jackson-mapper-asl-1.9.13.jar\n",
            "spark-3.0.0-preview2-bin-hadoop2.7/jars/commons-collections-3.2.2.jar\n",
            "spark-3.0.0-preview2-bin-hadoop2.7/jars/commons-digester-1.8.jar\n",
            "spark-3.0.0-preview2-bin-hadoop2.7/jars/hive-service-rpc-2.3.6.jar\n",
            "spark-3.0.0-preview2-bin-hadoop2.7/jars/hadoop-hdfs-2.7.4.jar\n",
            "spark-3.0.0-preview2-bin-hadoop2.7/jars/ivy-2.4.0.jar\n",
            "spark-3.0.0-preview2-bin-hadoop2.7/jars/hadoop-annotations-2.7.4.jar\n",
            "spark-3.0.0-preview2-bin-hadoop2.7/jars/istack-commons-runtime-3.0.8.jar\n",
            "spark-3.0.0-preview2-bin-hadoop2.7/jars/netty-all-4.1.42.Final.jar\n",
            "spark-3.0.0-preview2-bin-hadoop2.7/jars/spire-util_2.12-0.17.0-M1.jar\n",
            "spark-3.0.0-preview2-bin-hadoop2.7/jars/compress-lzf-1.0.3.jar\n",
            "spark-3.0.0-preview2-bin-hadoop2.7/jars/RoaringBitmap-0.7.45.jar\n",
            "spark-3.0.0-preview2-bin-hadoop2.7/jars/javax.jdo-3.2.0-m3.jar\n",
            "spark-3.0.0-preview2-bin-hadoop2.7/jars/hive-metastore-2.3.6.jar\n",
            "spark-3.0.0-preview2-bin-hadoop2.7/jars/jul-to-slf4j-1.7.16.jar\n",
            "spark-3.0.0-preview2-bin-hadoop2.7/jars/hadoop-common-2.7.4.jar\n",
            "spark-3.0.0-preview2-bin-hadoop2.7/jars/spark-tags_2.12-3.0.0-preview2.jar\n",
            "spark-3.0.0-preview2-bin-hadoop2.7/jars/spark-graph-api_2.12-3.0.0-preview2.jar\n",
            "spark-3.0.0-preview2-bin-hadoop2.7/jars/parquet-format-2.4.0.jar\n",
            "spark-3.0.0-preview2-bin-hadoop2.7/jars/httpcore-4.4.12.jar\n",
            "spark-3.0.0-preview2-bin-hadoop2.7/jars/parquet-column-1.10.1.jar\n",
            "spark-3.0.0-preview2-bin-hadoop2.7/jars/hadoop-mapreduce-client-shuffle-2.7.4.jar\n",
            "spark-3.0.0-preview2-bin-hadoop2.7/jars/kubernetes-model-4.6.4.jar\n",
            "spark-3.0.0-preview2-bin-hadoop2.7/jars/slf4j-log4j12-1.7.16.jar\n",
            "spark-3.0.0-preview2-bin-hadoop2.7/jars/kryo-shaded-4.0.2.jar\n",
            "spark-3.0.0-preview2-bin-hadoop2.7/jars/antlr-runtime-3.5.2.jar\n",
            "spark-3.0.0-preview2-bin-hadoop2.7/jars/xercesImpl-2.9.1.jar\n",
            "spark-3.0.0-preview2-bin-hadoop2.7/jars/metrics-jmx-4.1.1.jar\n",
            "spark-3.0.0-preview2-bin-hadoop2.7/jars/machinist_2.12-0.6.8.jar\n",
            "spark-3.0.0-preview2-bin-hadoop2.7/jars/hive-llap-common-2.3.6.jar\n",
            "spark-3.0.0-preview2-bin-hadoop2.7/jars/okio-1.15.0.jar\n",
            "spark-3.0.0-preview2-bin-hadoop2.7/jars/derby-10.12.1.1.jar\n",
            "spark-3.0.0-preview2-bin-hadoop2.7/jars/jakarta.xml.bind-api-2.3.2.jar\n",
            "spark-3.0.0-preview2-bin-hadoop2.7/jars/spark-repl_2.12-3.0.0-preview2.jar\n",
            "spark-3.0.0-preview2-bin-hadoop2.7/jars/jackson-module-scala_2.12-2.10.0.jar\n",
            "spark-3.0.0-preview2-bin-hadoop2.7/jars/bonecp-0.8.0.RELEASE.jar\n",
            "spark-3.0.0-preview2-bin-hadoop2.7/jars/curator-client-2.7.1.jar\n",
            "spark-3.0.0-preview2-bin-hadoop2.7/jars/snakeyaml-1.24.jar\n",
            "spark-3.0.0-preview2-bin-hadoop2.7/jars/jersey-container-servlet-core-2.29.1.jar\n",
            "spark-3.0.0-preview2-bin-hadoop2.7/jars/macro-compat_2.12-1.1.1.jar\n",
            "spark-3.0.0-preview2-bin-hadoop2.7/jars/commons-math3-3.4.1.jar\n",
            "spark-3.0.0-preview2-bin-hadoop2.7/jars/oro-2.0.8.jar\n",
            "spark-3.0.0-preview2-bin-hadoop2.7/jars/lz4-java-1.7.0.jar\n",
            "spark-3.0.0-preview2-bin-hadoop2.7/jars/orc-mapreduce-1.5.8.jar\n",
            "spark-3.0.0-preview2-bin-hadoop2.7/jars/jackson-annotations-2.10.0.jar\n",
            "spark-3.0.0-preview2-bin-hadoop2.7/jars/chill_2.12-0.9.3.jar\n",
            "spark-3.0.0-preview2-bin-hadoop2.7/jars/jersey-client-2.29.1.jar\n",
            "spark-3.0.0-preview2-bin-hadoop2.7/jars/opencsv-2.3.jar\n",
            "spark-3.0.0-preview2-bin-hadoop2.7/jars/spark-kvstore_2.12-3.0.0-preview2.jar\n",
            "spark-3.0.0-preview2-bin-hadoop2.7/jars/scala-compiler-2.12.10.jar\n",
            "spark-3.0.0-preview2-bin-hadoop2.7/jars/metrics-graphite-4.1.1.jar\n",
            "spark-3.0.0-preview2-bin-hadoop2.7/jars/apacheds-kerberos-codec-2.0.0-M15.jar\n",
            "spark-3.0.0-preview2-bin-hadoop2.7/jars/arrow-format-0.15.1.jar\n",
            "spark-3.0.0-preview2-bin-hadoop2.7/jars/parquet-jackson-1.10.1.jar\n",
            "spark-3.0.0-preview2-bin-hadoop2.7/jars/generex-1.0.2.jar\n",
            "spark-3.0.0-preview2-bin-hadoop2.7/jars/spark-streaming_2.12-3.0.0-preview2.jar\n",
            "spark-3.0.0-preview2-bin-hadoop2.7/jars/parquet-encoding-1.10.1.jar\n",
            "spark-3.0.0-preview2-bin-hadoop2.7/jars/commons-pool-1.5.4.jar\n",
            "spark-3.0.0-preview2-bin-hadoop2.7/jars/javax.servlet-api-3.1.0.jar\n",
            "spark-3.0.0-preview2-bin-hadoop2.7/jars/avro-ipc-1.8.2.jar\n",
            "spark-3.0.0-preview2-bin-hadoop2.7/jars/jakarta.ws.rs-api-2.1.6.jar\n",
            "spark-3.0.0-preview2-bin-hadoop2.7/jars/jsp-api-2.1.jar\n",
            "spark-3.0.0-preview2-bin-hadoop2.7/jars/jakarta.annotation-api-1.3.5.jar\n",
            "spark-3.0.0-preview2-bin-hadoop2.7/jars/stream-2.9.6.jar\n",
            "spark-3.0.0-preview2-bin-hadoop2.7/jars/javax.inject-1.jar\n",
            "spark-3.0.0-preview2-bin-hadoop2.7/jars/JLargeArrays-1.5.jar\n",
            "spark-3.0.0-preview2-bin-hadoop2.7/jars/xz-1.5.jar\n",
            "spark-3.0.0-preview2-bin-hadoop2.7/jars/datanucleus-api-jdo-4.2.4.jar\n",
            "spark-3.0.0-preview2-bin-hadoop2.7/jars/orc-shims-1.5.8.jar\n",
            "spark-3.0.0-preview2-bin-hadoop2.7/jars/core-1.1.2.jar\n",
            "spark-3.0.0-preview2-bin-hadoop2.7/jars/commons-codec-1.10.jar\n",
            "spark-3.0.0-preview2-bin-hadoop2.7/jars/commons-logging-1.1.3.jar\n",
            "spark-3.0.0-preview2-bin-hadoop2.7/jars/aircompressor-0.10.jar\n",
            "spark-3.0.0-preview2-bin-hadoop2.7/jars/shapeless_2.12-2.3.3.jar\n",
            "spark-3.0.0-preview2-bin-hadoop2.7/jars/hadoop-yarn-server-common-2.7.4.jar\n",
            "spark-3.0.0-preview2-bin-hadoop2.7/jars/jline-2.14.6.jar\n",
            "spark-3.0.0-preview2-bin-hadoop2.7/jars/leveldbjni-all-1.8.jar\n",
            "spark-3.0.0-preview2-bin-hadoop2.7/jars/hive-shims-2.3.6.jar\n",
            "spark-3.0.0-preview2-bin-hadoop2.7/jars/commons-lang3-3.9.jar\n",
            "spark-3.0.0-preview2-bin-hadoop2.7/jars/spark-network-shuffle_2.12-3.0.0-preview2.jar\n",
            "spark-3.0.0-preview2-bin-hadoop2.7/jars/xbean-asm7-shaded-4.15.jar\n",
            "spark-3.0.0-preview2-bin-hadoop2.7/jars/jdo-api-3.0.1.jar\n",
            "spark-3.0.0-preview2-bin-hadoop2.7/jars/spark-cypher_2.12-3.0.0-preview2.jar\n",
            "spark-3.0.0-preview2-bin-hadoop2.7/jars/hive-jdbc-2.3.6.jar\n",
            "spark-3.0.0-preview2-bin-hadoop2.7/jars/commons-dbcp-1.4.jar\n",
            "spark-3.0.0-preview2-bin-hadoop2.7/jars/gson-2.2.4.jar\n",
            "spark-3.0.0-preview2-bin-hadoop2.7/jars/arpack_combined_all-0.1.jar\n",
            "spark-3.0.0-preview2-bin-hadoop2.7/jars/janino-3.0.15.jar\n",
            "spark-3.0.0-preview2-bin-hadoop2.7/jars/hive-shims-common-2.3.6.jar\n",
            "spark-3.0.0-preview2-bin-hadoop2.7/jars/apacheds-i18n-2.0.0-M15.jar\n",
            "spark-3.0.0-preview2-bin-hadoop2.7/jars/jodd-core-3.5.2.jar\n",
            "spark-3.0.0-preview2-bin-hadoop2.7/jars/antlr4-runtime-4.7.1.jar\n",
            "spark-3.0.0-preview2-bin-hadoop2.7/jars/htrace-core-3.1.0-incubating.jar\n",
            "spark-3.0.0-preview2-bin-hadoop2.7/jars/datanucleus-rdbms-4.1.19.jar\n",
            "spark-3.0.0-preview2-bin-hadoop2.7/jars/hive-beeline-2.3.6.jar\n",
            "spark-3.0.0-preview2-bin-hadoop2.7/jars/jakarta.inject-2.6.1.jar\n",
            "spark-3.0.0-preview2-bin-hadoop2.7/jars/automaton-1.11-8.jar\n",
            "spark-3.0.0-preview2-bin-hadoop2.7/jars/spark-launcher_2.12-3.0.0-preview2.jar\n",
            "spark-3.0.0-preview2-bin-hadoop2.7/jars/guava-14.0.1.jar\n",
            "spark-3.0.0-preview2-bin-hadoop2.7/jars/commons-text-1.6.jar\n",
            "spark-3.0.0-preview2-bin-hadoop2.7/jars/hadoop-mapreduce-client-core-2.7.4.jar\n",
            "spark-3.0.0-preview2-bin-hadoop2.7/jars/hive-storage-api-2.6.0.jar\n",
            "spark-3.0.0-preview2-bin-hadoop2.7/jars/commons-beanutils-1.9.4.jar\n",
            "spark-3.0.0-preview2-bin-hadoop2.7/jars/commons-httpclient-3.1.jar\n",
            "spark-3.0.0-preview2-bin-hadoop2.7/NOTICE\n",
            "spark-3.0.0-preview2-bin-hadoop2.7/python/\n",
            "spark-3.0.0-preview2-bin-hadoop2.7/python/.gitignore\n",
            "spark-3.0.0-preview2-bin-hadoop2.7/python/pyspark/\n",
            "spark-3.0.0-preview2-bin-hadoop2.7/python/pyspark/heapq3.py\n",
            "spark-3.0.0-preview2-bin-hadoop2.7/python/pyspark/ml/\n",
            "spark-3.0.0-preview2-bin-hadoop2.7/python/pyspark/ml/tuning.py\n",
            "spark-3.0.0-preview2-bin-hadoop2.7/python/pyspark/ml/clustering.py\n",
            "spark-3.0.0-preview2-bin-hadoop2.7/python/pyspark/ml/wrapper.py\n",
            "spark-3.0.0-preview2-bin-hadoop2.7/python/pyspark/ml/util.py\n",
            "spark-3.0.0-preview2-bin-hadoop2.7/python/pyspark/ml/tests/\n",
            "spark-3.0.0-preview2-bin-hadoop2.7/python/pyspark/ml/tests/test_stat.py\n",
            "spark-3.0.0-preview2-bin-hadoop2.7/python/pyspark/ml/tests/test_persistence.py\n",
            "spark-3.0.0-preview2-bin-hadoop2.7/python/pyspark/ml/tests/__init__.py\n",
            "spark-3.0.0-preview2-bin-hadoop2.7/python/pyspark/ml/tests/test_linalg.py\n",
            "spark-3.0.0-preview2-bin-hadoop2.7/python/pyspark/ml/tests/test_training_summary.py\n",
            "spark-3.0.0-preview2-bin-hadoop2.7/python/pyspark/ml/tests/test_param.py\n",
            "spark-3.0.0-preview2-bin-hadoop2.7/python/pyspark/ml/tests/test_feature.py\n",
            "spark-3.0.0-preview2-bin-hadoop2.7/python/pyspark/ml/tests/test_image.py\n",
            "spark-3.0.0-preview2-bin-hadoop2.7/python/pyspark/ml/tests/test_evaluation.py\n",
            "spark-3.0.0-preview2-bin-hadoop2.7/python/pyspark/ml/tests/test_wrapper.py\n",
            "spark-3.0.0-preview2-bin-hadoop2.7/python/pyspark/ml/tests/test_pipeline.py\n",
            "spark-3.0.0-preview2-bin-hadoop2.7/python/pyspark/ml/tests/test_base.py\n",
            "spark-3.0.0-preview2-bin-hadoop2.7/python/pyspark/ml/tests/test_algorithms.py\n",
            "spark-3.0.0-preview2-bin-hadoop2.7/python/pyspark/ml/tests/test_tuning.py\n",
            "spark-3.0.0-preview2-bin-hadoop2.7/python/pyspark/ml/tree.py\n",
            "spark-3.0.0-preview2-bin-hadoop2.7/python/pyspark/ml/fpm.py\n",
            "spark-3.0.0-preview2-bin-hadoop2.7/python/pyspark/ml/__init__.py\n",
            "spark-3.0.0-preview2-bin-hadoop2.7/python/pyspark/ml/linalg/\n",
            "spark-3.0.0-preview2-bin-hadoop2.7/python/pyspark/ml/linalg/__init__.py\n",
            "spark-3.0.0-preview2-bin-hadoop2.7/python/pyspark/ml/base.py\n",
            "spark-3.0.0-preview2-bin-hadoop2.7/python/pyspark/ml/common.py\n",
            "spark-3.0.0-preview2-bin-hadoop2.7/python/pyspark/ml/evaluation.py\n",
            "spark-3.0.0-preview2-bin-hadoop2.7/python/pyspark/ml/classification.py\n",
            "spark-3.0.0-preview2-bin-hadoop2.7/python/pyspark/ml/param/\n",
            "spark-3.0.0-preview2-bin-hadoop2.7/python/pyspark/ml/param/shared.py\n",
            "spark-3.0.0-preview2-bin-hadoop2.7/python/pyspark/ml/param/__init__.py\n",
            "spark-3.0.0-preview2-bin-hadoop2.7/python/pyspark/ml/param/_shared_params_code_gen.py\n",
            "spark-3.0.0-preview2-bin-hadoop2.7/python/pyspark/ml/feature.py\n",
            "spark-3.0.0-preview2-bin-hadoop2.7/python/pyspark/ml/image.py\n",
            "spark-3.0.0-preview2-bin-hadoop2.7/python/pyspark/ml/pipeline.py\n",
            "spark-3.0.0-preview2-bin-hadoop2.7/python/pyspark/ml/recommendation.py\n",
            "spark-3.0.0-preview2-bin-hadoop2.7/python/pyspark/ml/stat.py\n",
            "spark-3.0.0-preview2-bin-hadoop2.7/python/pyspark/ml/regression.py\n",
            "spark-3.0.0-preview2-bin-hadoop2.7/python/pyspark/shuffle.py\n",
            "spark-3.0.0-preview2-bin-hadoop2.7/python/pyspark/streaming/\n",
            "spark-3.0.0-preview2-bin-hadoop2.7/python/pyspark/streaming/util.py\n",
            "spark-3.0.0-preview2-bin-hadoop2.7/python/pyspark/streaming/context.py\n",
            "spark-3.0.0-preview2-bin-hadoop2.7/python/pyspark/streaming/tests/\n",
            "spark-3.0.0-preview2-bin-hadoop2.7/python/pyspark/streaming/tests/test_dstream.py\n",
            "spark-3.0.0-preview2-bin-hadoop2.7/python/pyspark/streaming/tests/__init__.py\n",
            "spark-3.0.0-preview2-bin-hadoop2.7/python/pyspark/streaming/tests/test_context.py\n",
            "spark-3.0.0-preview2-bin-hadoop2.7/python/pyspark/streaming/tests/test_kinesis.py\n",
            "spark-3.0.0-preview2-bin-hadoop2.7/python/pyspark/streaming/tests/test_listener.py\n",
            "spark-3.0.0-preview2-bin-hadoop2.7/python/pyspark/streaming/kinesis.py\n",
            "spark-3.0.0-preview2-bin-hadoop2.7/python/pyspark/streaming/dstream.py\n",
            "spark-3.0.0-preview2-bin-hadoop2.7/python/pyspark/streaming/__init__.py\n",
            "spark-3.0.0-preview2-bin-hadoop2.7/python/pyspark/streaming/listener.py\n",
            "spark-3.0.0-preview2-bin-hadoop2.7/python/pyspark/util.py\n",
            "spark-3.0.0-preview2-bin-hadoop2.7/python/pyspark/rddsampler.py\n",
            "spark-3.0.0-preview2-bin-hadoop2.7/python/pyspark/context.py\n",
            "spark-3.0.0-preview2-bin-hadoop2.7/python/pyspark/rdd.py\n",
            "spark-3.0.0-preview2-bin-hadoop2.7/python/pyspark/tests/\n",
            "spark-3.0.0-preview2-bin-hadoop2.7/python/pyspark/tests/test_serializers.py\n",
            "spark-3.0.0-preview2-bin-hadoop2.7/python/pyspark/tests/test_profiler.py\n",
            "spark-3.0.0-preview2-bin-hadoop2.7/python/pyspark/tests/test_pin_thread.py\n",
            "spark-3.0.0-preview2-bin-hadoop2.7/python/pyspark/tests/test_util.py\n",
            "spark-3.0.0-preview2-bin-hadoop2.7/python/pyspark/tests/__init__.py\n",
            "spark-3.0.0-preview2-bin-hadoop2.7/python/pyspark/tests/test_join.py\n",
            "spark-3.0.0-preview2-bin-hadoop2.7/python/pyspark/tests/test_taskcontext.py\n",
            "spark-3.0.0-preview2-bin-hadoop2.7/python/pyspark/tests/test_rdd.py\n",
            "spark-3.0.0-preview2-bin-hadoop2.7/python/pyspark/tests/test_appsubmit.py\n",
            "spark-3.0.0-preview2-bin-hadoop2.7/python/pyspark/tests/test_context.py\n",
            "spark-3.0.0-preview2-bin-hadoop2.7/python/pyspark/tests/test_broadcast.py\n",
            "spark-3.0.0-preview2-bin-hadoop2.7/python/pyspark/tests/test_rddbarrier.py\n",
            "spark-3.0.0-preview2-bin-hadoop2.7/python/pyspark/tests/test_readwrite.py\n",
            "spark-3.0.0-preview2-bin-hadoop2.7/python/pyspark/tests/test_daemon.py\n",
            "spark-3.0.0-preview2-bin-hadoop2.7/python/pyspark/tests/test_worker.py\n",
            "spark-3.0.0-preview2-bin-hadoop2.7/python/pyspark/tests/test_conf.py\n",
            "spark-3.0.0-preview2-bin-hadoop2.7/python/pyspark/tests/test_shuffle.py\n",
            "spark-3.0.0-preview2-bin-hadoop2.7/python/pyspark/_globals.py\n",
            "spark-3.0.0-preview2-bin-hadoop2.7/python/pyspark/resultiterable.py\n",
            "spark-3.0.0-preview2-bin-hadoop2.7/python/pyspark/__init__.py\n",
            "spark-3.0.0-preview2-bin-hadoop2.7/python/pyspark/resourceinformation.py\n",
            "spark-3.0.0-preview2-bin-hadoop2.7/python/pyspark/find_spark_home.py\n",
            "spark-3.0.0-preview2-bin-hadoop2.7/python/pyspark/version.py\n",
            "spark-3.0.0-preview2-bin-hadoop2.7/python/pyspark/profiler.py\n",
            "spark-3.0.0-preview2-bin-hadoop2.7/python/pyspark/cloudpickle.py\n",
            "spark-3.0.0-preview2-bin-hadoop2.7/python/pyspark/statcounter.py\n",
            "spark-3.0.0-preview2-bin-hadoop2.7/python/pyspark/status.py\n",
            "spark-3.0.0-preview2-bin-hadoop2.7/python/pyspark/python/\n",
            "spark-3.0.0-preview2-bin-hadoop2.7/python/pyspark/python/pyspark/\n",
            "spark-3.0.0-preview2-bin-hadoop2.7/python/pyspark/python/pyspark/shell.py\n",
            "spark-3.0.0-preview2-bin-hadoop2.7/python/pyspark/sql/\n",
            "spark-3.0.0-preview2-bin-hadoop2.7/python/pyspark/sql/context.py\n",
            "spark-3.0.0-preview2-bin-hadoop2.7/python/pyspark/sql/functions.py\n",
            "spark-3.0.0-preview2-bin-hadoop2.7/python/pyspark/sql/tests/\n",
            "spark-3.0.0-preview2-bin-hadoop2.7/python/pyspark/sql/tests/test_udf.py\n",
            "spark-3.0.0-preview2-bin-hadoop2.7/python/pyspark/sql/tests/test_pandas_udf_cogrouped_map.py\n",
            "spark-3.0.0-preview2-bin-hadoop2.7/python/pyspark/sql/tests/test_pandas_udf_window.py\n",
            "spark-3.0.0-preview2-bin-hadoop2.7/python/pyspark/sql/tests/__init__.py\n",
            "spark-3.0.0-preview2-bin-hadoop2.7/python/pyspark/sql/tests/test_arrow.py\n",
            "spark-3.0.0-preview2-bin-hadoop2.7/python/pyspark/sql/tests/test_dataframe.py\n",
            "spark-3.0.0-preview2-bin-hadoop2.7/python/pyspark/sql/tests/test_functions.py\n",
            "spark-3.0.0-preview2-bin-hadoop2.7/python/pyspark/sql/tests/test_pandas_udf.py\n",
            "spark-3.0.0-preview2-bin-hadoop2.7/python/pyspark/sql/tests/test_pandas_udf_iter.py\n",
            "spark-3.0.0-preview2-bin-hadoop2.7/python/pyspark/sql/tests/test_context.py\n",
            "spark-3.0.0-preview2-bin-hadoop2.7/python/pyspark/sql/tests/test_group.py\n",
            "spark-3.0.0-preview2-bin-hadoop2.7/python/pyspark/sql/tests/test_datasources.py\n",
            "spark-3.0.0-preview2-bin-hadoop2.7/python/pyspark/sql/tests/test_catalog.py\n",
            "spark-3.0.0-preview2-bin-hadoop2.7/python/pyspark/sql/tests/test_serde.py\n",
            "spark-3.0.0-preview2-bin-hadoop2.7/python/pyspark/sql/tests/test_readwriter.py\n",
            "spark-3.0.0-preview2-bin-hadoop2.7/python/pyspark/sql/tests/test_pandas_udf_scalar.py\n",
            "spark-3.0.0-preview2-bin-hadoop2.7/python/pyspark/sql/tests/test_types.py\n",
            "spark-3.0.0-preview2-bin-hadoop2.7/python/pyspark/sql/tests/test_streaming.py\n",
            "spark-3.0.0-preview2-bin-hadoop2.7/python/pyspark/sql/tests/test_conf.py\n",
            "spark-3.0.0-preview2-bin-hadoop2.7/python/pyspark/sql/tests/test_utils.py\n",
            "spark-3.0.0-preview2-bin-hadoop2.7/python/pyspark/sql/tests/test_pandas_udf_grouped_agg.py\n",
            "spark-3.0.0-preview2-bin-hadoop2.7/python/pyspark/sql/tests/test_session.py\n",
            "spark-3.0.0-preview2-bin-hadoop2.7/python/pyspark/sql/tests/test_column.py\n",
            "spark-3.0.0-preview2-bin-hadoop2.7/python/pyspark/sql/tests/test_pandas_udf_grouped_map.py\n",
            "spark-3.0.0-preview2-bin-hadoop2.7/python/pyspark/sql/dataframe.py\n",
            "spark-3.0.0-preview2-bin-hadoop2.7/python/pyspark/sql/group.py\n",
            "spark-3.0.0-preview2-bin-hadoop2.7/python/pyspark/sql/utils.py\n",
            "spark-3.0.0-preview2-bin-hadoop2.7/python/pyspark/sql/__init__.py\n",
            "spark-3.0.0-preview2-bin-hadoop2.7/python/pyspark/sql/types.py\n",
            "spark-3.0.0-preview2-bin-hadoop2.7/python/pyspark/sql/catalog.py\n",
            "spark-3.0.0-preview2-bin-hadoop2.7/python/pyspark/sql/streaming.py\n",
            "spark-3.0.0-preview2-bin-hadoop2.7/python/pyspark/sql/window.py\n",
            "spark-3.0.0-preview2-bin-hadoop2.7/python/pyspark/sql/avro/\n",
            "spark-3.0.0-preview2-bin-hadoop2.7/python/pyspark/sql/avro/functions.py\n",
            "spark-3.0.0-preview2-bin-hadoop2.7/python/pyspark/sql/avro/__init__.py\n",
            "spark-3.0.0-preview2-bin-hadoop2.7/python/pyspark/sql/readwriter.py\n",
            "spark-3.0.0-preview2-bin-hadoop2.7/python/pyspark/sql/conf.py\n",
            "spark-3.0.0-preview2-bin-hadoop2.7/python/pyspark/sql/column.py\n",
            "spark-3.0.0-preview2-bin-hadoop2.7/python/pyspark/sql/udf.py\n",
            "spark-3.0.0-preview2-bin-hadoop2.7/python/pyspark/sql/session.py\n",
            "spark-3.0.0-preview2-bin-hadoop2.7/python/pyspark/sql/cogroup.py\n",
            "spark-3.0.0-preview2-bin-hadoop2.7/python/pyspark/mllib/\n",
            "spark-3.0.0-preview2-bin-hadoop2.7/python/pyspark/mllib/clustering.py\n",
            "spark-3.0.0-preview2-bin-hadoop2.7/python/pyspark/mllib/util.py\n",
            "spark-3.0.0-preview2-bin-hadoop2.7/python/pyspark/mllib/tests/\n",
            "spark-3.0.0-preview2-bin-hadoop2.7/python/pyspark/mllib/tests/test_stat.py\n",
            "spark-3.0.0-preview2-bin-hadoop2.7/python/pyspark/mllib/tests/test_util.py\n",
            "spark-3.0.0-preview2-bin-hadoop2.7/python/pyspark/mllib/tests/__init__.py\n",
            "spark-3.0.0-preview2-bin-hadoop2.7/python/pyspark/mllib/tests/test_linalg.py\n",
            "spark-3.0.0-preview2-bin-hadoop2.7/python/pyspark/mllib/tests/test_feature.py\n",
            "spark-3.0.0-preview2-bin-hadoop2.7/python/pyspark/mllib/tests/test_streaming_algorithms.py\n",
            "spark-3.0.0-preview2-bin-hadoop2.7/python/pyspark/mllib/tests/test_algorithms.py\n",
            "spark-3.0.0-preview2-bin-hadoop2.7/python/pyspark/mllib/tree.py\n",
            "spark-3.0.0-preview2-bin-hadoop2.7/python/pyspark/mllib/fpm.py\n",
            "spark-3.0.0-preview2-bin-hadoop2.7/python/pyspark/mllib/__init__.py\n",
            "spark-3.0.0-preview2-bin-hadoop2.7/python/pyspark/mllib/linalg/\n",
            "spark-3.0.0-preview2-bin-hadoop2.7/python/pyspark/mllib/linalg/__init__.py\n",
            "spark-3.0.0-preview2-bin-hadoop2.7/python/pyspark/mllib/linalg/distributed.py\n",
            "spark-3.0.0-preview2-bin-hadoop2.7/python/pyspark/mllib/common.py\n",
            "spark-3.0.0-preview2-bin-hadoop2.7/python/pyspark/mllib/random.py\n",
            "spark-3.0.0-preview2-bin-hadoop2.7/python/pyspark/mllib/evaluation.py\n",
            "spark-3.0.0-preview2-bin-hadoop2.7/python/pyspark/mllib/classification.py\n",
            "spark-3.0.0-preview2-bin-hadoop2.7/python/pyspark/mllib/feature.py\n",
            "spark-3.0.0-preview2-bin-hadoop2.7/python/pyspark/mllib/recommendation.py\n",
            "spark-3.0.0-preview2-bin-hadoop2.7/python/pyspark/mllib/stat/\n",
            "spark-3.0.0-preview2-bin-hadoop2.7/python/pyspark/mllib/stat/KernelDensity.py\n",
            "spark-3.0.0-preview2-bin-hadoop2.7/python/pyspark/mllib/stat/__init__.py\n",
            "spark-3.0.0-preview2-bin-hadoop2.7/python/pyspark/mllib/stat/test.py\n",
            "spark-3.0.0-preview2-bin-hadoop2.7/python/pyspark/mllib/stat/distribution.py\n",
            "spark-3.0.0-preview2-bin-hadoop2.7/python/pyspark/mllib/stat/_statistics.py\n",
            "spark-3.0.0-preview2-bin-hadoop2.7/python/pyspark/mllib/regression.py\n",
            "spark-3.0.0-preview2-bin-hadoop2.7/python/pyspark/taskcontext.py\n",
            "spark-3.0.0-preview2-bin-hadoop2.7/python/pyspark/serializers.py\n",
            "spark-3.0.0-preview2-bin-hadoop2.7/python/pyspark/conf.py\n",
            "spark-3.0.0-preview2-bin-hadoop2.7/python/pyspark/traceback_utils.py\n",
            "spark-3.0.0-preview2-bin-hadoop2.7/python/pyspark/storagelevel.py\n",
            "spark-3.0.0-preview2-bin-hadoop2.7/python/pyspark/worker.py\n",
            "spark-3.0.0-preview2-bin-hadoop2.7/python/pyspark/testing/\n",
            "spark-3.0.0-preview2-bin-hadoop2.7/python/pyspark/testing/sqlutils.py\n",
            "spark-3.0.0-preview2-bin-hadoop2.7/python/pyspark/testing/streamingutils.py\n",
            "spark-3.0.0-preview2-bin-hadoop2.7/python/pyspark/testing/utils.py\n",
            "spark-3.0.0-preview2-bin-hadoop2.7/python/pyspark/testing/__init__.py\n",
            "spark-3.0.0-preview2-bin-hadoop2.7/python/pyspark/testing/mlutils.py\n",
            "spark-3.0.0-preview2-bin-hadoop2.7/python/pyspark/testing/mllibutils.py\n",
            "spark-3.0.0-preview2-bin-hadoop2.7/python/pyspark/java_gateway.py\n",
            "spark-3.0.0-preview2-bin-hadoop2.7/python/pyspark/broadcast.py\n",
            "spark-3.0.0-preview2-bin-hadoop2.7/python/pyspark/join.py\n",
            "spark-3.0.0-preview2-bin-hadoop2.7/python/pyspark/files.py\n",
            "spark-3.0.0-preview2-bin-hadoop2.7/python/pyspark/accumulators.py\n",
            "spark-3.0.0-preview2-bin-hadoop2.7/python/pyspark/daemon.py\n",
            "spark-3.0.0-preview2-bin-hadoop2.7/python/pyspark/shell.py\n",
            "spark-3.0.0-preview2-bin-hadoop2.7/python/lib/\n",
            "spark-3.0.0-preview2-bin-hadoop2.7/python/lib/pyspark.zip\n",
            "spark-3.0.0-preview2-bin-hadoop2.7/python/lib/py4j-0.10.8.1-src.zip\n",
            "spark-3.0.0-preview2-bin-hadoop2.7/python/lib/PY4J_LICENSE.txt\n",
            "spark-3.0.0-preview2-bin-hadoop2.7/python/test_support/\n",
            "spark-3.0.0-preview2-bin-hadoop2.7/python/test_support/hello/\n",
            "spark-3.0.0-preview2-bin-hadoop2.7/python/test_support/hello/hello.txt\n",
            "spark-3.0.0-preview2-bin-hadoop2.7/python/test_support/hello/sub_hello/\n",
            "spark-3.0.0-preview2-bin-hadoop2.7/python/test_support/hello/sub_hello/sub_hello.txt\n",
            "spark-3.0.0-preview2-bin-hadoop2.7/python/test_support/userlib-0.1.zip\n",
            "spark-3.0.0-preview2-bin-hadoop2.7/python/test_support/sql/\n",
            "spark-3.0.0-preview2-bin-hadoop2.7/python/test_support/sql/streaming/\n",
            "spark-3.0.0-preview2-bin-hadoop2.7/python/test_support/sql/streaming/text-test.txt\n",
            "spark-3.0.0-preview2-bin-hadoop2.7/python/test_support/sql/people.json\n",
            "spark-3.0.0-preview2-bin-hadoop2.7/python/test_support/sql/people_array_utf16le.json\n",
            "spark-3.0.0-preview2-bin-hadoop2.7/python/test_support/sql/ages.csv\n",
            "spark-3.0.0-preview2-bin-hadoop2.7/python/test_support/sql/ages_newlines.csv\n",
            "spark-3.0.0-preview2-bin-hadoop2.7/python/test_support/sql/people1.json\n",
            "spark-3.0.0-preview2-bin-hadoop2.7/python/test_support/sql/people_array.json\n",
            "spark-3.0.0-preview2-bin-hadoop2.7/python/test_support/sql/text-test.txt\n",
            "spark-3.0.0-preview2-bin-hadoop2.7/python/test_support/sql/parquet_partitioned/\n",
            "spark-3.0.0-preview2-bin-hadoop2.7/python/test_support/sql/parquet_partitioned/_SUCCESS\n",
            "spark-3.0.0-preview2-bin-hadoop2.7/python/test_support/sql/parquet_partitioned/_metadata\n",
            "spark-3.0.0-preview2-bin-hadoop2.7/python/test_support/sql/parquet_partitioned/year=2014/\n",
            "spark-3.0.0-preview2-bin-hadoop2.7/python/test_support/sql/parquet_partitioned/year=2014/month=9/\n",
            "spark-3.0.0-preview2-bin-hadoop2.7/python/test_support/sql/parquet_partitioned/year=2014/month=9/day=1/\n",
            "spark-3.0.0-preview2-bin-hadoop2.7/python/test_support/sql/parquet_partitioned/year=2014/month=9/day=1/part-r-00008.gz.parquet\n",
            "spark-3.0.0-preview2-bin-hadoop2.7/python/test_support/sql/parquet_partitioned/year=2014/month=9/day=1/.part-r-00008.gz.parquet.crc\n",
            "spark-3.0.0-preview2-bin-hadoop2.7/python/test_support/sql/parquet_partitioned/_common_metadata\n",
            "spark-3.0.0-preview2-bin-hadoop2.7/python/test_support/sql/parquet_partitioned/year=2015/\n",
            "spark-3.0.0-preview2-bin-hadoop2.7/python/test_support/sql/parquet_partitioned/year=2015/month=10/\n",
            "spark-3.0.0-preview2-bin-hadoop2.7/python/test_support/sql/parquet_partitioned/year=2015/month=10/day=25/\n",
            "spark-3.0.0-preview2-bin-hadoop2.7/python/test_support/sql/parquet_partitioned/year=2015/month=10/day=25/part-r-00002.gz.parquet\n",
            "spark-3.0.0-preview2-bin-hadoop2.7/python/test_support/sql/parquet_partitioned/year=2015/month=10/day=25/part-r-00004.gz.parquet\n",
            "spark-3.0.0-preview2-bin-hadoop2.7/python/test_support/sql/parquet_partitioned/year=2015/month=10/day=25/.part-r-00004.gz.parquet.crc\n",
            "spark-3.0.0-preview2-bin-hadoop2.7/python/test_support/sql/parquet_partitioned/year=2015/month=10/day=25/.part-r-00002.gz.parquet.crc\n",
            "spark-3.0.0-preview2-bin-hadoop2.7/python/test_support/sql/parquet_partitioned/year=2015/month=10/day=26/\n",
            "spark-3.0.0-preview2-bin-hadoop2.7/python/test_support/sql/parquet_partitioned/year=2015/month=10/day=26/.part-r-00005.gz.parquet.crc\n",
            "spark-3.0.0-preview2-bin-hadoop2.7/python/test_support/sql/parquet_partitioned/year=2015/month=10/day=26/part-r-00005.gz.parquet\n",
            "spark-3.0.0-preview2-bin-hadoop2.7/python/test_support/sql/parquet_partitioned/year=2015/month=9/\n",
            "spark-3.0.0-preview2-bin-hadoop2.7/python/test_support/sql/parquet_partitioned/year=2015/month=9/day=1/\n",
            "spark-3.0.0-preview2-bin-hadoop2.7/python/test_support/sql/parquet_partitioned/year=2015/month=9/day=1/part-r-00007.gz.parquet\n",
            "spark-3.0.0-preview2-bin-hadoop2.7/python/test_support/sql/parquet_partitioned/year=2015/month=9/day=1/.part-r-00007.gz.parquet.crc\n",
            "spark-3.0.0-preview2-bin-hadoop2.7/python/test_support/sql/orc_partitioned/\n",
            "spark-3.0.0-preview2-bin-hadoop2.7/python/test_support/sql/orc_partitioned/b=1/\n",
            "spark-3.0.0-preview2-bin-hadoop2.7/python/test_support/sql/orc_partitioned/b=1/c=1/\n",
            "spark-3.0.0-preview2-bin-hadoop2.7/python/test_support/sql/orc_partitioned/b=1/c=1/.part-r-00000-829af031-b970-49d6-ad39-30460a0be2c8.orc.crc\n",
            "spark-3.0.0-preview2-bin-hadoop2.7/python/test_support/sql/orc_partitioned/b=1/c=1/part-r-00000-829af031-b970-49d6-ad39-30460a0be2c8.orc\n",
            "spark-3.0.0-preview2-bin-hadoop2.7/python/test_support/sql/orc_partitioned/_SUCCESS\n",
            "spark-3.0.0-preview2-bin-hadoop2.7/python/test_support/sql/orc_partitioned/b=0/\n",
            "spark-3.0.0-preview2-bin-hadoop2.7/python/test_support/sql/orc_partitioned/b=0/c=0/\n",
            "spark-3.0.0-preview2-bin-hadoop2.7/python/test_support/sql/orc_partitioned/b=0/c=0/.part-r-00000-829af031-b970-49d6-ad39-30460a0be2c8.orc.crc\n",
            "spark-3.0.0-preview2-bin-hadoop2.7/python/test_support/sql/orc_partitioned/b=0/c=0/part-r-00000-829af031-b970-49d6-ad39-30460a0be2c8.orc\n",
            "spark-3.0.0-preview2-bin-hadoop2.7/python/test_support/userlibrary.py\n",
            "spark-3.0.0-preview2-bin-hadoop2.7/python/test_support/SimpleHTTPServer.py\n",
            "spark-3.0.0-preview2-bin-hadoop2.7/python/test_coverage/\n",
            "spark-3.0.0-preview2-bin-hadoop2.7/python/test_coverage/conf/\n",
            "spark-3.0.0-preview2-bin-hadoop2.7/python/test_coverage/conf/spark-defaults.conf\n",
            "spark-3.0.0-preview2-bin-hadoop2.7/python/test_coverage/sitecustomize.py\n",
            "spark-3.0.0-preview2-bin-hadoop2.7/python/test_coverage/coverage_daemon.py\n",
            "spark-3.0.0-preview2-bin-hadoop2.7/python/pyspark.egg-info/\n",
            "spark-3.0.0-preview2-bin-hadoop2.7/python/pyspark.egg-info/requires.txt\n",
            "spark-3.0.0-preview2-bin-hadoop2.7/python/pyspark.egg-info/SOURCES.txt\n",
            "spark-3.0.0-preview2-bin-hadoop2.7/python/pyspark.egg-info/dependency_links.txt\n",
            "spark-3.0.0-preview2-bin-hadoop2.7/python/pyspark.egg-info/PKG-INFO\n",
            "spark-3.0.0-preview2-bin-hadoop2.7/python/pyspark.egg-info/top_level.txt\n",
            "spark-3.0.0-preview2-bin-hadoop2.7/python/run-tests\n",
            "spark-3.0.0-preview2-bin-hadoop2.7/python/setup.cfg\n",
            "spark-3.0.0-preview2-bin-hadoop2.7/python/run-tests.py\n",
            "spark-3.0.0-preview2-bin-hadoop2.7/python/pylintrc\n",
            "spark-3.0.0-preview2-bin-hadoop2.7/python/run-tests-with-coverage\n",
            "spark-3.0.0-preview2-bin-hadoop2.7/python/README.md\n",
            "spark-3.0.0-preview2-bin-hadoop2.7/python/.coveragerc\n",
            "spark-3.0.0-preview2-bin-hadoop2.7/python/docs/\n",
            "spark-3.0.0-preview2-bin-hadoop2.7/python/docs/_static/\n",
            "spark-3.0.0-preview2-bin-hadoop2.7/python/docs/_static/copybutton.js\n",
            "spark-3.0.0-preview2-bin-hadoop2.7/python/docs/_static/pyspark.js\n",
            "spark-3.0.0-preview2-bin-hadoop2.7/python/docs/_static/pyspark.css\n",
            "spark-3.0.0-preview2-bin-hadoop2.7/python/docs/pyspark.ml.rst\n",
            "spark-3.0.0-preview2-bin-hadoop2.7/python/docs/_templates/\n",
            "spark-3.0.0-preview2-bin-hadoop2.7/python/docs/_templates/layout.html\n",
            "spark-3.0.0-preview2-bin-hadoop2.7/python/docs/pyspark.sql.rst\n",
            "spark-3.0.0-preview2-bin-hadoop2.7/python/docs/make.bat\n",
            "spark-3.0.0-preview2-bin-hadoop2.7/python/docs/Makefile\n",
            "spark-3.0.0-preview2-bin-hadoop2.7/python/docs/conf.py\n",
            "spark-3.0.0-preview2-bin-hadoop2.7/python/docs/make2.bat\n",
            "spark-3.0.0-preview2-bin-hadoop2.7/python/docs/index.rst\n",
            "spark-3.0.0-preview2-bin-hadoop2.7/python/docs/pyspark.mllib.rst\n",
            "spark-3.0.0-preview2-bin-hadoop2.7/python/docs/pyspark.streaming.rst\n",
            "spark-3.0.0-preview2-bin-hadoop2.7/python/docs/pyspark.rst\n",
            "spark-3.0.0-preview2-bin-hadoop2.7/python/MANIFEST.in\n",
            "spark-3.0.0-preview2-bin-hadoop2.7/python/setup.py\n",
            "spark-3.0.0-preview2-bin-hadoop2.7/python/dist/\n",
            "spark-3.0.0-preview2-bin-hadoop2.7/bin/\n",
            "spark-3.0.0-preview2-bin-hadoop2.7/bin/spark-submit.cmd\n",
            "spark-3.0.0-preview2-bin-hadoop2.7/bin/pyspark.cmd\n",
            "spark-3.0.0-preview2-bin-hadoop2.7/bin/spark-sql\n",
            "spark-3.0.0-preview2-bin-hadoop2.7/bin/beeline\n",
            "spark-3.0.0-preview2-bin-hadoop2.7/bin/pyspark\n",
            "spark-3.0.0-preview2-bin-hadoop2.7/bin/load-spark-env.sh\n",
            "spark-3.0.0-preview2-bin-hadoop2.7/bin/load-spark-env.cmd\n",
            "spark-3.0.0-preview2-bin-hadoop2.7/bin/spark-submit\n",
            "spark-3.0.0-preview2-bin-hadoop2.7/bin/run-example.cmd\n",
            "spark-3.0.0-preview2-bin-hadoop2.7/bin/find-spark-home.cmd\n",
            "spark-3.0.0-preview2-bin-hadoop2.7/bin/spark-shell2.cmd\n",
            "spark-3.0.0-preview2-bin-hadoop2.7/bin/docker-image-tool.sh\n",
            "spark-3.0.0-preview2-bin-hadoop2.7/bin/sparkR2.cmd\n",
            "spark-3.0.0-preview2-bin-hadoop2.7/bin/sparkR\n",
            "spark-3.0.0-preview2-bin-hadoop2.7/bin/find-spark-home\n",
            "spark-3.0.0-preview2-bin-hadoop2.7/bin/spark-shell.cmd\n",
            "spark-3.0.0-preview2-bin-hadoop2.7/bin/spark-submit2.cmd\n",
            "spark-3.0.0-preview2-bin-hadoop2.7/bin/spark-class2.cmd\n",
            "spark-3.0.0-preview2-bin-hadoop2.7/bin/spark-sql2.cmd\n",
            "spark-3.0.0-preview2-bin-hadoop2.7/bin/spark-class\n",
            "spark-3.0.0-preview2-bin-hadoop2.7/bin/spark-sql.cmd\n",
            "spark-3.0.0-preview2-bin-hadoop2.7/bin/pyspark2.cmd\n",
            "spark-3.0.0-preview2-bin-hadoop2.7/bin/beeline.cmd\n",
            "spark-3.0.0-preview2-bin-hadoop2.7/bin/run-example\n",
            "spark-3.0.0-preview2-bin-hadoop2.7/bin/spark-shell\n",
            "spark-3.0.0-preview2-bin-hadoop2.7/bin/spark-class.cmd\n",
            "spark-3.0.0-preview2-bin-hadoop2.7/bin/sparkR.cmd\n",
            "spark-3.0.0-preview2-bin-hadoop2.7/sbin/\n",
            "spark-3.0.0-preview2-bin-hadoop2.7/sbin/stop-slave.sh\n",
            "spark-3.0.0-preview2-bin-hadoop2.7/sbin/start-history-server.sh\n",
            "spark-3.0.0-preview2-bin-hadoop2.7/sbin/stop-slaves.sh\n",
            "spark-3.0.0-preview2-bin-hadoop2.7/sbin/stop-history-server.sh\n",
            "spark-3.0.0-preview2-bin-hadoop2.7/sbin/start-thriftserver.sh\n",
            "spark-3.0.0-preview2-bin-hadoop2.7/sbin/start-mesos-shuffle-service.sh\n",
            "spark-3.0.0-preview2-bin-hadoop2.7/sbin/start-master.sh\n",
            "spark-3.0.0-preview2-bin-hadoop2.7/sbin/stop-master.sh\n",
            "spark-3.0.0-preview2-bin-hadoop2.7/sbin/stop-mesos-dispatcher.sh\n",
            "spark-3.0.0-preview2-bin-hadoop2.7/sbin/start-slave.sh\n",
            "spark-3.0.0-preview2-bin-hadoop2.7/sbin/start-mesos-dispatcher.sh\n",
            "spark-3.0.0-preview2-bin-hadoop2.7/sbin/start-slaves.sh\n",
            "spark-3.0.0-preview2-bin-hadoop2.7/sbin/stop-mesos-shuffle-service.sh\n",
            "spark-3.0.0-preview2-bin-hadoop2.7/sbin/stop-all.sh\n",
            "spark-3.0.0-preview2-bin-hadoop2.7/sbin/slaves.sh\n",
            "spark-3.0.0-preview2-bin-hadoop2.7/sbin/spark-daemons.sh\n",
            "spark-3.0.0-preview2-bin-hadoop2.7/sbin/start-all.sh\n",
            "spark-3.0.0-preview2-bin-hadoop2.7/sbin/spark-daemon.sh\n",
            "spark-3.0.0-preview2-bin-hadoop2.7/sbin/stop-thriftserver.sh\n",
            "spark-3.0.0-preview2-bin-hadoop2.7/sbin/spark-config.sh\n",
            "spark-3.0.0-preview2-bin-hadoop2.7/RELEASE\n",
            "spark-3.0.0-preview2-bin-hadoop2.7/README.md\n",
            "spark-3.0.0-preview2-bin-hadoop2.7/yarn/\n",
            "spark-3.0.0-preview2-bin-hadoop2.7/yarn/spark-3.0.0-preview2-yarn-shuffle.jar\n",
            "spark-3.0.0-preview2-bin-hadoop2.7/LICENSE\n",
            "spark-3.0.0-preview2-bin-hadoop2.7/R/\n",
            "spark-3.0.0-preview2-bin-hadoop2.7/R/lib/\n",
            "spark-3.0.0-preview2-bin-hadoop2.7/R/lib/SparkR/\n",
            "spark-3.0.0-preview2-bin-hadoop2.7/R/lib/SparkR/tests/\n",
            "spark-3.0.0-preview2-bin-hadoop2.7/R/lib/SparkR/tests/testthat/\n",
            "spark-3.0.0-preview2-bin-hadoop2.7/R/lib/SparkR/tests/testthat/test_basic.R\n",
            "spark-3.0.0-preview2-bin-hadoop2.7/R/lib/SparkR/INDEX\n",
            "spark-3.0.0-preview2-bin-hadoop2.7/R/lib/SparkR/help/\n",
            "spark-3.0.0-preview2-bin-hadoop2.7/R/lib/SparkR/help/SparkR.rdb\n",
            "spark-3.0.0-preview2-bin-hadoop2.7/R/lib/SparkR/help/SparkR.rdx\n",
            "spark-3.0.0-preview2-bin-hadoop2.7/R/lib/SparkR/help/paths.rds\n",
            "spark-3.0.0-preview2-bin-hadoop2.7/R/lib/SparkR/help/aliases.rds\n",
            "spark-3.0.0-preview2-bin-hadoop2.7/R/lib/SparkR/help/AnIndex\n",
            "spark-3.0.0-preview2-bin-hadoop2.7/R/lib/SparkR/worker/\n",
            "spark-3.0.0-preview2-bin-hadoop2.7/R/lib/SparkR/worker/daemon.R\n",
            "spark-3.0.0-preview2-bin-hadoop2.7/R/lib/SparkR/worker/worker.R\n",
            "spark-3.0.0-preview2-bin-hadoop2.7/R/lib/SparkR/html/\n",
            "spark-3.0.0-preview2-bin-hadoop2.7/R/lib/SparkR/html/00Index.html\n",
            "spark-3.0.0-preview2-bin-hadoop2.7/R/lib/SparkR/html/R.css\n",
            "spark-3.0.0-preview2-bin-hadoop2.7/R/lib/SparkR/Meta/\n",
            "spark-3.0.0-preview2-bin-hadoop2.7/R/lib/SparkR/Meta/hsearch.rds\n",
            "spark-3.0.0-preview2-bin-hadoop2.7/R/lib/SparkR/Meta/package.rds\n",
            "spark-3.0.0-preview2-bin-hadoop2.7/R/lib/SparkR/Meta/nsInfo.rds\n",
            "spark-3.0.0-preview2-bin-hadoop2.7/R/lib/SparkR/Meta/links.rds\n",
            "spark-3.0.0-preview2-bin-hadoop2.7/R/lib/SparkR/Meta/features.rds\n",
            "spark-3.0.0-preview2-bin-hadoop2.7/R/lib/SparkR/Meta/vignette.rds\n",
            "spark-3.0.0-preview2-bin-hadoop2.7/R/lib/SparkR/Meta/Rd.rds\n",
            "spark-3.0.0-preview2-bin-hadoop2.7/R/lib/SparkR/NAMESPACE\n",
            "spark-3.0.0-preview2-bin-hadoop2.7/R/lib/SparkR/profile/\n",
            "spark-3.0.0-preview2-bin-hadoop2.7/R/lib/SparkR/profile/general.R\n",
            "spark-3.0.0-preview2-bin-hadoop2.7/R/lib/SparkR/profile/shell.R\n",
            "spark-3.0.0-preview2-bin-hadoop2.7/R/lib/SparkR/DESCRIPTION\n",
            "spark-3.0.0-preview2-bin-hadoop2.7/R/lib/SparkR/R/\n",
            "spark-3.0.0-preview2-bin-hadoop2.7/R/lib/SparkR/R/SparkR.rdb\n",
            "spark-3.0.0-preview2-bin-hadoop2.7/R/lib/SparkR/R/SparkR\n",
            "spark-3.0.0-preview2-bin-hadoop2.7/R/lib/SparkR/R/SparkR.rdx\n",
            "spark-3.0.0-preview2-bin-hadoop2.7/R/lib/SparkR/doc/\n",
            "spark-3.0.0-preview2-bin-hadoop2.7/R/lib/SparkR/doc/sparkr-vignettes.R\n",
            "spark-3.0.0-preview2-bin-hadoop2.7/R/lib/SparkR/doc/sparkr-vignettes.html\n",
            "spark-3.0.0-preview2-bin-hadoop2.7/R/lib/SparkR/doc/sparkr-vignettes.Rmd\n",
            "spark-3.0.0-preview2-bin-hadoop2.7/R/lib/SparkR/doc/index.html\n",
            "spark-3.0.0-preview2-bin-hadoop2.7/R/lib/sparkr.zip\n",
            "spark-3.0.0-preview2-bin-hadoop2.7/kubernetes/\n",
            "spark-3.0.0-preview2-bin-hadoop2.7/kubernetes/tests/\n",
            "spark-3.0.0-preview2-bin-hadoop2.7/kubernetes/tests/worker_memory_check.py\n",
            "spark-3.0.0-preview2-bin-hadoop2.7/kubernetes/tests/py_container_checks.py\n",
            "spark-3.0.0-preview2-bin-hadoop2.7/kubernetes/tests/pyfiles.py\n",
            "spark-3.0.0-preview2-bin-hadoop2.7/kubernetes/dockerfiles/\n",
            "spark-3.0.0-preview2-bin-hadoop2.7/kubernetes/dockerfiles/spark/\n",
            "spark-3.0.0-preview2-bin-hadoop2.7/kubernetes/dockerfiles/spark/entrypoint.sh\n",
            "spark-3.0.0-preview2-bin-hadoop2.7/kubernetes/dockerfiles/spark/bindings/\n",
            "spark-3.0.0-preview2-bin-hadoop2.7/kubernetes/dockerfiles/spark/bindings/python/\n",
            "spark-3.0.0-preview2-bin-hadoop2.7/kubernetes/dockerfiles/spark/bindings/python/Dockerfile\n",
            "spark-3.0.0-preview2-bin-hadoop2.7/kubernetes/dockerfiles/spark/bindings/R/\n",
            "spark-3.0.0-preview2-bin-hadoop2.7/kubernetes/dockerfiles/spark/bindings/R/Dockerfile\n",
            "spark-3.0.0-preview2-bin-hadoop2.7/kubernetes/dockerfiles/spark/Dockerfile\n"
          ],
          "name": "stdout"
        }
      ]
    },
    {
      "cell_type": "code",
      "metadata": {
        "id": "W1pA0rG7vfi5",
        "colab_type": "code",
        "colab": {
          "base_uri": "https://localhost:8080/",
          "height": 285
        },
        "outputId": "346b37dc-c44c-4584-f36b-b60c1cc793ee"
      },
      "source": [
        "import os\n",
        "os.environ[\"SPARK_HOME\"] = \"/content/spark-3.0.0-preview2-bin-hadoop2.7\"\n",
        "os.environ[\"JAVA_HOME\"] = \"/usr/lib/jvm/java-8-openjdk-amd64\"\n",
        "!pip install findspark\n",
        "!pip install pyspark"
      ],
      "execution_count": null,
      "outputs": [
        {
          "output_type": "stream",
          "text": [
            "Requirement already satisfied: findspark in /usr/local/lib/python3.6/dist-packages (1.4.1)\n",
            "Collecting pyspark\n",
            "\u001b[?25l  Downloading https://files.pythonhosted.org/packages/9a/5a/271c416c1c2185b6cb0151b29a91fff6fcaed80173c8584ff6d20e46b465/pyspark-2.4.5.tar.gz (217.8MB)\n",
            "\u001b[K     |████████████████████████████████| 217.8MB 54kB/s \n",
            "\u001b[?25hCollecting py4j==0.10.7\n",
            "\u001b[?25l  Downloading https://files.pythonhosted.org/packages/e3/53/c737818eb9a7dc32a7cd4f1396e787bd94200c3997c72c1dbe028587bd76/py4j-0.10.7-py2.py3-none-any.whl (197kB)\n",
            "\u001b[K     |████████████████████████████████| 204kB 32.5MB/s \n",
            "\u001b[?25hBuilding wheels for collected packages: pyspark\n",
            "  Building wheel for pyspark (setup.py) ... \u001b[?25l\u001b[?25hdone\n",
            "  Created wheel for pyspark: filename=pyspark-2.4.5-py2.py3-none-any.whl size=218257927 sha256=567b5b5cd14e3ff411e613579f09cebda86fa2e5de75ebd36562b10a381616ce\n",
            "  Stored in directory: /root/.cache/pip/wheels/bf/db/04/61d66a5939364e756eb1c1be4ec5bdce6e04047fc7929a3c3c\n",
            "Successfully built pyspark\n",
            "Installing collected packages: py4j, pyspark\n",
            "Successfully installed py4j-0.10.7 pyspark-2.4.5\n"
          ],
          "name": "stdout"
        }
      ]
    },
    {
      "cell_type": "code",
      "metadata": {
        "id": "g5UVv-SJvl6X",
        "colab_type": "code",
        "colab": {}
      },
      "source": [
        "import findspark\n",
        "findspark.init()\n",
        "#from pyspark.sql import SparkSession"
      ],
      "execution_count": null,
      "outputs": []
    },
    {
      "cell_type": "code",
      "metadata": {
        "id": "o77tMDZzyLzM",
        "colab_type": "code",
        "colab": {}
      },
      "source": [
        "from pyspark.sql import SparkSession\n",
        "#findspark.init()\n",
        "spark = SparkSession\\\n",
        "            .builder\\\n",
        "            .master('local')\\\n",
        "            .appName('Spotify Final version1')\\\n",
        "            .getOrCreate()"
      ],
      "execution_count": null,
      "outputs": []
    },
    {
      "cell_type": "code",
      "metadata": {
        "id": "yuz7IEOMx9oi",
        "colab_type": "code",
        "colab": {}
      },
      "source": [
        " df = spark.read.json('mini_sparkify_event_data.json')"
      ],
      "execution_count": null,
      "outputs": []
    },
    {
      "cell_type": "code",
      "metadata": {
        "id": "2DqVu5hMzgUQ",
        "colab_type": "code",
        "colab": {
          "base_uri": "https://localhost:8080/",
          "height": 372
        },
        "outputId": "6259390c-b8b2-45c1-bcaa-319f75c675c0"
      },
      "source": [
        "df.printSchema()"
      ],
      "execution_count": null,
      "outputs": [
        {
          "output_type": "stream",
          "text": [
            "root\n",
            " |-- artist: string (nullable = true)\n",
            " |-- auth: string (nullable = true)\n",
            " |-- firstName: string (nullable = true)\n",
            " |-- gender: string (nullable = true)\n",
            " |-- itemInSession: long (nullable = true)\n",
            " |-- lastName: string (nullable = true)\n",
            " |-- length: double (nullable = true)\n",
            " |-- level: string (nullable = true)\n",
            " |-- location: string (nullable = true)\n",
            " |-- method: string (nullable = true)\n",
            " |-- page: string (nullable = true)\n",
            " |-- registration: long (nullable = true)\n",
            " |-- sessionId: long (nullable = true)\n",
            " |-- song: string (nullable = true)\n",
            " |-- status: long (nullable = true)\n",
            " |-- ts: long (nullable = true)\n",
            " |-- userAgent: string (nullable = true)\n",
            " |-- userId: string (nullable = true)\n",
            "\n"
          ],
          "name": "stdout"
        }
      ]
    },
    {
      "cell_type": "code",
      "metadata": {
        "id": "NPDeXYOdz28r",
        "colab_type": "code",
        "colab": {
          "base_uri": "https://localhost:8080/",
          "height": 125
        },
        "outputId": "6031eb2b-7a83-4c35-ecb4-6825f3e5381b"
      },
      "source": [
        "df.head(5)"
      ],
      "execution_count": null,
      "outputs": [
        {
          "output_type": "execute_result",
          "data": {
            "text/plain": [
              "[Row(artist='Martha Tilston', auth='Logged In', firstName='Colin', gender='M', itemInSession=50, lastName='Freeman', length=277.89016, level='paid', location='Bakersfield, CA', method='PUT', page='NextSong', registration=1538173362000, sessionId=29, song='Rockpools', status=200, ts=1538352117000, userAgent='Mozilla/5.0 (Windows NT 6.1; WOW64; rv:31.0) Gecko/20100101 Firefox/31.0', userId='30'),\n",
              " Row(artist='Five Iron Frenzy', auth='Logged In', firstName='Micah', gender='M', itemInSession=79, lastName='Long', length=236.09424, level='free', location='Boston-Cambridge-Newton, MA-NH', method='PUT', page='NextSong', registration=1538331630000, sessionId=8, song='Canada', status=200, ts=1538352180000, userAgent='\"Mozilla/5.0 (Windows NT 6.1; WOW64) AppleWebKit/537.36 (KHTML, like Gecko) Chrome/37.0.2062.103 Safari/537.36\"', userId='9'),\n",
              " Row(artist='Adam Lambert', auth='Logged In', firstName='Colin', gender='M', itemInSession=51, lastName='Freeman', length=282.8273, level='paid', location='Bakersfield, CA', method='PUT', page='NextSong', registration=1538173362000, sessionId=29, song='Time For Miracles', status=200, ts=1538352394000, userAgent='Mozilla/5.0 (Windows NT 6.1; WOW64; rv:31.0) Gecko/20100101 Firefox/31.0', userId='30'),\n",
              " Row(artist='Enigma', auth='Logged In', firstName='Micah', gender='M', itemInSession=80, lastName='Long', length=262.71302, level='free', location='Boston-Cambridge-Newton, MA-NH', method='PUT', page='NextSong', registration=1538331630000, sessionId=8, song='Knocking On Forbidden Doors', status=200, ts=1538352416000, userAgent='\"Mozilla/5.0 (Windows NT 6.1; WOW64) AppleWebKit/537.36 (KHTML, like Gecko) Chrome/37.0.2062.103 Safari/537.36\"', userId='9'),\n",
              " Row(artist='Daft Punk', auth='Logged In', firstName='Colin', gender='M', itemInSession=52, lastName='Freeman', length=223.60771, level='paid', location='Bakersfield, CA', method='PUT', page='NextSong', registration=1538173362000, sessionId=29, song='Harder Better Faster Stronger', status=200, ts=1538352676000, userAgent='Mozilla/5.0 (Windows NT 6.1; WOW64; rv:31.0) Gecko/20100101 Firefox/31.0', userId='30')]"
            ]
          },
          "metadata": {
            "tags": []
          },
          "execution_count": 8
        }
      ]
    },
    {
      "cell_type": "markdown",
      "metadata": {
        "id": "NqrB1u6lz_LC",
        "colab_type": "text"
      },
      "source": [
        "Cleaning the dataset \n",
        "- check the shape of the dataset"
      ]
    },
    {
      "cell_type": "code",
      "metadata": {
        "id": "NY_oVrso0RmB",
        "colab_type": "code",
        "colab": {
          "base_uri": "https://localhost:8080/",
          "height": 52
        },
        "outputId": "58e1254d-f681-4118-bb5b-b3dbee1d6208"
      },
      "source": [
        "#number of rows\n",
        "print(df.count())\n",
        "#number of columns\n",
        "print(len(df.columns))"
      ],
      "execution_count": null,
      "outputs": [
        {
          "output_type": "stream",
          "text": [
            "286500\n",
            "18\n"
          ],
          "name": "stdout"
        }
      ]
    },
    {
      "cell_type": "markdown",
      "metadata": {
        "id": "Dm3WUyYA9a9j",
        "colab_type": "text"
      },
      "source": [
        "- Converting categorical columns in usable format"
      ]
    },
    {
      "cell_type": "code",
      "metadata": {
        "id": "KFyJ64L2z-w5",
        "colab_type": "code",
        "colab": {}
      },
      "source": [
        "#all categorical columns\n",
        "import re\n",
        "from pyspark.sql.functions import *\n",
        "catg_cols = [i.name for i in df.schema.fields if \"StringType\" in str(i.dataType)]\n",
        "\n",
        "#Remove special characters except ',','-' from String type columns\n",
        "for field in catg_cols:\n",
        "        df = df.withColumn(field, regexp_replace(field, '[^a-zA-Z0-9\\,\\-]', ''))"
      ],
      "execution_count": null,
      "outputs": []
    },
    {
      "cell_type": "code",
      "metadata": {
        "id": "B4xqkpx02XfW",
        "colab_type": "code",
        "colab": {
          "base_uri": "https://localhost:8080/",
          "height": 125
        },
        "outputId": "bad42e70-e7f0-4506-ccf4-11e56edc61ad"
      },
      "source": [
        "df.head(5)"
      ],
      "execution_count": null,
      "outputs": [
        {
          "output_type": "execute_result",
          "data": {
            "text/plain": [
              "[Row(artist='MarthaTilston', auth='LoggedIn', firstName='Colin', gender='M', itemInSession=50, lastName='Freeman', length=277.89016, level='paid', location='Bakersfield,CA', method='PUT', page='NextSong', registration=1538173362000, sessionId=29, song='Rockpools', status=200, ts=1538352117000, userAgent='Mozilla50WindowsNT61WOW64rv310Gecko20100101Firefox310', userId='30'),\n",
              " Row(artist='FiveIronFrenzy', auth='LoggedIn', firstName='Micah', gender='M', itemInSession=79, lastName='Long', length=236.09424, level='free', location='Boston-Cambridge-Newton,MA-NH', method='PUT', page='NextSong', registration=1538331630000, sessionId=8, song='Canada', status=200, ts=1538352180000, userAgent='Mozilla50WindowsNT61WOW64AppleWebKit53736KHTML,likeGeckoChrome3702062103Safari53736', userId='9'),\n",
              " Row(artist='AdamLambert', auth='LoggedIn', firstName='Colin', gender='M', itemInSession=51, lastName='Freeman', length=282.8273, level='paid', location='Bakersfield,CA', method='PUT', page='NextSong', registration=1538173362000, sessionId=29, song='TimeForMiracles', status=200, ts=1538352394000, userAgent='Mozilla50WindowsNT61WOW64rv310Gecko20100101Firefox310', userId='30'),\n",
              " Row(artist='Enigma', auth='LoggedIn', firstName='Micah', gender='M', itemInSession=80, lastName='Long', length=262.71302, level='free', location='Boston-Cambridge-Newton,MA-NH', method='PUT', page='NextSong', registration=1538331630000, sessionId=8, song='KnockingOnForbiddenDoors', status=200, ts=1538352416000, userAgent='Mozilla50WindowsNT61WOW64AppleWebKit53736KHTML,likeGeckoChrome3702062103Safari53736', userId='9'),\n",
              " Row(artist='DaftPunk', auth='LoggedIn', firstName='Colin', gender='M', itemInSession=52, lastName='Freeman', length=223.60771, level='paid', location='Bakersfield,CA', method='PUT', page='NextSong', registration=1538173362000, sessionId=29, song='HarderBetterFasterStronger', status=200, ts=1538352676000, userAgent='Mozilla50WindowsNT61WOW64rv310Gecko20100101Firefox310', userId='30')]"
            ]
          },
          "metadata": {
            "tags": []
          },
          "execution_count": 10
        }
      ]
    },
    {
      "cell_type": "code",
      "metadata": {
        "id": "n6mAWnar3jaF",
        "colab_type": "code",
        "colab": {}
      },
      "source": [
        "from pyspark.sql.types import *\n",
        "#Treating timestamp(ts) column\n",
        "df = df.withColumn('interaction_time', from_unixtime(col('ts').cast(LongType())/1000).cast(TimestampType()))\n",
        "#Get month from the timestamp\n",
        "df = df.withColumn('month', month(col('interaction_time')))\n",
        "#store the date from timestamp in the date column\n",
        "df = df.withColumn('date', from_unixtime(col('ts')/1000).cast(DateType()))"
      ],
      "execution_count": null,
      "outputs": []
    },
    {
      "cell_type": "code",
      "metadata": {
        "id": "yNm538ld4PFY",
        "colab_type": "code",
        "colab": {}
      },
      "source": [
        "#cast user Id as longtype\n",
        "df = df.withColumn('userId', col('userId').cast(LongType()))\n",
        "#remove user id null\n",
        "df = df.filter(col('userId').isNotNull())"
      ],
      "execution_count": null,
      "outputs": []
    },
    {
      "cell_type": "code",
      "metadata": {
        "id": "GXtqxAPg4_os",
        "colab_type": "code",
        "colab": {
          "base_uri": "https://localhost:8080/",
          "height": 141
        },
        "outputId": "b5b6fd0c-8722-4c98-c029-8060998cba02"
      },
      "source": [
        "df.groupBy('auth').count().show()"
      ],
      "execution_count": null,
      "outputs": [
        {
          "output_type": "stream",
          "text": [
            "+---------+------+\n",
            "|     auth| count|\n",
            "+---------+------+\n",
            "| LoggedIn|278102|\n",
            "|Cancelled|    52|\n",
            "+---------+------+\n",
            "\n"
          ],
          "name": "stdout"
        }
      ]
    },
    {
      "cell_type": "code",
      "metadata": {
        "id": "UDrmy8j505xw",
        "colab_type": "code",
        "colab": {
          "base_uri": "https://localhost:8080/",
          "height": 212
        },
        "outputId": "704dd211-78c4-4ee7-a5c9-95c8d72ba703"
      },
      "source": [
        "#Split location and extract state from it\n",
        "df = df.withColumn('location', split(col('location'),',').getItem(1))\n",
        "df.select('location').show(5)"
      ],
      "execution_count": null,
      "outputs": [
        {
          "output_type": "stream",
          "text": [
            "+--------+\n",
            "|location|\n",
            "+--------+\n",
            "|      CA|\n",
            "|   MA-NH|\n",
            "|      CA|\n",
            "|   MA-NH|\n",
            "|      CA|\n",
            "+--------+\n",
            "only showing top 5 rows\n",
            "\n"
          ],
          "name": "stdout"
        }
      ]
    },
    {
      "cell_type": "markdown",
      "metadata": {
        "id": "LGSgE8XN-xCO",
        "colab_type": "text"
      },
      "source": [
        "- Number of days since they registered\n"
      ]
    },
    {
      "cell_type": "code",
      "metadata": {
        "id": "seQUA4xr-bdR",
        "colab_type": "code",
        "colab": {}
      },
      "source": [
        "#for each user, find the last time record in the dataset\n",
        "latest_record =  df.groupBy('userId').agg(max('ts').alias('latest_time'))\n",
        "\n",
        "#concat the latest_time feature using join on User id with the original df\n",
        "#dividing by 24*3600*1000 to get days\n",
        "df = latest_record.join(df, on='userId').\\\n",
        "withColumn('days_registered', ((col('latest_time')-col('registration'))/86400000).cast(IntegerType()))"
      ],
      "execution_count": null,
      "outputs": []
    },
    {
      "cell_type": "markdown",
      "metadata": {
        "id": "XCLrO8Fx824i",
        "colab_type": "text"
      },
      "source": [
        "A customer is churned if:\n",
        "- there is row where page is cancel confirmation\n",
        "- Auth column's value is cancelled \n",
        "As the data includes a row for everytime a user uses the app\n",
        "We check for the above cases at a user level and if their occurence is observed we consider the customer as churned\n"
      ]
    },
    {
      "cell_type": "code",
      "metadata": {
        "id": "og99WJuy6t1I",
        "colab_type": "code",
        "colab": {}
      },
      "source": [
        "#create a label for all the users who cancelled subscription i.e. churned\n",
        "#aggregate and look for records where a user cancelled\n",
        "churn_df = df.withColumn('label',\n",
        "                             when((col('page').\\\n",
        "                                   isin(['Cancellation Confirmation','Cancel'])) | \\\n",
        "                                  (col('auth')=='Cancelled'),1 ).\\\n",
        "                             otherwise(0)).\\\n",
        "    groupby('userId').agg(sum('label').alias('label')).\\\n",
        "    withColumn('label', when(col('label')>=1 ,1).otherwise(0))\n",
        "\n",
        "\n",
        "\n",
        "#join these churn_yn with the original to get an additional column named label\n",
        "df = df.join(churn_df, on='userId')#cancelled_rows>=1 then Churn (1) else 0"
      ],
      "execution_count": null,
      "outputs": []
    },
    {
      "cell_type": "code",
      "metadata": {
        "id": "L6y4CcjW6srB",
        "colab_type": "code",
        "colab": {
          "base_uri": "https://localhost:8080/",
          "height": 141
        },
        "outputId": "cdb83a44-0bd0-4f12-9e6a-2d5dd636b9ae"
      },
      "source": [
        "#Check distribution\n",
        "df.groupBy('label').count().show()"
      ],
      "execution_count": null,
      "outputs": [
        {
          "output_type": "stream",
          "text": [
            "+-----+------+\n",
            "|label| count|\n",
            "+-----+------+\n",
            "|    0|233290|\n",
            "|    1| 44864|\n",
            "+-----+------+\n",
            "\n"
          ],
          "name": "stdout"
        }
      ]
    },
    {
      "cell_type": "markdown",
      "metadata": {
        "id": "pfbj4DGBQx43",
        "colab_type": "text"
      },
      "source": [
        "How often does users watch sessions in a day or a month on an average?\n",
        "- Monthly & daily Average number of sessions"
      ]
    },
    {
      "cell_type": "code",
      "metadata": {
        "id": "lFVQMNZLLDFt",
        "colab_type": "code",
        "colab": {
          "base_uri": "https://localhost:8080/",
          "height": 212
        },
        "outputId": "97f911f6-7f7e-4b7e-8d0f-8a68b7a60880"
      },
      "source": [
        "df.groupBy('sessionID').count().show(5)\n",
        "#We can see from the results that session IDs are repeating across records considerably"
      ],
      "execution_count": null,
      "outputs": [
        {
          "output_type": "stream",
          "text": [
            "+---------+-----+\n",
            "|sessionID|count|\n",
            "+---------+-----+\n",
            "|        1|  680|\n",
            "|      637|   55|\n",
            "|     1342|   21|\n",
            "|     1487|   97|\n",
            "|     1560|    8|\n",
            "+---------+-----+\n",
            "only showing top 5 rows\n",
            "\n"
          ],
          "name": "stdout"
        }
      ]
    },
    {
      "cell_type": "code",
      "metadata": {
        "id": "oU_AtwcDOdfq",
        "colab_type": "code",
        "colab": {
          "base_uri": "https://localhost:8080/",
          "height": 212
        },
        "outputId": "7e851180-b012-4f29-d676-9cf4c196ee2f"
      },
      "source": [
        "#Average number of sessions seen on a daily basis by a user\n",
        "df.groupby('userID','date').agg(countDistinct('sessionID')).\\\n",
        "    groupBy('userID').avg('count(sessionID)').show(5)"
      ],
      "execution_count": null,
      "outputs": [
        {
          "output_type": "stream",
          "text": [
            "+------+---------------------+\n",
            "|userID|avg(count(sessionID))|\n",
            "+------+---------------------+\n",
            "|     2|                  1.0|\n",
            "|     3|                  1.0|\n",
            "|     4|   1.0769230769230769|\n",
            "|     5|                  1.0|\n",
            "|     6|   1.1785714285714286|\n",
            "+------+---------------------+\n",
            "only showing top 5 rows\n",
            "\n"
          ],
          "name": "stdout"
        }
      ]
    },
    {
      "cell_type": "code",
      "metadata": {
        "colab_type": "code",
        "id": "IDXnnDN_QO3Z",
        "colab": {
          "base_uri": "https://localhost:8080/",
          "height": 212
        },
        "outputId": "abd1881b-06a2-4f73-a7ae-9f45073d6880"
      },
      "source": [
        "#Average sessions seen on a monthly basis by a user\n",
        "df.groupby('userID','month').agg(countDistinct('sessionID')).\\\n",
        "    groupBy('userID').avg('count(sessionID)').show(5)"
      ],
      "execution_count": null,
      "outputs": [
        {
          "output_type": "stream",
          "text": [
            "+------+---------------------+\n",
            "|userID|avg(count(sessionID))|\n",
            "+------+---------------------+\n",
            "|     2|                  3.5|\n",
            "|     3|                  4.0|\n",
            "|     4|                 11.0|\n",
            "|     5|                  3.0|\n",
            "|     6|                 12.0|\n",
            "+------+---------------------+\n",
            "only showing top 5 rows\n",
            "\n"
          ],
          "name": "stdout"
        }
      ]
    },
    {
      "cell_type": "code",
      "metadata": {
        "id": "zha1gNfLSc7N",
        "colab_type": "code",
        "colab": {
          "base_uri": "https://localhost:8080/",
          "height": 105
        },
        "outputId": "29eda905-fd64-494e-9b12-4da5da8c0b25"
      },
      "source": [
        "#daily averages\n",
        "user_session_df = df.groupby('userID','date').agg(countDistinct('sessionID')).\\\n",
        "    groupBy('userID').avg('count(sessionID)').\\\n",
        "    withColumnRenamed('avg(count(sessionID))', 'daily_avg')\n",
        "#monthly averages  \n",
        "monthly_averages = df.groupby('userID','month').agg(countDistinct('sessionID')).\\\n",
        "  groupBy('userID').avg('count(sessionID)').\\\n",
        "  withColumnRenamed('avg(count(sessionID))', 'monthly_avg')\n",
        "\n",
        "user_session_df= user_session_df.join(monthly_averages, on='userID')\n",
        "user_session_df.head(5)"
      ],
      "execution_count": null,
      "outputs": [
        {
          "output_type": "execute_result",
          "data": {
            "text/plain": [
              "[Row(userID=2, daily_avg=1.0, monthly_avg=3.5),\n",
              " Row(userID=3, daily_avg=1.0, monthly_avg=4.0),\n",
              " Row(userID=4, daily_avg=1.0769230769230769, monthly_avg=11.0),\n",
              " Row(userID=5, daily_avg=1.0, monthly_avg=3.0),\n",
              " Row(userID=6, daily_avg=1.1785714285714286, monthly_avg=12.0)]"
            ]
          },
          "metadata": {
            "tags": []
          },
          "execution_count": 17
        }
      ]
    },
    {
      "cell_type": "markdown",
      "metadata": {
        "id": "5GSVtrVSFPFp",
        "colab_type": "text"
      },
      "source": [
        "A customer can have a paid service and change back to free if they feel like it's not worth it\n",
        "Or it can be other way round that they were using free before then moved to paid service\n",
        "So what is their last known status can give us a valuable info about engagement status\n",
        "- Last active status known (Paid or Free)"
      ]
    },
    {
      "cell_type": "code",
      "metadata": {
        "id": "NjMNmeg4Et0l",
        "colab_type": "code",
        "colab": {
          "base_uri": "https://localhost:8080/",
          "height": 141
        },
        "outputId": "ad122a6c-b1ca-4f82-98b3-b829085a33af"
      },
      "source": [
        "df.groupBy('level').count().show()"
      ],
      "execution_count": null,
      "outputs": [
        {
          "output_type": "stream",
          "text": [
            "+-----+------+\n",
            "|level| count|\n",
            "+-----+------+\n",
            "| paid|222433|\n",
            "| free| 55721|\n",
            "+-----+------+\n",
            "\n"
          ],
          "name": "stdout"
        }
      ]
    },
    {
      "cell_type": "code",
      "metadata": {
        "id": "kvMfQujcIhGB",
        "colab_type": "code",
        "colab": {}
      },
      "source": [
        "#create a dataframe with latest level for each user\n",
        "last_level = df.orderBy('ts', ascending=False).groupBy('userID').agg(first('level').alias('level'))\n",
        "#Converting Gender to a numeric column (Male-1, Female-0)\n",
        "from pyspark.sql import functions as F\n",
        "last_level = last_level.withColumn(\"level\", F.when(last_level.level == \"paid\",1).otherwise(0))\n",
        "\n",
        "#Drop exisitng label column\n",
        "df = df.drop('level')\n",
        "\n",
        "#join to get the existing label\n",
        "df = df.join(last_level, on='userID')"
      ],
      "execution_count": null,
      "outputs": []
    },
    {
      "cell_type": "code",
      "metadata": {
        "id": "HpCFZB1JN_Tu",
        "colab_type": "code",
        "colab": {
          "base_uri": "https://localhost:8080/",
          "height": 141
        },
        "outputId": "d0b3fc94-c7e1-45e4-ab8c-f41ecfe7c372"
      },
      "source": [
        "df.groupBy('level').count().show()"
      ],
      "execution_count": null,
      "outputs": [
        {
          "output_type": "stream",
          "text": [
            "+-----+------+\n",
            "|level| count|\n",
            "+-----+------+\n",
            "|    1|236188|\n",
            "|    0| 41966|\n",
            "+-----+------+\n",
            "\n"
          ],
          "name": "stdout"
        }
      ]
    },
    {
      "cell_type": "code",
      "metadata": {
        "id": "AChwOH0PdTgz",
        "colab_type": "code",
        "colab": {
          "base_uri": "https://localhost:8080/",
          "height": 34
        },
        "outputId": "2de6ad2d-3e45-46fc-aea2-08f71ec17fe3"
      },
      "source": [
        "#QC number of users in our session df for each user\n",
        "user_session_df.count()"
      ],
      "execution_count": null,
      "outputs": [
        {
          "output_type": "execute_result",
          "data": {
            "text/plain": [
              "225"
            ]
          },
          "metadata": {
            "tags": []
          },
          "execution_count": 25
        }
      ]
    },
    {
      "cell_type": "code",
      "metadata": {
        "id": "tAc-NAyzenzu",
        "colab_type": "code",
        "colab": {
          "base_uri": "https://localhost:8080/",
          "height": 123
        },
        "outputId": "32a1e020-23fc-484f-8e18-30dfa91dba3c"
      },
      "source": [
        "#distinct count of users in our original frame\n",
        "df.agg(countDistinct('userID')).show()\n",
        "\n",
        "#As numbers are equal we are good"
      ],
      "execution_count": null,
      "outputs": [
        {
          "output_type": "stream",
          "text": [
            "+-------------+\n",
            "|count(userID)|\n",
            "+-------------+\n",
            "|          225|\n",
            "+-------------+\n",
            "\n"
          ],
          "name": "stdout"
        }
      ]
    },
    {
      "cell_type": "markdown",
      "metadata": {
        "id": "kwvy7nyy3tB7",
        "colab_type": "text"
      },
      "source": [
        "Average length of a session : How much time a user spent in a session on an average"
      ]
    },
    {
      "cell_type": "code",
      "metadata": {
        "id": "Hf_w1Gpc3sHR",
        "colab_type": "code",
        "colab": {}
      },
      "source": [
        "session_length = df.groupBy('userID').avg('length').\\\n",
        "withColumnRenamed('avg(length)', 'length')\n",
        "\n",
        "#Drop actual length column , replace it with avg of length \n",
        "df = df.drop('length')\n",
        "df = df.join(session_length, on='userId')"
      ],
      "execution_count": null,
      "outputs": []
    },
    {
      "cell_type": "markdown",
      "metadata": {
        "id": "Y_YX5H2LgBok",
        "colab_type": "text"
      },
      "source": [
        "Same as averages for sessions , we can consider the same for items accessed by the user everytime they visit the app at a daily and monthly level \n",
        "- Average items at a daily and monthly level"
      ]
    },
    {
      "cell_type": "code",
      "metadata": {
        "id": "oy-godzkfcIi",
        "colab_type": "code",
        "colab": {
          "base_uri": "https://localhost:8080/",
          "height": 123
        },
        "outputId": "35574727-92da-445a-9e74-8abd45e840b7"
      },
      "source": [
        "#distinct count of items seen in an session\n",
        "df.agg(countDistinct('itemInSession')).show()"
      ],
      "execution_count": null,
      "outputs": [
        {
          "output_type": "stream",
          "text": [
            "+--------------------+\n",
            "|count(itemInSession)|\n",
            "+--------------------+\n",
            "|                1311|\n",
            "+--------------------+\n",
            "\n"
          ],
          "name": "stdout"
        }
      ]
    },
    {
      "cell_type": "code",
      "metadata": {
        "id": "mddRpLEXfMkt",
        "colab_type": "code",
        "colab": {
          "base_uri": "https://localhost:8080/",
          "height": 105
        },
        "outputId": "7adb5553-a42a-418e-f522-aca1c9c472b3"
      },
      "source": [
        "#Daily Average\n",
        "user_item_df = df.groupby('userID','date').agg(max('itemInSession')).\\\n",
        "groupBy('userID').avg('max(itemInSession)').\\\n",
        "withColumnRenamed('avg(max(itemInSession))', 'avg_daily_items')\n",
        "\n",
        "monthly_avg = df.groupby('userID','month').agg(max('itemInSession')).\\\n",
        "groupBy('userID').avg('max(itemInSession)').\\\n",
        "withColumnRenamed('avg(max(itemInSession))', 'avg_monthly_items')\n",
        "\n",
        "user_item_df=user_item_df.join(monthly_avg, on='userID')\n",
        "user_item_df.head(5)"
      ],
      "execution_count": null,
      "outputs": [
        {
          "output_type": "execute_result",
          "data": {
            "text/plain": [
              "[Row(userID=2, avg_daily_items=141.11111111111111, avg_monthly_items=317.5),\n",
              " Row(userID=3, avg_daily_items=72.4, avg_monthly_items=138.0),\n",
              " Row(userID=4, avg_daily_items=138.30769230769232, avg_monthly_items=487.5),\n",
              " Row(userID=5, avg_daily_items=40.285714285714285, avg_monthly_items=73.0),\n",
              " Row(userID=6, avg_daily_items=217.89285714285714, avg_monthly_items=556.0)]"
            ]
          },
          "metadata": {
            "tags": []
          },
          "execution_count": 21
        }
      ]
    },
    {
      "cell_type": "code",
      "metadata": {
        "id": "kyHsnFq7hiYV",
        "colab_type": "code",
        "colab": {
          "base_uri": "https://localhost:8080/",
          "height": 123
        },
        "outputId": "2fc93d40-a5cd-490b-b58c-5ca7ac33dd2f"
      },
      "source": [
        "df.agg(countDistinct('artist')).show()"
      ],
      "execution_count": null,
      "outputs": [
        {
          "output_type": "stream",
          "text": [
            "+-------------+\n",
            "|count(artist)|\n",
            "+-------------+\n",
            "|        17537|\n",
            "+-------------+\n",
            "\n"
          ],
          "name": "stdout"
        }
      ]
    },
    {
      "cell_type": "markdown",
      "metadata": {
        "id": "Qt7I7krfl8W7",
        "colab_type": "text"
      },
      "source": [
        "- Duration of each session :<br>\n",
        "Under same session id -> max(time stamp) - min(time stamp)\n",
        "How long does user uses the App? can also tell us a lot about their engagement behavior"
      ]
    },
    {
      "cell_type": "code",
      "metadata": {
        "id": "HucTBlnXl5Ae",
        "colab_type": "code",
        "colab": {}
      },
      "source": [
        "session_duration_df = df.groupby('userID','date','sessionId').\\\n",
        "    agg(max('ts').alias('end'), min('ts').alias('start')).\\\n",
        "    withColumn('duration_s', (col('end')-col('start'))*0.001).\\\n",
        "    groupby('userID','date').\\\n",
        "    avg('duration_s').\\\n",
        "    groupby('userID').\\\n",
        "    agg(mean('avg(duration_s)').alias('avg_daily_duration')).\\\n",
        "    orderBy('userID', ascending=False)\n",
        "    "
      ],
      "execution_count": null,
      "outputs": []
    },
    {
      "cell_type": "code",
      "metadata": {
        "id": "90SdfB2Sm38n",
        "colab_type": "code",
        "colab": {
          "base_uri": "https://localhost:8080/",
          "height": 105
        },
        "outputId": "e24d548d-0af4-4a32-8bac-003a10f62ef1"
      },
      "source": [
        "#Join with user session dataframe\n",
        "#Append avg session duration in seconds (*0.001 to millisecs) \n",
        "user_session_df= user_session_df.join(session_duration_df, on='userID')\n",
        "user_session_df.head(5)"
      ],
      "execution_count": null,
      "outputs": [
        {
          "output_type": "execute_result",
          "data": {
            "text/plain": [
              "[Row(userID=2, daily_avg=1.0, monthly_avg=3.5, avg_daily_duration=20721.555555555555),\n",
              " Row(userID=3, daily_avg=1.0, monthly_avg=4.0, avg_daily_duration=11766.8),\n",
              " Row(userID=4, daily_avg=1.0769230769230769, monthly_avg=11.0, avg_daily_duration=18382.28846153846),\n",
              " Row(userID=5, daily_avg=1.0, monthly_avg=3.0, avg_daily_duration=5438.857142857143),\n",
              " Row(userID=6, daily_avg=1.1785714285714286, monthly_avg=12.0, avg_daily_duration=25713.011904761905)]"
            ]
          },
          "metadata": {
            "tags": []
          },
          "execution_count": 23
        }
      ]
    },
    {
      "cell_type": "markdown",
      "metadata": {
        "id": "Vjs-OfBbqFeW",
        "colab_type": "text"
      },
      "source": [
        "How many songs does the user listen to in a session?"
      ]
    },
    {
      "cell_type": "code",
      "metadata": {
        "id": "WgaE_d0cnuOh",
        "colab_type": "code",
        "colab": {
          "base_uri": "https://localhost:8080/",
          "height": 212
        },
        "outputId": "8318484d-68ed-44ac-a5f1-ae9f94638697"
      },
      "source": [
        "df.select('song').show(5)"
      ],
      "execution_count": null,
      "outputs": [
        {
          "output_type": "stream",
          "text": [
            "+----------------+\n",
            "|            song|\n",
            "+----------------+\n",
            "|   RollerJubilee|\n",
            "|  ElBaileOficial|\n",
            "|           UseMe|\n",
            "|BlameItOnTheRain|\n",
            "|           Human|\n",
            "+----------------+\n",
            "only showing top 5 rows\n",
            "\n"
          ],
          "name": "stdout"
        }
      ]
    },
    {
      "cell_type": "code",
      "metadata": {
        "id": "y0ORAgpwoEJP",
        "colab_type": "code",
        "colab": {
          "base_uri": "https://localhost:8080/",
          "height": 123
        },
        "outputId": "3cfa5931-d5e3-4ead-c732-bd91a053c9cc"
      },
      "source": [
        "df.groupby('userID','date','sessionID').\\\n",
        "    agg(count('song').alias('num_songs'),).\\\n",
        "    groupby('userID','date').\\\n",
        "    agg(mean('num_songs')).\\\n",
        "    groupby('userID').\\\n",
        "    agg(mean('avg(num_songs)').alias('avg_num_songs')).\\\n",
        "    orderBy('userID', ascending=False).agg(min('avg_num_songs')).show()"
      ],
      "execution_count": null,
      "outputs": [
        {
          "output_type": "stream",
          "text": [
            "+------------------+\n",
            "|min(avg_num_songs)|\n",
            "+------------------+\n",
            "|               3.0|\n",
            "+------------------+\n",
            "\n"
          ],
          "name": "stdout"
        }
      ]
    },
    {
      "cell_type": "code",
      "metadata": {
        "id": "YTmy1woEqYY1",
        "colab_type": "code",
        "colab": {
          "base_uri": "https://localhost:8080/",
          "height": 194
        },
        "outputId": "624de40a-0afb-42cc-d8b8-a295edc20e10"
      },
      "source": [
        "#create a dataframe at a user level capturing number of songs heard on an avg in  a session\n",
        "songs_avg= df.groupby('userID','date','sessionID').\\\n",
        "    agg(countDistinct('song').alias('num_songs'),).\\\n",
        "    groupby('userID','date').\\\n",
        "    avg('num_songs').\\\n",
        "    groupby('userID').\\\n",
        "    agg(mean('avg(num_songs)').alias('avg_num_songs')).\\\n",
        "    orderBy('userID', ascending=False)\n",
        "\n",
        "songs_avg.head(10)"
      ],
      "execution_count": null,
      "outputs": [
        {
          "output_type": "execute_result",
          "data": {
            "text/plain": [
              "[Row(userID=300025, avg_num_songs=61.71052631578947),\n",
              " Row(userID=300024, avg_num_songs=87.0),\n",
              " Row(userID=300023, avg_num_songs=67.45138888888889),\n",
              " Row(userID=300022, avg_num_songs=38.7037037037037),\n",
              " Row(userID=300021, avg_num_songs=60.577777777777776),\n",
              " Row(userID=300020, avg_num_songs=79.33333333333333),\n",
              " Row(userID=300019, avg_num_songs=77.85),\n",
              " Row(userID=300018, avg_num_songs=51.129629629629626),\n",
              " Row(userID=300017, avg_num_songs=52.24),\n",
              " Row(userID=300016, avg_num_songs=39.65384615384615)]"
            ]
          },
          "metadata": {
            "tags": []
          },
          "execution_count": 25
        }
      ]
    },
    {
      "cell_type": "code",
      "metadata": {
        "id": "YglMsbekqtjA",
        "colab_type": "code",
        "colab": {
          "base_uri": "https://localhost:8080/",
          "height": 105
        },
        "outputId": "fbeb76dc-67d1-46dc-d582-ee8f6a6aed06"
      },
      "source": [
        "#Join with user session dataframe\n",
        "#Append avg number of songs\n",
        "user_session_df= user_session_df.join(songs_avg, on='userID')\n",
        "user_session_df.head(5)"
      ],
      "execution_count": null,
      "outputs": [
        {
          "output_type": "execute_result",
          "data": {
            "text/plain": [
              "[Row(userID=2, daily_avg=1.0, monthly_avg=3.5, avg_daily_duration=20721.555555555555, avg_num_songs=82.33333333333333),\n",
              " Row(userID=3, daily_avg=1.0, monthly_avg=4.0, avg_daily_duration=11766.8, avg_num_songs=42.4),\n",
              " Row(userID=4, daily_avg=1.0769230769230769, monthly_avg=11.0, avg_daily_duration=18382.28846153846, avg_num_songs=74.0576923076923),\n",
              " Row(userID=5, daily_avg=1.0, monthly_avg=3.0, avg_daily_duration=5438.857142857143, avg_num_songs=22.857142857142858),\n",
              " Row(userID=6, daily_avg=1.1785714285714286, monthly_avg=12.0, avg_daily_duration=25713.011904761905, avg_num_songs=101.51785714285714)]"
            ]
          },
          "metadata": {
            "tags": []
          },
          "execution_count": 26
        }
      ]
    },
    {
      "cell_type": "markdown",
      "metadata": {
        "id": "8hfNBHMMtVG1",
        "colab_type": "text"
      },
      "source": [
        "Gender Column"
      ]
    },
    {
      "cell_type": "code",
      "metadata": {
        "id": "yakmOq9osS-t",
        "colab_type": "code",
        "colab": {}
      },
      "source": [
        "#Converting Gender to a numeric column (Male-1, Female-0)\n",
        "from pyspark.sql import functions as F\n",
        "df = df.withColumn(\"gender\", F.when(df.gender == \"M\",1).otherwise(0))"
      ],
      "execution_count": null,
      "outputs": []
    },
    {
      "cell_type": "code",
      "metadata": {
        "id": "4eQx_DgguR59",
        "colab_type": "code",
        "colab": {
          "base_uri": "https://localhost:8080/",
          "height": 141
        },
        "outputId": "721673d1-188c-483b-d3eb-05869212e758"
      },
      "source": [
        "df.groupBy('method').count().show()\n",
        "#Not relevant to our problem statement"
      ],
      "execution_count": null,
      "outputs": [
        {
          "output_type": "stream",
          "text": [
            "+------+------+\n",
            "|method| count|\n",
            "+------+------+\n",
            "|   PUT|257818|\n",
            "|   GET| 20336|\n",
            "+------+------+\n",
            "\n"
          ],
          "name": "stdout"
        }
      ]
    },
    {
      "cell_type": "markdown",
      "metadata": {
        "id": "pENcGNkmtxV4",
        "colab_type": "text"
      },
      "source": [
        "### Feature Set"
      ]
    },
    {
      "cell_type": "code",
      "metadata": {
        "id": "1KapTrEDtdxl",
        "colab_type": "code",
        "colab": {}
      },
      "source": [
        "#Drop all the columns not needed\n",
        "#We created derived features from the dropped columns at a user level\n",
        "df = df.drop('auth','userAgent','month','date','interaction_time','registration', 'ts','song','page','itemInSession','sessionID',\\\n",
        "             'artist','firstName','lastName','method','status')\n",
        " \n",
        "#joining user session df with original df to retain imp columns\n",
        "cleaned_df = user_session_df.join(df, on='userID')\n",
        "#drop duplicate rows\n",
        "cleaned_df = cleaned_df.drop_duplicates(['userID'])\n",
        "\n",
        "#Drop userID as they are irrelevant in modeling steps\n",
        "feature_set = cleaned_df.drop('userID').fillna(0)"
      ],
      "execution_count": null,
      "outputs": []
    },
    {
      "cell_type": "code",
      "metadata": {
        "id": "fc8IFPFHvDX-",
        "colab_type": "code",
        "colab": {
          "base_uri": "https://localhost:8080/",
          "height": 34
        },
        "outputId": "b1dab7ad-9b88-4cc5-96b5-6fe2bec2445e"
      },
      "source": [
        "cleaned_df.count() #should be 225 as there are 225 customers"
      ],
      "execution_count": null,
      "outputs": [
        {
          "output_type": "execute_result",
          "data": {
            "text/plain": [
              "225"
            ]
          },
          "metadata": {
            "tags": []
          },
          "execution_count": 42
        }
      ]
    },
    {
      "cell_type": "code",
      "metadata": {
        "id": "n0OclKXZLmDT",
        "colab_type": "code",
        "colab": {
          "base_uri": "https://localhost:8080/",
          "height": 194
        },
        "outputId": "1a730c23-ffb1-426f-c998-8122b5bea9de"
      },
      "source": [
        "df.printSchema()"
      ],
      "execution_count": null,
      "outputs": [
        {
          "output_type": "stream",
          "text": [
            "root\n",
            " |-- userId: long (nullable = true)\n",
            " |-- latest_time: long (nullable = true)\n",
            " |-- gender: integer (nullable = false)\n",
            " |-- location: string (nullable = true)\n",
            " |-- days_registered: integer (nullable = true)\n",
            " |-- label: integer (nullable = false)\n",
            " |-- level: integer (nullable = false)\n",
            " |-- length: double (nullable = true)\n",
            "\n"
          ],
          "name": "stdout"
        }
      ]
    },
    {
      "cell_type": "code",
      "metadata": {
        "id": "TVOlKDpS7AZi",
        "colab_type": "code",
        "colab": {}
      },
      "source": [
        "feature_set = cleaned_df.drop('userID')"
      ],
      "execution_count": null,
      "outputs": []
    },
    {
      "cell_type": "code",
      "metadata": {
        "id": "gptkEW-f2t2s",
        "colab_type": "code",
        "colab": {}
      },
      "source": [
        "#categorical columns\n",
        "cat_cols = [i.name for i in feature_set.schema.fields if \"StringType\" in str(i.dataType)]\n",
        "#numerical columns\n",
        "num_cols = [i.name for i in feature_set.schema.fields if \"IntegerType\" in str(i.dataType)]\n",
        "num_cols.remove('label')"
      ],
      "execution_count": null,
      "outputs": []
    },
    {
      "cell_type": "code",
      "metadata": {
        "id": "lqpa7DNUyMhb",
        "colab_type": "code",
        "colab": {
          "base_uri": "https://localhost:8080/",
          "height": 247
        },
        "outputId": "cad132ca-80ca-43da-c915-b2a5755edf0d"
      },
      "source": [
        "feature_set.printSchema()"
      ],
      "execution_count": null,
      "outputs": [
        {
          "output_type": "stream",
          "text": [
            "root\n",
            " |-- daily_avg: double (nullable = true)\n",
            " |-- monthly_avg: double (nullable = true)\n",
            " |-- avg_daily_duration: double (nullable = true)\n",
            " |-- avg_num_songs: double (nullable = true)\n",
            " |-- latest_time: long (nullable = true)\n",
            " |-- gender: integer (nullable = false)\n",
            " |-- location: string (nullable = true)\n",
            " |-- days_registered: integer (nullable = true)\n",
            " |-- label: integer (nullable = false)\n",
            " |-- level: integer (nullable = false)\n",
            " |-- length: double (nullable = true)\n",
            "\n"
          ],
          "name": "stdout"
        }
      ]
    },
    {
      "cell_type": "markdown",
      "metadata": {
        "id": "wmVU88Yo6CbA",
        "colab_type": "text"
      },
      "source": [
        "### Model Pipeline"
      ]
    },
    {
      "cell_type": "markdown",
      "metadata": {
        "id": "kjX9dZm1-zgA",
        "colab_type": "text"
      },
      "source": [
        "**Observation dataset:**\n",
        "a)Events’ log data\n",
        "\n",
        "**Target/Explanatory Variable:**\n",
        "a)When the event page value is ‘Cancelled\n",
        "b)When the event has ‘Auth’ Colum value as “Cancelled”\n",
        "\n",
        "**Derived features to build the pipeline:**\n",
        "Features we have derived from the events log\n",
        "\n",
        "* Avg. number of sessions logged daily\n",
        "* Avg. number of sessions logged monthly\n",
        "* Avg. time spent per session in seconds\n",
        "* Avg. no. of songs heard daily\n",
        "* Days since registration\n",
        "* Latest Auth status\n",
        "* Paid or FreeList item\n",
        "\n",
        "\n",
        "\n",
        "\n",
        "\n"
      ]
    },
    {
      "cell_type": "code",
      "metadata": {
        "id": "i5741V914Wyl",
        "colab_type": "code",
        "colab": {}
      },
      "source": [
        "from pyspark.ml.feature import OneHotEncoder, StringIndexer, VectorAssembler\n",
        "#Assign indices to each category under categorical columns\n",
        "stages = []\n",
        "\n",
        "#for each categorical variable\n",
        "for categoricalCol in cat_cols:\n",
        "    stringIndexer = StringIndexer(inputCol = categoricalCol, outputCol = categoricalCol + 'Index')\n",
        "    #converting categorical columns to onehot encoded vectors\n",
        "    encoder = OneHotEncoder(inputCols=[stringIndexer.getOutputCol()], outputCols=[categoricalCol + \"classVec\"])\n",
        "    stages += [stringIndexer, encoder]\n",
        "\n",
        "#create the feature vector containing all features\n",
        "#num_cols-all the variable column names which are numeric\n",
        "\n",
        "assemblerInputs = [c + \"classVec\" for c in cat_cols] + num_cols\n",
        "assembler = VectorAssembler(inputCols=assemblerInputs, outputCol=\"features\")\n",
        "stages += [assembler]\n"
      ],
      "execution_count": null,
      "outputs": []
    },
    {
      "cell_type": "code",
      "metadata": {
        "id": "_xA-kjNy7HnS",
        "colab_type": "code",
        "colab": {
          "base_uri": "https://localhost:8080/",
          "height": 34
        },
        "outputId": "d7718290-ec21-47f0-9a05-912c24bfdffb"
      },
      "source": [
        "assembler"
      ],
      "execution_count": null,
      "outputs": [
        {
          "output_type": "execute_result",
          "data": {
            "text/plain": [
              "VectorAssembler_b470cfcfbad1"
            ]
          },
          "metadata": {
            "tags": []
          },
          "execution_count": 34
        }
      ]
    },
    {
      "cell_type": "code",
      "metadata": {
        "id": "SfNJmhGqr47L",
        "colab_type": "code",
        "colab": {
          "base_uri": "https://localhost:8080/",
          "height": 141
        },
        "outputId": "37d0f205-4f4b-4462-b72c-9a3df894d4d5"
      },
      "source": [
        "user_session_df.printSchema()"
      ],
      "execution_count": null,
      "outputs": [
        {
          "output_type": "stream",
          "text": [
            "root\n",
            " |-- userID: long (nullable = true)\n",
            " |-- daily_avg: double (nullable = true)\n",
            " |-- monthly_avg: double (nullable = true)\n",
            " |-- avg_daily_duration: double (nullable = true)\n",
            " |-- avg_num_songs: double (nullable = true)\n",
            "\n"
          ],
          "name": "stdout"
        }
      ]
    },
    {
      "cell_type": "code",
      "metadata": {
        "id": "oXf_vEVE41iG",
        "colab_type": "code",
        "colab": {
          "base_uri": "https://localhost:8080/",
          "height": 551
        },
        "outputId": "f8b9ba0a-ae1a-4934-e055-af38a9d87b14"
      },
      "source": [
        "from pyspark.ml import Pipeline\n",
        "import pandas as pd\n",
        "\n",
        "#Using pipeline to apply all transformations\n",
        "#create a list of all column names\n",
        "all_cols=[]\n",
        "all_cols = feature_set.columns\n",
        "pipeline = Pipeline(stages = stages)\n",
        "#create model object\n",
        "pipelineModel = pipeline.fit(feature_set)\n",
        "#tranform the model dataset\n",
        "model_data = pipelineModel.transform(feature_set)\n",
        "selectedCols = ['features']+all_cols\n",
        "#restore all the transformed columns in the model dataset\n",
        "model_data = model_data.select(selectedCols)\n",
        "\n",
        "#Display in pandas dataframe format\n",
        "pd.DataFrame(model_data.take(5), columns=model_data.columns)"
      ],
      "execution_count": null,
      "outputs": [
        {
          "output_type": "execute_result",
          "data": {
            "text/html": [
              "<div>\n",
              "<style scoped>\n",
              "    .dataframe tbody tr th:only-of-type {\n",
              "        vertical-align: middle;\n",
              "    }\n",
              "\n",
              "    .dataframe tbody tr th {\n",
              "        vertical-align: top;\n",
              "    }\n",
              "\n",
              "    .dataframe thead th {\n",
              "        text-align: right;\n",
              "    }\n",
              "</style>\n",
              "<table border=\"1\" class=\"dataframe\">\n",
              "  <thead>\n",
              "    <tr style=\"text-align: right;\">\n",
              "      <th></th>\n",
              "      <th>features</th>\n",
              "      <th>daily_avg</th>\n",
              "      <th>monthly_avg</th>\n",
              "      <th>avg_daily_duration</th>\n",
              "      <th>avg_num_songs</th>\n",
              "      <th>latest_time</th>\n",
              "      <th>gender</th>\n",
              "      <th>location</th>\n",
              "      <th>days_registered</th>\n",
              "      <th>label</th>\n",
              "      <th>level</th>\n",
              "      <th>length</th>\n",
              "    </tr>\n",
              "  </thead>\n",
              "  <tbody>\n",
              "    <tr>\n",
              "      <th>0</th>\n",
              "      <td>(0.0, 0.0, 0.0, 0.0, 0.0, 0.0, 0.0, 0.0, 1.0, ...</td>\n",
              "      <td>1.000000</td>\n",
              "      <td>3.5</td>\n",
              "      <td>20721.555556</td>\n",
              "      <td>82.333333</td>\n",
              "      <td>1542839404000</td>\n",
              "      <td>0</td>\n",
              "      <td>NC</td>\n",
              "      <td>69</td>\n",
              "      <td>0</td>\n",
              "      <td>1</td>\n",
              "      <td>249.917064</td>\n",
              "    </tr>\n",
              "    <tr>\n",
              "      <th>1</th>\n",
              "      <td>(0.0, 0.0, 0.0, 0.0, 0.0, 0.0, 0.0, 0.0, 0.0, ...</td>\n",
              "      <td>1.000000</td>\n",
              "      <td>4.0</td>\n",
              "      <td>11766.800000</td>\n",
              "      <td>42.400000</td>\n",
              "      <td>1540875543000</td>\n",
              "      <td>1</td>\n",
              "      <td>MT</td>\n",
              "      <td>80</td>\n",
              "      <td>1</td>\n",
              "      <td>1</td>\n",
              "      <td>254.321240</td>\n",
              "    </tr>\n",
              "    <tr>\n",
              "      <th>2</th>\n",
              "      <td>(0.0, 0.0, 0.0, 0.0, 0.0, 0.0, 0.0, 0.0, 0.0, ...</td>\n",
              "      <td>1.076923</td>\n",
              "      <td>11.0</td>\n",
              "      <td>18382.288462</td>\n",
              "      <td>74.057692</td>\n",
              "      <td>1543595548000</td>\n",
              "      <td>1</td>\n",
              "      <td>MD</td>\n",
              "      <td>62</td>\n",
              "      <td>0</td>\n",
              "      <td>1</td>\n",
              "      <td>247.138692</td>\n",
              "    </tr>\n",
              "    <tr>\n",
              "      <th>3</th>\n",
              "      <td>(0.0, 0.0, 0.0, 0.0, 1.0, 0.0, 0.0, 0.0, 0.0, ...</td>\n",
              "      <td>1.000000</td>\n",
              "      <td>3.0</td>\n",
              "      <td>5438.857143</td>\n",
              "      <td>22.857143</td>\n",
              "      <td>1541637201000</td>\n",
              "      <td>1</td>\n",
              "      <td>AZ</td>\n",
              "      <td>48</td>\n",
              "      <td>0</td>\n",
              "      <td>0</td>\n",
              "      <td>245.497186</td>\n",
              "    </tr>\n",
              "    <tr>\n",
              "      <th>4</th>\n",
              "      <td>(0.0, 1.0, 0.0, 0.0, 0.0, 0.0, 0.0, 0.0, 0.0, ...</td>\n",
              "      <td>1.178571</td>\n",
              "      <td>12.0</td>\n",
              "      <td>25713.011905</td>\n",
              "      <td>101.517857</td>\n",
              "      <td>1543531706000</td>\n",
              "      <td>1</td>\n",
              "      <td>TX</td>\n",
              "      <td>256</td>\n",
              "      <td>0</td>\n",
              "      <td>1</td>\n",
              "      <td>249.204344</td>\n",
              "    </tr>\n",
              "  </tbody>\n",
              "</table>\n",
              "</div>"
            ],
            "text/plain": [
              "                                            features  ...      length\n",
              "0  (0.0, 0.0, 0.0, 0.0, 0.0, 0.0, 0.0, 0.0, 1.0, ...  ...  249.917064\n",
              "1  (0.0, 0.0, 0.0, 0.0, 0.0, 0.0, 0.0, 0.0, 0.0, ...  ...  254.321240\n",
              "2  (0.0, 0.0, 0.0, 0.0, 0.0, 0.0, 0.0, 0.0, 0.0, ...  ...  247.138692\n",
              "3  (0.0, 0.0, 0.0, 0.0, 1.0, 0.0, 0.0, 0.0, 0.0, ...  ...  245.497186\n",
              "4  (0.0, 1.0, 0.0, 0.0, 0.0, 0.0, 0.0, 0.0, 0.0, ...  ...  249.204344\n",
              "\n",
              "[5 rows x 12 columns]"
            ]
          },
          "metadata": {
            "tags": []
          },
          "execution_count": 36
        }
      ]
    },
    {
      "cell_type": "code",
      "metadata": {
        "id": "fN_3It-m_Uyt",
        "colab_type": "code",
        "colab": {
          "base_uri": "https://localhost:8080/",
          "height": 212
        },
        "outputId": "e5c5f3ca-cbc8-4247-d423-a5807d3b5a5a"
      },
      "source": [
        "selectedCols"
      ],
      "execution_count": null,
      "outputs": [
        {
          "output_type": "execute_result",
          "data": {
            "text/plain": [
              "['features',\n",
              " 'daily_avg',\n",
              " 'monthly_avg',\n",
              " 'avg_daily_duration',\n",
              " 'avg_num_songs',\n",
              " 'latest_time',\n",
              " 'gender',\n",
              " 'location',\n",
              " 'days_registered',\n",
              " 'level',\n",
              " 'length']"
            ]
          },
          "metadata": {
            "tags": []
          },
          "execution_count": 102
        }
      ]
    },
    {
      "cell_type": "markdown",
      "metadata": {
        "id": "JpCwGiAO7zky",
        "colab_type": "text"
      },
      "source": [
        "### Test and Training set"
      ]
    },
    {
      "cell_type": "code",
      "metadata": {
        "id": "wV5xH5Ni7xTR",
        "colab_type": "code",
        "colab": {
          "base_uri": "https://localhost:8080/",
          "height": 52
        },
        "outputId": "8f451947-985d-40fc-9c2a-567e5d7e01a1"
      },
      "source": [
        "train_data, test_data = model_data.randomSplit([0.75, 0.25], seed = 31)\n",
        "\n",
        "#QC\n",
        "print(train_data.count())\n",
        "print(test_data.count())"
      ],
      "execution_count": null,
      "outputs": [
        {
          "output_type": "stream",
          "text": [
            "153\n",
            "72\n"
          ],
          "name": "stdout"
        }
      ]
    },
    {
      "cell_type": "markdown",
      "metadata": {
        "id": "hIYn2YXiEEK2",
        "colab_type": "text"
      },
      "source": [
        "#### Model Evaluation Standard"
      ]
    },
    {
      "cell_type": "code",
      "metadata": {
        "id": "fT31xXmB_aqp",
        "colab_type": "code",
        "colab": {}
      },
      "source": [
        "def model_eval(results):\n",
        "\n",
        "    from pyspark.ml.evaluation import BinaryClassificationEvaluator\n",
        "    from pyspark.ml.evaluation import  MulticlassClassificationEvaluator\n",
        "\n",
        "    evaluator = BinaryClassificationEvaluator()\n",
        "    print(\"Test_SET (Area Under ROC): \" + str(evaluator.evaluate(results, {evaluator.metricName: \"areaUnderROC\"})))\n",
        "\n",
        "    f1_score_evaluator = MulticlassClassificationEvaluator(metricName='f1')\n",
        "    f1_score = f1_score_evaluator.evaluate(results.select(col('label'), col('prediction')))\n",
        "    print('The F1 score on the test set is {:.2%}'.format(f1_score)) "
      ],
      "execution_count": null,
      "outputs": []
    },
    {
      "cell_type": "markdown",
      "metadata": {
        "id": "Bwx91W5z-_k2",
        "colab_type": "text"
      },
      "source": [
        "#### Logistic Regression"
      ]
    },
    {
      "cell_type": "code",
      "metadata": {
        "id": "EZc0QOZK78AJ",
        "colab_type": "code",
        "colab": {
          "base_uri": "https://localhost:8080/",
          "height": 52
        },
        "outputId": "56025c09-450c-44a9-93f0-e5b3e64585f6"
      },
      "source": [
        "from pyspark.ml.classification import LogisticRegression\n",
        "Logreg = LogisticRegression(featuresCol = 'features', labelCol = 'label', maxIter=15)\n",
        "Log_model = Logreg.fit(train_data)\n",
        "predictions = Log_model.transform(test_data)\n",
        "\n",
        "model_eval(predictions)"
      ],
      "execution_count": null,
      "outputs": [
        {
          "output_type": "stream",
          "text": [
            "Test_SET (Area Under ROC): 0.6501116071428569\n",
            "The F1 score on the test set is 68.52%\n"
          ],
          "name": "stdout"
        }
      ]
    },
    {
      "cell_type": "code",
      "metadata": {
        "id": "d8191zCFW_4V",
        "colab_type": "code",
        "colab": {
          "base_uri": "https://localhost:8080/",
          "height": 312
        },
        "outputId": "822ba65a-3aa9-4225-966e-e68af594c4d9"
      },
      "source": [
        "#plotting the ROC Curve\n",
        "import matplotlib.pyplot as plt\n",
        "trainingSummary = Log_model.summary\n",
        "roc = trainingSummary.roc.toPandas()\n",
        "plt.plot(roc['FPR'],roc['TPR'])\n",
        "plt.ylabel('False Positive Rate')\n",
        "plt.xlabel('True Positive Rate')\n",
        "plt.title('ROC Curve')\n",
        "plt.show()\n",
        "print('Training set ROC: ' + str(trainingSummary.areaUnderROC))"
      ],
      "execution_count": null,
      "outputs": [
        {
          "output_type": "display_data",
          "data": {
            "image/png": "[encoded data removed]",
            "text/plain": [
              "<Figure size 432x288 with 1 Axes>"
            ]
          },
          "metadata": {
            "tags": [],
            "needs_background": "light"
          }
        },
        {
          "output_type": "stream",
          "text": [
            "Training set ROC: 0.9178537511870843\n"
          ],
          "name": "stdout"
        }
      ]
    },
    {
      "cell_type": "markdown",
      "metadata": {
        "id": "gOHUtpI0_SA_",
        "colab_type": "text"
      },
      "source": [
        "#### Gradient Boosting"
      ]
    },
    {
      "cell_type": "code",
      "metadata": {
        "id": "xeTSEV_JA1Qh",
        "colab_type": "code",
        "colab": {}
      },
      "source": [
        "from pyspark.ml.classification import GBTClassifier\n",
        "gradbt = GBTClassifier(maxIter=15)\n",
        "GBT_Model = gradbt.fit(train_data)\n",
        "gbt_predictions = GBT_Model.transform(test_data)"
      ],
      "execution_count": null,
      "outputs": []
    },
    {
      "cell_type": "code",
      "metadata": {
        "id": "VFnQO3qZ_T5J",
        "colab_type": "code",
        "colab": {
          "base_uri": "https://localhost:8080/",
          "height": 52
        },
        "outputId": "9face175-7a7b-4b39-f4d9-3e2b461cbe98"
      },
      "source": [
        "#Evaluation\n",
        "model_eval(gbt_predictions)"
      ],
      "execution_count": null,
      "outputs": [
        {
          "output_type": "stream",
          "text": [
            "Test_SET (Area Under ROC): 0.6160714285714286\n",
            "The F1 score on the test set is 72.79%\n"
          ],
          "name": "stdout"
        }
      ]
    },
    {
      "cell_type": "markdown",
      "metadata": {
        "id": "Aj6Dth-w_dZW",
        "colab_type": "text"
      },
      "source": [
        "#### RandomForest Classifier"
      ]
    },
    {
      "cell_type": "code",
      "metadata": {
        "id": "-tY--fOOAuM6",
        "colab_type": "code",
        "colab": {}
      },
      "source": [
        "from pyspark.ml.classification import LogisticRegression, RandomForestClassifier, GBTClassifier\n",
        "rf = RandomForestClassifier()\n",
        "rf_Model = rf.fit(train_data)\n",
        "rf_predictions = rf_Model.transform(test_data)"
      ],
      "execution_count": null,
      "outputs": []
    },
    {
      "cell_type": "code",
      "metadata": {
        "id": "3rsqeuAJ_c26",
        "colab_type": "code",
        "colab": {
          "base_uri": "https://localhost:8080/",
          "height": 52
        },
        "outputId": "ab18fbac-02c5-4dff-8f00-1e2e318cecf2"
      },
      "source": [
        "#Evaluation\n",
        "model_eval(rf_predictions)"
      ],
      "execution_count": null,
      "outputs": [
        {
          "output_type": "stream",
          "text": [
            "Test_SET (Area Under ROC): 0.6707589285714287\n",
            "The F1 score on the test set is 68.71%\n"
          ],
          "name": "stdout"
        }
      ]
    },
    {
      "cell_type": "markdown",
      "metadata": {
        "id": "c77_n2fb8F6U",
        "colab_type": "text"
      },
      "source": [
        "**Conclusion:**\n",
        "Business context indicates that there is a significant business cost attached to retaining at risk customers, i.e., there is significant cost attached to Type I & Type II error. Therefore, we consider F1 score & ROC instead of Precision & Recall.\n",
        "\n",
        "Based on that criteria we select Random Forest model to identify churn risk.\n",
        "\n",
        "\n",
        "**Next Steps:**\n",
        "1. Model Identifies At Risk customers:\n",
        "2. Customer Segment: We then segment the customers based on the risk\n",
        "    * High Risk --‘lost’ cases\n",
        "    * Low Risk not enough incentivization\n",
        "    * Medium Risk ------> Target\n",
        "3. A/B Test the retention incentives : Roll out customized emails, app notifications to generate insights for the target segment \n"
      ]
    }
  ]
}